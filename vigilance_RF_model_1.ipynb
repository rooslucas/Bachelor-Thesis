{
 "cells": [
  {
   "cell_type": "markdown",
   "metadata": {
    "pycharm": {
     "name": "#%% md\n"
    }
   },
   "source": [
    "# Predicting vigilance using machine learning\n",
    "## Random Forest Model 1\n",
    "Rosalie Lucas (6540384)\n",
    "\n",
    "This is the first model from my thesis predicting drops in vigilance using machine learning.\n",
    "In this model different temperature features will be used to train a random forest. These features are variable between trials.\n",
    "The features are all iButton temperature sensors, FLIR data and distal-proximal gradients calculated from this data."
   ]
  },
  {
   "cell_type": "code",
   "execution_count": 58,
   "metadata": {
    "pycharm": {
     "name": "#%%\n"
    }
   },
   "outputs": [],
   "source": [
    "# Import Libraries needed\n",
    "import pandas as pd\n",
    "import os\n",
    "import numpy as np\n",
    "from matplotlib import pyplot as plt\n",
    "import seaborn as sns\n",
    "%matplotlib inline\n",
    "\n",
    "import warnings\n",
    "warnings.filterwarnings('ignore')\n",
    "\n",
    "\n",
    "from sklearn.model_selection import train_test_split\n",
    "from sklearn import tree\n",
    "from sklearn.tree import DecisionTreeClassifier, export_graphviz\n",
    "from sklearn.ensemble import RandomForestClassifier\n",
    "\n",
    "# Installed Graphviz using Pip3"
   ]
  },
  {
   "cell_type": "code",
   "execution_count": 59,
   "metadata": {
    "pycharm": {
     "name": "#%%\n"
    }
   },
   "outputs": [],
   "source": [
    "PATH = '/Users/roos/Developer/Bachelor-Thesis'"
   ]
  },
  {
   "cell_type": "code",
   "execution_count": 60,
   "metadata": {
    "pycharm": {
     "name": "#%%\n"
    }
   },
   "outputs": [
    {
     "name": "stdout",
     "output_type": "stream",
     "text": [
      "The number of values for feature 9A00000045146841 : 27\n",
      "The number of values for feature F9000000452CCF41 : 65\n",
      "The number of values for feature 76000000452C9741 : 38\n",
      "The number of values for feature 7200000045201D41 : 25\n",
      "The number of values for feature 4B0000004516B141 : 187\n",
      "The number of values for feature CB000000452D7441 : 73\n",
      "The number of values for feature DPG_finger-chest : 366\n",
      "The number of values for feature DPG_nose-forehead : 235\n",
      "The number of values for feature DPG_pinna-mastoid : 63\n",
      "The number of values for feature results : 2 -- [0. 1.]\n",
      "The number of values for feature FLIR_forehead : 1716\n",
      "The number of values for feature FLIR_nose : 1716\n",
      "The number of values for feature FLIR_DPG_nose-forehead : 1716\n",
      "9A00000045146841          0\n",
      "F9000000452CCF41          0\n",
      "76000000452C9741          0\n",
      "7200000045201D41          0\n",
      "4B0000004516B141          0\n",
      "CB000000452D7441          0\n",
      "DPG_finger-chest          0\n",
      "DPG_nose-forehead         0\n",
      "DPG_pinna-mastoid         0\n",
      "results                   0\n",
      "FLIR_forehead             0\n",
      "FLIR_nose                 0\n",
      "FLIR_DPG_nose-forehead    0\n",
      "dtype: int64\n"
     ]
    }
   ],
   "source": [
    "data_file_path = '/Users/roos/Data/all_trials_noNaN2.csv'\n",
    "data_file = pd.read_csv(data_file_path)\n",
    "data = data_file[['9A00000045146841',\n",
    "       'F9000000452CCF41', '76000000452C9741', '7200000045201D41', '4B0000004516B141', 'CB000000452D7441', 'DPG_finger-chest',\n",
    "       'DPG_nose-forehead', 'DPG_pinna-mastoid', 'results', 'FLIR_forehead', 'FLIR_nose', 'FLIR_DPG_nose-forehead']]\n",
    "\n",
    "for column in data:  # Describe the amount of different features in each column (column is a feature)\n",
    "    unique_values = np.unique(data[column])\n",
    "    number_values = len(unique_values)\n",
    "    if number_values < 12:\n",
    "        print(\"The number of values for feature {} : {} -- {}\".format(column, number_values, unique_values))\n",
    "    else:\n",
    "        print(\"The number of values for feature {} : {}\".format(column, number_values))\n",
    "\n",
    "print(data.isnull().sum())"
   ]
  },
  {
   "cell_type": "code",
   "execution_count": 61,
   "metadata": {
    "pycharm": {
     "name": "#%%\n"
    }
   },
   "outputs": [],
   "source": [
    "# plot = sns.pairplot(data, hue='results', palette=\"Set1\")"
   ]
  },
  {
   "cell_type": "code",
   "execution_count": 62,
   "metadata": {
    "pycharm": {
     "name": "#%%\n"
    }
   },
   "outputs": [
    {
     "name": "stdout",
     "output_type": "stream",
     "text": [
      "X shape: (1716, 12)\n",
      "Y shape: (1716,)\n"
     ]
    }
   ],
   "source": [
    "# Splitting the data\n",
    "X = data.drop('results', axis=1).values\n",
    "Y = data['results'].values\n",
    "print('X shape: {}'.format(np.shape(X)))\n",
    "print('Y shape: {}'.format(np.shape(Y)))\n",
    "\n",
    "X_train, X_test, Y_train, Y_test = train_test_split(X, Y, train_size=0.8, test_size=0.2, random_state=0)"
   ]
  },
  {
   "cell_type": "code",
   "execution_count": 78,
   "metadata": {
    "pycharm": {
     "name": "#%%\n"
    }
   },
   "outputs": [
    {
     "name": "stdout",
     "output_type": "stream",
     "text": [
      "0.7645348837209303\n",
      "0.7798833819241983\n"
     ]
    }
   ],
   "source": [
    "dt = DecisionTreeClassifier(max_depth=3, random_state=30)\n",
    "dt.fit(X_train, Y_train)\n",
    "print(Y_test.sum()/len(Y_test))\n",
    "print(Y_train.sum()/(len(Y_train)))\n"
   ]
  },
  {
   "cell_type": "code",
   "execution_count": 64,
   "metadata": {
    "pycharm": {
     "name": "#%%\n"
    }
   },
   "outputs": [
    {
     "data": {
      "text/plain": "<graphviz.files.Source at 0x7fd26f250070>",
      "image/svg+xml": "<?xml version=\"1.0\" encoding=\"UTF-8\" standalone=\"no\"?>\n<!DOCTYPE svg PUBLIC \"-//W3C//DTD SVG 1.1//EN\"\n \"http://www.w3.org/Graphics/SVG/1.1/DTD/svg11.dtd\">\n<!-- Generated by graphviz version 2.47.1 (20210417.1919)\n -->\n<!-- Title: Tree Pages: 1 -->\n<svg width=\"1006pt\" height=\"433pt\"\n viewBox=\"0.00 0.00 1005.50 433.00\" xmlns=\"http://www.w3.org/2000/svg\" xmlns:xlink=\"http://www.w3.org/1999/xlink\">\n<g id=\"graph0\" class=\"graph\" transform=\"scale(1 1) rotate(0) translate(4 429)\">\n<title>Tree</title>\n<polygon fill=\"white\" stroke=\"transparent\" points=\"-4,4 -4,-429 1001.5,-429 1001.5,4 -4,4\"/>\n<!-- 0 -->\n<g id=\"node1\" class=\"node\">\n<title>0</title>\n<path fill=\"#71b9ec\" stroke=\"black\" d=\"M566.5,-425C566.5,-425 427.5,-425 427.5,-425 421.5,-425 415.5,-419 415.5,-413 415.5,-413 415.5,-354 415.5,-354 415.5,-348 421.5,-342 427.5,-342 427.5,-342 566.5,-342 566.5,-342 572.5,-342 578.5,-348 578.5,-354 578.5,-354 578.5,-413 578.5,-413 578.5,-419 572.5,-425 566.5,-425\"/>\n<text text-anchor=\"start\" x=\"423.5\" y=\"-409.8\" font-family=\"Helvetica,sans-Serif\" font-size=\"14.00\">FLIR_forehead ≤ 34.005</text>\n<text text-anchor=\"start\" x=\"461.5\" y=\"-394.8\" font-family=\"Helvetica,sans-Serif\" font-size=\"14.00\">gini = 0.343</text>\n<text text-anchor=\"start\" x=\"448.5\" y=\"-379.8\" font-family=\"Helvetica,sans-Serif\" font-size=\"14.00\">samples = 1372</text>\n<text text-anchor=\"start\" x=\"439\" y=\"-364.8\" font-family=\"Helvetica,sans-Serif\" font-size=\"14.00\">value = [302, 1070]</text>\n<text text-anchor=\"start\" x=\"464\" y=\"-349.8\" font-family=\"Helvetica,sans-Serif\" font-size=\"14.00\">class = 1.0</text>\n</g>\n<!-- 1 -->\n<g id=\"node2\" class=\"node\">\n<title>1</title>\n<path fill=\"#67b4eb\" stroke=\"black\" d=\"M438.5,-306C438.5,-306 323.5,-306 323.5,-306 317.5,-306 311.5,-300 311.5,-294 311.5,-294 311.5,-235 311.5,-235 311.5,-229 317.5,-223 323.5,-223 323.5,-223 438.5,-223 438.5,-223 444.5,-223 450.5,-229 450.5,-235 450.5,-235 450.5,-294 450.5,-294 450.5,-300 444.5,-306 438.5,-306\"/>\n<text text-anchor=\"start\" x=\"319.5\" y=\"-290.8\" font-family=\"Helvetica,sans-Serif\" font-size=\"14.00\">FLIR_nose ≤ 27.844</text>\n<text text-anchor=\"start\" x=\"345.5\" y=\"-275.8\" font-family=\"Helvetica,sans-Serif\" font-size=\"14.00\">gini = 0.308</text>\n<text text-anchor=\"start\" x=\"332.5\" y=\"-260.8\" font-family=\"Helvetica,sans-Serif\" font-size=\"14.00\">samples = 1211</text>\n<text text-anchor=\"start\" x=\"326.5\" y=\"-245.8\" font-family=\"Helvetica,sans-Serif\" font-size=\"14.00\">value = [230, 981]</text>\n<text text-anchor=\"start\" x=\"348\" y=\"-230.8\" font-family=\"Helvetica,sans-Serif\" font-size=\"14.00\">class = 1.0</text>\n</g>\n<!-- 0&#45;&gt;1 -->\n<g id=\"edge1\" class=\"edge\">\n<title>0&#45;&gt;1</title>\n<path fill=\"none\" stroke=\"black\" d=\"M456.75,-341.91C447.58,-332.65 437.74,-322.73 428.3,-313.21\"/>\n<polygon fill=\"black\" stroke=\"black\" points=\"430.7,-310.66 421.17,-306.02 425.73,-315.59 430.7,-310.66\"/>\n<text text-anchor=\"middle\" x=\"421.07\" y=\"-327.32\" font-family=\"Helvetica,sans-Serif\" font-size=\"14.00\">True</text>\n</g>\n<!-- 8 -->\n<g id=\"node9\" class=\"node\">\n<title>8</title>\n<path fill=\"#d9ecfa\" stroke=\"black\" d=\"M699.5,-306C699.5,-306 528.5,-306 528.5,-306 522.5,-306 516.5,-300 516.5,-294 516.5,-294 516.5,-235 516.5,-235 516.5,-229 522.5,-223 528.5,-223 528.5,-223 699.5,-223 699.5,-223 705.5,-223 711.5,-229 711.5,-235 711.5,-235 711.5,-294 711.5,-294 711.5,-300 705.5,-306 699.5,-306\"/>\n<text text-anchor=\"start\" x=\"524.5\" y=\"-290.8\" font-family=\"Helvetica,sans-Serif\" font-size=\"14.00\">76000000452C9741 ≤ 31.882</text>\n<text text-anchor=\"start\" x=\"578.5\" y=\"-275.8\" font-family=\"Helvetica,sans-Serif\" font-size=\"14.00\">gini = 0.494</text>\n<text text-anchor=\"start\" x=\"569\" y=\"-260.8\" font-family=\"Helvetica,sans-Serif\" font-size=\"14.00\">samples = 161</text>\n<text text-anchor=\"start\" x=\"567\" y=\"-245.8\" font-family=\"Helvetica,sans-Serif\" font-size=\"14.00\">value = [72, 89]</text>\n<text text-anchor=\"start\" x=\"581\" y=\"-230.8\" font-family=\"Helvetica,sans-Serif\" font-size=\"14.00\">class = 1.0</text>\n</g>\n<!-- 0&#45;&gt;8 -->\n<g id=\"edge8\" class=\"edge\">\n<title>0&#45;&gt;8</title>\n<path fill=\"none\" stroke=\"black\" d=\"M537.59,-341.91C546.85,-332.65 556.77,-322.73 566.29,-313.21\"/>\n<polygon fill=\"black\" stroke=\"black\" points=\"568.88,-315.57 573.48,-306.02 563.93,-310.62 568.88,-315.57\"/>\n<text text-anchor=\"middle\" x=\"573.48\" y=\"-327.32\" font-family=\"Helvetica,sans-Serif\" font-size=\"14.00\">False</text>\n</g>\n<!-- 2 -->\n<g id=\"node3\" class=\"node\">\n<title>2</title>\n<path fill=\"#4ea7e8\" stroke=\"black\" d=\"M251.5,-187C251.5,-187 112.5,-187 112.5,-187 106.5,-187 100.5,-181 100.5,-175 100.5,-175 100.5,-116 100.5,-116 100.5,-110 106.5,-104 112.5,-104 112.5,-104 251.5,-104 251.5,-104 257.5,-104 263.5,-110 263.5,-116 263.5,-116 263.5,-175 263.5,-175 263.5,-181 257.5,-187 251.5,-187\"/>\n<text text-anchor=\"start\" x=\"108.5\" y=\"-171.8\" font-family=\"Helvetica,sans-Serif\" font-size=\"14.00\">FLIR_forehead ≤ 33.375</text>\n<text text-anchor=\"start\" x=\"150\" y=\"-156.8\" font-family=\"Helvetica,sans-Serif\" font-size=\"14.00\">gini = 0.17</text>\n<text text-anchor=\"start\" x=\"137\" y=\"-141.8\" font-family=\"Helvetica,sans-Serif\" font-size=\"14.00\">samples = 266</text>\n<text text-anchor=\"start\" x=\"131.5\" y=\"-126.8\" font-family=\"Helvetica,sans-Serif\" font-size=\"14.00\">value = [25, 241]</text>\n<text text-anchor=\"start\" x=\"149\" y=\"-111.8\" font-family=\"Helvetica,sans-Serif\" font-size=\"14.00\">class = 1.0</text>\n</g>\n<!-- 1&#45;&gt;2 -->\n<g id=\"edge2\" class=\"edge\">\n<title>1&#45;&gt;2</title>\n<path fill=\"none\" stroke=\"black\" d=\"M311.96,-222.91C295.13,-213.02 277.02,-202.37 259.82,-192.25\"/>\n<polygon fill=\"black\" stroke=\"black\" points=\"261.31,-189.07 250.92,-187.02 257.77,-195.11 261.31,-189.07\"/>\n</g>\n<!-- 5 -->\n<g id=\"node6\" class=\"node\">\n<title>5</title>\n<path fill=\"#70b8ec\" stroke=\"black\" d=\"M468.5,-187C468.5,-187 293.5,-187 293.5,-187 287.5,-187 281.5,-181 281.5,-175 281.5,-175 281.5,-116 281.5,-116 281.5,-110 287.5,-104 293.5,-104 293.5,-104 468.5,-104 468.5,-104 474.5,-104 480.5,-110 480.5,-116 480.5,-116 480.5,-175 480.5,-175 480.5,-181 474.5,-187 468.5,-187\"/>\n<text text-anchor=\"start\" x=\"289.5\" y=\"-171.8\" font-family=\"Helvetica,sans-Serif\" font-size=\"14.00\">CB000000452D7441 ≤ 32.984</text>\n<text text-anchor=\"start\" x=\"349\" y=\"-156.8\" font-family=\"Helvetica,sans-Serif\" font-size=\"14.00\">gini = 0.34</text>\n<text text-anchor=\"start\" x=\"336\" y=\"-141.8\" font-family=\"Helvetica,sans-Serif\" font-size=\"14.00\">samples = 945</text>\n<text text-anchor=\"start\" x=\"326.5\" y=\"-126.8\" font-family=\"Helvetica,sans-Serif\" font-size=\"14.00\">value = [205, 740]</text>\n<text text-anchor=\"start\" x=\"348\" y=\"-111.8\" font-family=\"Helvetica,sans-Serif\" font-size=\"14.00\">class = 1.0</text>\n</g>\n<!-- 1&#45;&gt;5 -->\n<g id=\"edge5\" class=\"edge\">\n<title>1&#45;&gt;5</title>\n<path fill=\"none\" stroke=\"black\" d=\"M381,-222.91C381,-214.65 381,-205.86 381,-197.3\"/>\n<polygon fill=\"black\" stroke=\"black\" points=\"384.5,-197.02 381,-187.02 377.5,-197.02 384.5,-197.02\"/>\n</g>\n<!-- 3 -->\n<g id=\"node4\" class=\"node\">\n<title>3</title>\n<path fill=\"#43a2e6\" stroke=\"black\" d=\"M98,-68C98,-68 12,-68 12,-68 6,-68 0,-62 0,-56 0,-56 0,-12 0,-12 0,-6 6,0 12,0 12,0 98,0 98,0 104,0 110,-6 110,-12 110,-12 110,-56 110,-56 110,-62 104,-68 98,-68\"/>\n<text text-anchor=\"start\" x=\"19.5\" y=\"-52.8\" font-family=\"Helvetica,sans-Serif\" font-size=\"14.00\">gini = 0.094</text>\n<text text-anchor=\"start\" x=\"10\" y=\"-37.8\" font-family=\"Helvetica,sans-Serif\" font-size=\"14.00\">samples = 182</text>\n<text text-anchor=\"start\" x=\"8\" y=\"-22.8\" font-family=\"Helvetica,sans-Serif\" font-size=\"14.00\">value = [9, 173]</text>\n<text text-anchor=\"start\" x=\"22\" y=\"-7.8\" font-family=\"Helvetica,sans-Serif\" font-size=\"14.00\">class = 1.0</text>\n</g>\n<!-- 2&#45;&gt;3 -->\n<g id=\"edge3\" class=\"edge\">\n<title>2&#45;&gt;3</title>\n<path fill=\"none\" stroke=\"black\" d=\"M134.71,-103.73C123.81,-94.33 112.24,-84.35 101.38,-74.99\"/>\n<polygon fill=\"black\" stroke=\"black\" points=\"103.48,-72.18 93.62,-68.3 98.91,-77.48 103.48,-72.18\"/>\n</g>\n<!-- 4 -->\n<g id=\"node5\" class=\"node\">\n<title>4</title>\n<path fill=\"#68b4eb\" stroke=\"black\" d=\"M226,-68C226,-68 140,-68 140,-68 134,-68 128,-62 128,-56 128,-56 128,-12 128,-12 128,-6 134,0 140,0 140,0 226,0 226,0 232,0 238,-6 238,-12 238,-12 238,-56 238,-56 238,-62 232,-68 226,-68\"/>\n<text text-anchor=\"start\" x=\"147.5\" y=\"-52.8\" font-family=\"Helvetica,sans-Serif\" font-size=\"14.00\">gini = 0.308</text>\n<text text-anchor=\"start\" x=\"142\" y=\"-37.8\" font-family=\"Helvetica,sans-Serif\" font-size=\"14.00\">samples = 84</text>\n<text text-anchor=\"start\" x=\"136\" y=\"-22.8\" font-family=\"Helvetica,sans-Serif\" font-size=\"14.00\">value = [16, 68]</text>\n<text text-anchor=\"start\" x=\"150\" y=\"-7.8\" font-family=\"Helvetica,sans-Serif\" font-size=\"14.00\">class = 1.0</text>\n</g>\n<!-- 2&#45;&gt;4 -->\n<g id=\"edge4\" class=\"edge\">\n<title>2&#45;&gt;4</title>\n<path fill=\"none\" stroke=\"black\" d=\"M182.37,-103.73C182.45,-95.52 182.53,-86.86 182.6,-78.56\"/>\n<polygon fill=\"black\" stroke=\"black\" points=\"186.1,-78.33 182.7,-68.3 179.1,-78.27 186.1,-78.33\"/>\n</g>\n<!-- 6 -->\n<g id=\"node7\" class=\"node\">\n<title>6</title>\n<path fill=\"#8dc7f0\" stroke=\"black\" d=\"M372,-68C372,-68 272,-68 272,-68 266,-68 260,-62 260,-56 260,-56 260,-12 260,-12 260,-6 266,0 272,0 272,0 372,0 372,0 378,0 384,-6 384,-12 384,-12 384,-56 384,-56 384,-62 378,-68 372,-68\"/>\n<text text-anchor=\"start\" x=\"286.5\" y=\"-52.8\" font-family=\"Helvetica,sans-Serif\" font-size=\"14.00\">gini = 0.418</text>\n<text text-anchor=\"start\" x=\"277\" y=\"-37.8\" font-family=\"Helvetica,sans-Serif\" font-size=\"14.00\">samples = 373</text>\n<text text-anchor=\"start\" x=\"268\" y=\"-22.8\" font-family=\"Helvetica,sans-Serif\" font-size=\"14.00\">value = [111, 262]</text>\n<text text-anchor=\"start\" x=\"289\" y=\"-7.8\" font-family=\"Helvetica,sans-Serif\" font-size=\"14.00\">class = 1.0</text>\n</g>\n<!-- 5&#45;&gt;6 -->\n<g id=\"edge6\" class=\"edge\">\n<title>5&#45;&gt;6</title>\n<path fill=\"none\" stroke=\"black\" d=\"M359.03,-103.73C354.36,-95.06 349.42,-85.9 344.73,-77.18\"/>\n<polygon fill=\"black\" stroke=\"black\" points=\"347.77,-75.44 339.94,-68.3 341.6,-78.76 347.77,-75.44\"/>\n</g>\n<!-- 7 -->\n<g id=\"node8\" class=\"node\">\n<title>7</title>\n<path fill=\"#60b0ea\" stroke=\"black\" d=\"M507.5,-68C507.5,-68 414.5,-68 414.5,-68 408.5,-68 402.5,-62 402.5,-56 402.5,-56 402.5,-12 402.5,-12 402.5,-6 408.5,0 414.5,0 414.5,0 507.5,0 507.5,0 513.5,0 519.5,-6 519.5,-12 519.5,-12 519.5,-56 519.5,-56 519.5,-62 513.5,-68 507.5,-68\"/>\n<text text-anchor=\"start\" x=\"425.5\" y=\"-52.8\" font-family=\"Helvetica,sans-Serif\" font-size=\"14.00\">gini = 0.275</text>\n<text text-anchor=\"start\" x=\"416\" y=\"-37.8\" font-family=\"Helvetica,sans-Serif\" font-size=\"14.00\">samples = 572</text>\n<text text-anchor=\"start\" x=\"410.5\" y=\"-22.8\" font-family=\"Helvetica,sans-Serif\" font-size=\"14.00\">value = [94, 478]</text>\n<text text-anchor=\"start\" x=\"428\" y=\"-7.8\" font-family=\"Helvetica,sans-Serif\" font-size=\"14.00\">class = 1.0</text>\n</g>\n<!-- 5&#45;&gt;7 -->\n<g id=\"edge7\" class=\"edge\">\n<title>5&#45;&gt;7</title>\n<path fill=\"none\" stroke=\"black\" d=\"M410.79,-103.73C417.25,-94.88 424.1,-85.51 430.59,-76.63\"/>\n<polygon fill=\"black\" stroke=\"black\" points=\"433.6,-78.44 436.67,-68.3 427.95,-74.31 433.6,-78.44\"/>\n</g>\n<!-- 9 -->\n<g id=\"node10\" class=\"node\">\n<title>9</title>\n<path fill=\"#4ba6e7\" stroke=\"black\" d=\"M717.5,-187C717.5,-187 510.5,-187 510.5,-187 504.5,-187 498.5,-181 498.5,-175 498.5,-175 498.5,-116 498.5,-116 498.5,-110 504.5,-104 510.5,-104 510.5,-104 717.5,-104 717.5,-104 723.5,-104 729.5,-110 729.5,-116 729.5,-116 729.5,-175 729.5,-175 729.5,-181 723.5,-187 717.5,-187\"/>\n<text text-anchor=\"start\" x=\"506.5\" y=\"-171.8\" font-family=\"Helvetica,sans-Serif\" font-size=\"14.00\">FLIR_DPG_nose&#45;forehead ≤ &#45;6.251</text>\n<text text-anchor=\"start\" x=\"578.5\" y=\"-156.8\" font-family=\"Helvetica,sans-Serif\" font-size=\"14.00\">gini = 0.153</text>\n<text text-anchor=\"start\" x=\"573\" y=\"-141.8\" font-family=\"Helvetica,sans-Serif\" font-size=\"14.00\">samples = 36</text>\n<text text-anchor=\"start\" x=\"571\" y=\"-126.8\" font-family=\"Helvetica,sans-Serif\" font-size=\"14.00\">value = [3, 33]</text>\n<text text-anchor=\"start\" x=\"581\" y=\"-111.8\" font-family=\"Helvetica,sans-Serif\" font-size=\"14.00\">class = 1.0</text>\n</g>\n<!-- 8&#45;&gt;9 -->\n<g id=\"edge9\" class=\"edge\">\n<title>8&#45;&gt;9</title>\n<path fill=\"none\" stroke=\"black\" d=\"M614,-222.91C614,-214.65 614,-205.86 614,-197.3\"/>\n<polygon fill=\"black\" stroke=\"black\" points=\"617.5,-197.02 614,-187.02 610.5,-197.02 617.5,-197.02\"/>\n</g>\n<!-- 12 -->\n<g id=\"node13\" class=\"node\">\n<title>12</title>\n<path fill=\"#fae7da\" stroke=\"black\" d=\"M898.5,-187C898.5,-187 759.5,-187 759.5,-187 753.5,-187 747.5,-181 747.5,-175 747.5,-175 747.5,-116 747.5,-116 747.5,-110 753.5,-104 759.5,-104 759.5,-104 898.5,-104 898.5,-104 904.5,-104 910.5,-110 910.5,-116 910.5,-116 910.5,-175 910.5,-175 910.5,-181 904.5,-187 898.5,-187\"/>\n<text text-anchor=\"start\" x=\"755.5\" y=\"-171.8\" font-family=\"Helvetica,sans-Serif\" font-size=\"14.00\">FLIR_forehead ≤ 34.324</text>\n<text text-anchor=\"start\" x=\"793.5\" y=\"-156.8\" font-family=\"Helvetica,sans-Serif\" font-size=\"14.00\">gini = 0.495</text>\n<text text-anchor=\"start\" x=\"784\" y=\"-141.8\" font-family=\"Helvetica,sans-Serif\" font-size=\"14.00\">samples = 125</text>\n<text text-anchor=\"start\" x=\"782\" y=\"-126.8\" font-family=\"Helvetica,sans-Serif\" font-size=\"14.00\">value = [69, 56]</text>\n<text text-anchor=\"start\" x=\"796\" y=\"-111.8\" font-family=\"Helvetica,sans-Serif\" font-size=\"14.00\">class = 0.0</text>\n</g>\n<!-- 8&#45;&gt;12 -->\n<g id=\"edge12\" class=\"edge\">\n<title>8&#45;&gt;12</title>\n<path fill=\"none\" stroke=\"black\" d=\"M688.59,-222.91C707.02,-212.88 726.88,-202.07 745.69,-191.84\"/>\n<polygon fill=\"black\" stroke=\"black\" points=\"747.43,-194.88 754.54,-187.02 744.08,-188.73 747.43,-194.88\"/>\n</g>\n<!-- 10 -->\n<g id=\"node11\" class=\"node\">\n<title>10</title>\n<path fill=\"#e58139\" stroke=\"black\" d=\"M622.5,-68C622.5,-68 551.5,-68 551.5,-68 545.5,-68 539.5,-62 539.5,-56 539.5,-56 539.5,-12 539.5,-12 539.5,-6 545.5,0 551.5,0 551.5,0 622.5,0 622.5,0 628.5,0 634.5,-6 634.5,-12 634.5,-12 634.5,-56 634.5,-56 634.5,-62 628.5,-68 622.5,-68\"/>\n<text text-anchor=\"start\" x=\"559\" y=\"-52.8\" font-family=\"Helvetica,sans-Serif\" font-size=\"14.00\">gini = 0.0</text>\n<text text-anchor=\"start\" x=\"549.5\" y=\"-37.8\" font-family=\"Helvetica,sans-Serif\" font-size=\"14.00\">samples = 1</text>\n<text text-anchor=\"start\" x=\"547.5\" y=\"-22.8\" font-family=\"Helvetica,sans-Serif\" font-size=\"14.00\">value = [1, 0]</text>\n<text text-anchor=\"start\" x=\"554\" y=\"-7.8\" font-family=\"Helvetica,sans-Serif\" font-size=\"14.00\">class = 0.0</text>\n</g>\n<!-- 9&#45;&gt;10 -->\n<g id=\"edge10\" class=\"edge\">\n<title>9&#45;&gt;10</title>\n<path fill=\"none\" stroke=\"black\" d=\"M603.95,-103.73C601.9,-95.43 599.74,-86.67 597.67,-78.28\"/>\n<polygon fill=\"black\" stroke=\"black\" points=\"601,-77.17 595.21,-68.3 594.21,-78.85 601,-77.17\"/>\n</g>\n<!-- 11 -->\n<g id=\"node12\" class=\"node\">\n<title>11</title>\n<path fill=\"#45a3e7\" stroke=\"black\" d=\"M743,-68C743,-68 665,-68 665,-68 659,-68 653,-62 653,-56 653,-56 653,-12 653,-12 653,-6 659,0 665,0 665,0 743,0 743,0 749,0 755,-6 755,-12 755,-12 755,-56 755,-56 755,-62 749,-68 743,-68\"/>\n<text text-anchor=\"start\" x=\"668.5\" y=\"-52.8\" font-family=\"Helvetica,sans-Serif\" font-size=\"14.00\">gini = 0.108</text>\n<text text-anchor=\"start\" x=\"663\" y=\"-37.8\" font-family=\"Helvetica,sans-Serif\" font-size=\"14.00\">samples = 35</text>\n<text text-anchor=\"start\" x=\"661\" y=\"-22.8\" font-family=\"Helvetica,sans-Serif\" font-size=\"14.00\">value = [2, 33]</text>\n<text text-anchor=\"start\" x=\"671\" y=\"-7.8\" font-family=\"Helvetica,sans-Serif\" font-size=\"14.00\">class = 1.0</text>\n</g>\n<!-- 9&#45;&gt;11 -->\n<g id=\"edge11\" class=\"edge\">\n<title>9&#45;&gt;11</title>\n<path fill=\"none\" stroke=\"black\" d=\"M647.51,-103.73C654.93,-94.7 662.8,-85.12 670.23,-76.08\"/>\n<polygon fill=\"black\" stroke=\"black\" points=\"672.98,-78.25 676.63,-68.3 667.58,-73.8 672.98,-78.25\"/>\n</g>\n<!-- 13 -->\n<g id=\"node14\" class=\"node\">\n<title>13</title>\n<path fill=\"#f8dcc8\" stroke=\"black\" d=\"M872,-68C872,-68 786,-68 786,-68 780,-68 774,-62 774,-56 774,-56 774,-12 774,-12 774,-6 780,0 786,0 786,0 872,0 872,0 878,0 884,-6 884,-12 884,-12 884,-56 884,-56 884,-62 878,-68 872,-68\"/>\n<text text-anchor=\"start\" x=\"793.5\" y=\"-52.8\" font-family=\"Helvetica,sans-Serif\" font-size=\"14.00\">gini = 0.487</text>\n<text text-anchor=\"start\" x=\"784\" y=\"-37.8\" font-family=\"Helvetica,sans-Serif\" font-size=\"14.00\">samples = 119</text>\n<text text-anchor=\"start\" x=\"782\" y=\"-22.8\" font-family=\"Helvetica,sans-Serif\" font-size=\"14.00\">value = [69, 50]</text>\n<text text-anchor=\"start\" x=\"796\" y=\"-7.8\" font-family=\"Helvetica,sans-Serif\" font-size=\"14.00\">class = 0.0</text>\n</g>\n<!-- 12&#45;&gt;13 -->\n<g id=\"edge13\" class=\"edge\">\n<title>12&#45;&gt;13</title>\n<path fill=\"none\" stroke=\"black\" d=\"M829,-103.73C829,-95.52 829,-86.86 829,-78.56\"/>\n<polygon fill=\"black\" stroke=\"black\" points=\"832.5,-78.3 829,-68.3 825.5,-78.3 832.5,-78.3\"/>\n</g>\n<!-- 14 -->\n<g id=\"node15\" class=\"node\">\n<title>14</title>\n<path fill=\"#399de5\" stroke=\"black\" d=\"M985.5,-68C985.5,-68 914.5,-68 914.5,-68 908.5,-68 902.5,-62 902.5,-56 902.5,-56 902.5,-12 902.5,-12 902.5,-6 908.5,0 914.5,0 914.5,0 985.5,0 985.5,0 991.5,0 997.5,-6 997.5,-12 997.5,-12 997.5,-56 997.5,-56 997.5,-62 991.5,-68 985.5,-68\"/>\n<text text-anchor=\"start\" x=\"922\" y=\"-52.8\" font-family=\"Helvetica,sans-Serif\" font-size=\"14.00\">gini = 0.0</text>\n<text text-anchor=\"start\" x=\"912.5\" y=\"-37.8\" font-family=\"Helvetica,sans-Serif\" font-size=\"14.00\">samples = 6</text>\n<text text-anchor=\"start\" x=\"910.5\" y=\"-22.8\" font-family=\"Helvetica,sans-Serif\" font-size=\"14.00\">value = [0, 6]</text>\n<text text-anchor=\"start\" x=\"917\" y=\"-7.8\" font-family=\"Helvetica,sans-Serif\" font-size=\"14.00\">class = 1.0</text>\n</g>\n<!-- 12&#45;&gt;14 -->\n<g id=\"edge14\" class=\"edge\">\n<title>12&#45;&gt;14</title>\n<path fill=\"none\" stroke=\"black\" d=\"M874.06,-103.73C884.34,-94.42 895.25,-84.54 905.51,-75.26\"/>\n<polygon fill=\"black\" stroke=\"black\" points=\"908.14,-77.6 913.2,-68.3 903.44,-72.41 908.14,-77.6\"/>\n</g>\n</g>\n</svg>\n"
     },
     "execution_count": 64,
     "metadata": {},
     "output_type": "execute_result"
    }
   ],
   "source": [
    "import graphviz\n",
    "\n",
    "dot_data =  tree.export_graphviz(dt, out_file=None,\n",
    "                                   feature_names=data.drop('results', axis=1).columns,\n",
    "                                   class_names=['0.0', '1.0'],\n",
    "                                   filled=True, rounded=True,\n",
    "                                   special_characters=True)\n",
    "graph = graphviz.Source(dot_data)\n",
    "graph.render('model1.gv', view=True)\n",
    "graph\n"
   ]
  },
  {
   "cell_type": "code",
   "execution_count": 65,
   "metadata": {
    "pycharm": {
     "name": "#%%\n"
    }
   },
   "outputs": [
    {
     "name": "stdout",
     "output_type": "stream",
     "text": [
      "Importance of feature 9A00000045146841:, 0.000\n",
      "Importance of feature F9000000452CCF41:, 0.000\n",
      "Importance of feature 76000000452C9741:, 0.231\n",
      "Importance of feature 7200000045201D41:, 0.000\n",
      "Importance of feature 4B0000004516B141:, 0.000\n",
      "Importance of feature CB000000452D7441:, 0.151\n",
      "Importance of feature DPG_finger-chest:, 0.000\n",
      "Importance of feature DPG_nose-forehead:, 0.000\n",
      "Importance of feature DPG_pinna-mastoid:, 0.000\n",
      "Importance of feature FLIR_forehead:, 0.468\n",
      "Importance of feature FLIR_nose:, 0.118\n",
      "Importance of feature FLIR_DPG_nose-forehead:, 0.032\n"
     ]
    },
    {
     "data": {
      "text/plain": "    index                Variable  Feature Importance Score\n0       9           FLIR_forehead                  0.468443\n1       2        76000000452C9741                  0.230626\n2       5        CB000000452D7441                  0.150595\n3      10               FLIR_nose                  0.117867\n4      11  FLIR_DPG_nose-forehead                  0.032468\n5       0        9A00000045146841                  0.000000\n6       1        F9000000452CCF41                  0.000000\n7       3        7200000045201D41                  0.000000\n8       4        4B0000004516B141                  0.000000\n9       6        DPG_finger-chest                  0.000000\n10      7       DPG_nose-forehead                  0.000000\n11      8       DPG_pinna-mastoid                  0.000000",
      "text/html": "<div>\n<style scoped>\n    .dataframe tbody tr th:only-of-type {\n        vertical-align: middle;\n    }\n\n    .dataframe tbody tr th {\n        vertical-align: top;\n    }\n\n    .dataframe thead th {\n        text-align: right;\n    }\n</style>\n<table border=\"1\" class=\"dataframe\">\n  <thead>\n    <tr style=\"text-align: right;\">\n      <th></th>\n      <th>index</th>\n      <th>Variable</th>\n      <th>Feature Importance Score</th>\n    </tr>\n  </thead>\n  <tbody>\n    <tr>\n      <th>0</th>\n      <td>9</td>\n      <td>FLIR_forehead</td>\n      <td>0.468443</td>\n    </tr>\n    <tr>\n      <th>1</th>\n      <td>2</td>\n      <td>76000000452C9741</td>\n      <td>0.230626</td>\n    </tr>\n    <tr>\n      <th>2</th>\n      <td>5</td>\n      <td>CB000000452D7441</td>\n      <td>0.150595</td>\n    </tr>\n    <tr>\n      <th>3</th>\n      <td>10</td>\n      <td>FLIR_nose</td>\n      <td>0.117867</td>\n    </tr>\n    <tr>\n      <th>4</th>\n      <td>11</td>\n      <td>FLIR_DPG_nose-forehead</td>\n      <td>0.032468</td>\n    </tr>\n    <tr>\n      <th>5</th>\n      <td>0</td>\n      <td>9A00000045146841</td>\n      <td>0.000000</td>\n    </tr>\n    <tr>\n      <th>6</th>\n      <td>1</td>\n      <td>F9000000452CCF41</td>\n      <td>0.000000</td>\n    </tr>\n    <tr>\n      <th>7</th>\n      <td>3</td>\n      <td>7200000045201D41</td>\n      <td>0.000000</td>\n    </tr>\n    <tr>\n      <th>8</th>\n      <td>4</td>\n      <td>4B0000004516B141</td>\n      <td>0.000000</td>\n    </tr>\n    <tr>\n      <th>9</th>\n      <td>6</td>\n      <td>DPG_finger-chest</td>\n      <td>0.000000</td>\n    </tr>\n    <tr>\n      <th>10</th>\n      <td>7</td>\n      <td>DPG_nose-forehead</td>\n      <td>0.000000</td>\n    </tr>\n    <tr>\n      <th>11</th>\n      <td>8</td>\n      <td>DPG_pinna-mastoid</td>\n      <td>0.000000</td>\n    </tr>\n  </tbody>\n</table>\n</div>"
     },
     "execution_count": 65,
     "metadata": {},
     "output_type": "execute_result"
    }
   ],
   "source": [
    "final = ''\n",
    "fi = ''\n",
    "for i, column in enumerate(data.drop('results', axis=1)):\n",
    "    print('Importance of feature {}:, {:.3f}'.format(column, dt.feature_importances_[i]))\n",
    "\n",
    "    fi = pd.DataFrame({'Variable': [column], 'Feature Importance Score': [dt.feature_importances_[i]]})\n",
    "\n",
    "    try:\n",
    "        final = pd.concat([final, fi], ignore_index=True)\n",
    "    except:\n",
    "        final = fi\n",
    "\n",
    "# Ordering the data\n",
    "final_fi = final.sort_values('Feature Importance Score', ascending=False).reset_index()\n",
    "final_fi"
   ]
  },
  {
   "cell_type": "code",
   "execution_count": 66,
   "metadata": {
    "pycharm": {
     "name": "#%%\n"
    }
   },
   "outputs": [
    {
     "name": "stdout",
     "output_type": "stream",
     "text": [
      "Training Accuracy is:  0.7944606413994169\n",
      "Testing Accuracy is:  0.7703488372093024\n"
     ]
    }
   ],
   "source": [
    "# Accuracy on Train\n",
    "print(\"Training Accuracy is: \", dt.score(X_train, Y_train))\n",
    "\n",
    "# Accuracy on Train\n",
    "print(\"Testing Accuracy is: \", dt.score(X_test, Y_test))"
   ]
  },
  {
   "cell_type": "code",
   "execution_count": 81,
   "metadata": {
    "pycharm": {
     "name": "#%%\n"
    }
   },
   "outputs": [
    {
     "name": "stdout",
     "output_type": "stream",
     "text": [
      "Training Accuracy is:  1.0\n",
      "Testing Accuracy is:  0.7383720930232558\n"
     ]
    }
   ],
   "source": [
    "# Building a forest\n",
    "random_forest = RandomForestClassifier(n_estimators=100, random_state=9)\n",
    "random_forest.fit(X_train, Y_train)\n",
    "# prediction_test = random_forest.predict(X=X_test)\n",
    "\n",
    "# Accuracy on Test\n",
    "print(\"Training Accuracy is: \", random_forest.score(X_train, Y_train))\n",
    "# Accuracy on Train\n",
    "print(\"Testing Accuracy is: \", random_forest.score(X_test, Y_test))"
   ]
  },
  {
   "cell_type": "code",
   "execution_count": 82,
   "metadata": {
    "pycharm": {
     "name": "#%%\n"
    }
   },
   "outputs": [
    {
     "name": "stdout",
     "output_type": "stream",
     "text": [
      "Importance of feature 9A00000045146841:, 0.028\n",
      "Importance of feature F9000000452CCF41:, 0.055\n",
      "Importance of feature 76000000452C9741:, 0.028\n",
      "Importance of feature 7200000045201D41:, 0.023\n",
      "Importance of feature 4B0000004516B141:, 0.080\n",
      "Importance of feature CB000000452D7441:, 0.054\n",
      "Importance of feature DPG_finger-chest:, 0.085\n",
      "Importance of feature DPG_nose-forehead:, 0.072\n",
      "Importance of feature DPG_pinna-mastoid:, 0.039\n",
      "Importance of feature FLIR_forehead:, 0.197\n",
      "Importance of feature FLIR_nose:, 0.168\n",
      "Importance of feature FLIR_DPG_nose-forehead:, 0.171\n"
     ]
    },
    {
     "data": {
      "text/plain": "    index                Variable  Feature Importance Score\n0       9           FLIR_forehead                  0.197156\n1      11  FLIR_DPG_nose-forehead                  0.171444\n2      10               FLIR_nose                  0.168079\n3       6        DPG_finger-chest                  0.084690\n4       4        4B0000004516B141                  0.079551\n5       7       DPG_nose-forehead                  0.072229\n6       1        F9000000452CCF41                  0.054732\n7       5        CB000000452D7441                  0.054016\n8       8       DPG_pinna-mastoid                  0.038670\n9       2        76000000452C9741                  0.028399\n10      0        9A00000045146841                  0.027845\n11      3        7200000045201D41                  0.023190",
      "text/html": "<div>\n<style scoped>\n    .dataframe tbody tr th:only-of-type {\n        vertical-align: middle;\n    }\n\n    .dataframe tbody tr th {\n        vertical-align: top;\n    }\n\n    .dataframe thead th {\n        text-align: right;\n    }\n</style>\n<table border=\"1\" class=\"dataframe\">\n  <thead>\n    <tr style=\"text-align: right;\">\n      <th></th>\n      <th>index</th>\n      <th>Variable</th>\n      <th>Feature Importance Score</th>\n    </tr>\n  </thead>\n  <tbody>\n    <tr>\n      <th>0</th>\n      <td>9</td>\n      <td>FLIR_forehead</td>\n      <td>0.197156</td>\n    </tr>\n    <tr>\n      <th>1</th>\n      <td>11</td>\n      <td>FLIR_DPG_nose-forehead</td>\n      <td>0.171444</td>\n    </tr>\n    <tr>\n      <th>2</th>\n      <td>10</td>\n      <td>FLIR_nose</td>\n      <td>0.168079</td>\n    </tr>\n    <tr>\n      <th>3</th>\n      <td>6</td>\n      <td>DPG_finger-chest</td>\n      <td>0.084690</td>\n    </tr>\n    <tr>\n      <th>4</th>\n      <td>4</td>\n      <td>4B0000004516B141</td>\n      <td>0.079551</td>\n    </tr>\n    <tr>\n      <th>5</th>\n      <td>7</td>\n      <td>DPG_nose-forehead</td>\n      <td>0.072229</td>\n    </tr>\n    <tr>\n      <th>6</th>\n      <td>1</td>\n      <td>F9000000452CCF41</td>\n      <td>0.054732</td>\n    </tr>\n    <tr>\n      <th>7</th>\n      <td>5</td>\n      <td>CB000000452D7441</td>\n      <td>0.054016</td>\n    </tr>\n    <tr>\n      <th>8</th>\n      <td>8</td>\n      <td>DPG_pinna-mastoid</td>\n      <td>0.038670</td>\n    </tr>\n    <tr>\n      <th>9</th>\n      <td>2</td>\n      <td>76000000452C9741</td>\n      <td>0.028399</td>\n    </tr>\n    <tr>\n      <th>10</th>\n      <td>0</td>\n      <td>9A00000045146841</td>\n      <td>0.027845</td>\n    </tr>\n    <tr>\n      <th>11</th>\n      <td>3</td>\n      <td>7200000045201D41</td>\n      <td>0.023190</td>\n    </tr>\n  </tbody>\n</table>\n</div>"
     },
     "execution_count": 82,
     "metadata": {},
     "output_type": "execute_result"
    }
   ],
   "source": [
    "fi2 = ''\n",
    "final2 = ''\n",
    "for i, column in enumerate(data.drop('results', axis=1)):\n",
    "    print('Importance of feature {}:, {:.3f}'.format(column, random_forest.feature_importances_[i]))\n",
    "    fi2 = pd.DataFrame({'Variable': [column], 'Feature Importance Score': [random_forest.feature_importances_[i]]})\n",
    "\n",
    "    try:\n",
    "        final2 = pd.concat([final2, fi2], ignore_index=True)\n",
    "    except:\n",
    "        final2 = fi2\n",
    "\n",
    "# Ordering the data\n",
    "final_fi2 = final2.sort_values('Feature Importance Score', ascending=False).reset_index()\n",
    "final_fi2\n"
   ]
  }
 ],
 "metadata": {
  "kernelspec": {
   "display_name": "Python 3",
   "language": "python",
   "name": "python3"
  },
  "language_info": {
   "codemirror_mode": {
    "name": "ipython",
    "version": 3
   },
   "file_extension": ".py",
   "mimetype": "text/x-python",
   "name": "python",
   "nbconvert_exporter": "python",
   "pygments_lexer": "ipython3",
   "version": "3.8.8"
  }
 },
 "nbformat": 4,
 "nbformat_minor": 1
}