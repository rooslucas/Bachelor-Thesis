{
 "cells": [
  {
   "cell_type": "markdown",
   "metadata": {
    "pycharm": {
     "name": "#%% md\n"
    }
   },
   "source": [
    "# Predicting vigilance using machine learning\n",
    "## Random Forest Model 1\n",
    "Rosalie Lucas (6540384)\n",
    "\n",
    "This is the first model from my thesis predicting drops in vigilance using machine learning.\n",
    "In this model different temperature features will be used to train a random forest. These features are variable between trials.\n",
    "The features are all iButton temperature sensors, FLIR data and distal-proximal gradients calculated from this data."
   ]
  },
  {
   "cell_type": "code",
   "execution_count": 65,
   "metadata": {
    "pycharm": {
     "name": "#%%\n"
    }
   },
   "outputs": [],
   "source": [
    "# Import Libraries needed\n",
    "import pandas as pd\n",
    "import os\n",
    "import numpy as np\n",
    "from matplotlib import pyplot as plt\n",
    "import seaborn as sns\n",
    "%matplotlib inline\n",
    "\n",
    "import warnings\n",
    "warnings.filterwarnings('ignore')\n",
    "\n",
    "\n",
    "from sklearn.model_selection import train_test_split\n",
    "from sklearn import tree\n",
    "from sklearn.tree import DecisionTreeClassifier, export_graphviz\n",
    "from sklearn.ensemble import RandomForestClassifier\n",
    "\n",
    "# Installed Graphviz using Pip3"
   ]
  },
  {
   "cell_type": "code",
   "execution_count": 66,
   "metadata": {
    "pycharm": {
     "name": "#%%\n"
    }
   },
   "outputs": [],
   "source": [
    "PATH = '/Users/roos/Developer/Bachelor-Thesis'"
   ]
  },
  {
   "cell_type": "code",
   "execution_count": 67,
   "metadata": {
    "pycharm": {
     "name": "#%%\n"
    }
   },
   "outputs": [
    {
     "name": "stdout",
     "output_type": "stream",
     "text": [
      "The number of values for feature 9A00000045146841 : 27\n",
      "The number of values for feature F9000000452CCF41 : 65\n",
      "The number of values for feature 76000000452C9741 : 38\n",
      "The number of values for feature 7200000045201D41 : 25\n",
      "The number of values for feature 4B0000004516B141 : 187\n",
      "The number of values for feature CB000000452D7441 : 73\n",
      "The number of values for feature DPG_finger-chest : 366\n",
      "The number of values for feature DPG_nose-forehead : 236\n",
      "The number of values for feature DPG_pinna-mastoid : 63\n",
      "The number of values for feature results : 2 -- [0. 1.]\n",
      "The number of values for feature FLIR_forehead : 1717\n",
      "The number of values for feature FLIR_nose : 1717\n",
      "The number of values for feature FLIR_DPG_nose-forehead : 1717\n",
      "9A00000045146841          0\n",
      "F9000000452CCF41          0\n",
      "76000000452C9741          0\n",
      "7200000045201D41          0\n",
      "4B0000004516B141          0\n",
      "CB000000452D7441          0\n",
      "DPG_finger-chest          0\n",
      "DPG_nose-forehead         0\n",
      "DPG_pinna-mastoid         0\n",
      "results                   0\n",
      "FLIR_forehead             0\n",
      "FLIR_nose                 0\n",
      "FLIR_DPG_nose-forehead    0\n",
      "dtype: int64\n"
     ]
    }
   ],
   "source": [
    "data_file_path = '/Users/roos/Data/all_trials_noNaN.csv'\n",
    "data_file = pd.read_csv(data_file_path)\n",
    "data = data_file[['9A00000045146841',\n",
    "       'F9000000452CCF41', '76000000452C9741', '7200000045201D41', '4B0000004516B141', 'CB000000452D7441', 'DPG_finger-chest',\n",
    "       'DPG_nose-forehead', 'DPG_pinna-mastoid', 'results', 'FLIR_forehead', 'FLIR_nose', 'FLIR_DPG_nose-forehead']]\n",
    "\n",
    "for column in data:  # Describe the amount of different features in each column (column is a feature)\n",
    "    unique_values = np.unique(data[column])\n",
    "    number_values = len(unique_values)\n",
    "    if number_values < 12:\n",
    "        print(\"The number of values for feature {} : {} -- {}\".format(column, number_values, unique_values))\n",
    "    else:\n",
    "        print(\"The number of values for feature {} : {}\".format(column, number_values))\n",
    "\n",
    "print(data.isnull().sum())"
   ]
  },
  {
   "cell_type": "code",
   "execution_count": 68,
   "metadata": {
    "pycharm": {
     "name": "#%%\n"
    }
   },
   "outputs": [],
   "source": [
    "# plot = sns.pairplot(data, hue='results', palette=\"Set1\")"
   ]
  },
  {
   "cell_type": "code",
   "execution_count": 69,
   "metadata": {
    "pycharm": {
     "name": "#%%\n"
    }
   },
   "outputs": [
    {
     "name": "stdout",
     "output_type": "stream",
     "text": [
      "X shape: (1719, 12)\n",
      "Y shape: (1719,)\n"
     ]
    }
   ],
   "source": [
    "# Splitting the data\n",
    "X = data.drop('results', axis=1).values\n",
    "Y = data['results'].values\n",
    "print('X shape: {}'.format(np.shape(X)))\n",
    "print('Y shape: {}'.format(np.shape(Y)))\n",
    "\n",
    "X_train, X_test, Y_train, Y_test = train_test_split(X, Y, train_size=0.8, test_size=0.2, random_state=0)"
   ]
  },
  {
   "cell_type": "code",
   "execution_count": 70,
   "metadata": {
    "pycharm": {
     "name": "#%%\n"
    }
   },
   "outputs": [
    {
     "name": "stdout",
     "output_type": "stream",
     "text": [
      "0.8023255813953488\n",
      "0.7709090909090909\n"
     ]
    }
   ],
   "source": [
    "dt = DecisionTreeClassifier(max_depth=3, random_state=30)\n",
    "dt.fit(X_train, Y_train)\n",
    "print(Y_test.sum()/len(Y_test))\n",
    "print(Y_train.sum()/(len(Y_train)))\n"
   ]
  },
  {
   "cell_type": "code",
   "execution_count": 71,
   "metadata": {
    "pycharm": {
     "name": "#%%\n"
    }
   },
   "outputs": [
    {
     "data": {
      "text/plain": "<graphviz.files.Source at 0x7f9858370f10>",
      "image/svg+xml": "<?xml version=\"1.0\" encoding=\"UTF-8\" standalone=\"no\"?>\n<!DOCTYPE svg PUBLIC \"-//W3C//DTD SVG 1.1//EN\"\n \"http://www.w3.org/Graphics/SVG/1.1/DTD/svg11.dtd\">\n<!-- Generated by graphviz version 2.47.1 (20210417.1919)\n -->\n<!-- Title: Tree Pages: 1 -->\n<svg width=\"995pt\" height=\"433pt\"\n viewBox=\"0.00 0.00 995.00 433.00\" xmlns=\"http://www.w3.org/2000/svg\" xmlns:xlink=\"http://www.w3.org/1999/xlink\">\n<g id=\"graph0\" class=\"graph\" transform=\"scale(1 1) rotate(0) translate(4 429)\">\n<title>Tree</title>\n<polygon fill=\"white\" stroke=\"transparent\" points=\"-4,4 -4,-429 991,-429 991,4 -4,4\"/>\n<!-- 0 -->\n<g id=\"node1\" class=\"node\">\n<title>0</title>\n<path fill=\"#74baed\" stroke=\"black\" d=\"M556.5,-425C556.5,-425 425.5,-425 425.5,-425 419.5,-425 413.5,-419 413.5,-413 413.5,-413 413.5,-354 413.5,-354 413.5,-348 419.5,-342 425.5,-342 425.5,-342 556.5,-342 556.5,-342 562.5,-342 568.5,-348 568.5,-354 568.5,-354 568.5,-413 568.5,-413 568.5,-419 562.5,-425 556.5,-425\"/>\n<text text-anchor=\"start\" x=\"421.5\" y=\"-409.8\" font-family=\"Helvetica,sans-Serif\" font-size=\"14.00\">FLIR_forehead ≤ 33.97</text>\n<text text-anchor=\"start\" x=\"455.5\" y=\"-394.8\" font-family=\"Helvetica,sans-Serif\" font-size=\"14.00\">gini = 0.353</text>\n<text text-anchor=\"start\" x=\"442.5\" y=\"-379.8\" font-family=\"Helvetica,sans-Serif\" font-size=\"14.00\">samples = 1375</text>\n<text text-anchor=\"start\" x=\"433\" y=\"-364.8\" font-family=\"Helvetica,sans-Serif\" font-size=\"14.00\">value = [315, 1060]</text>\n<text text-anchor=\"start\" x=\"458\" y=\"-349.8\" font-family=\"Helvetica,sans-Serif\" font-size=\"14.00\">class = 1.0</text>\n</g>\n<!-- 1 -->\n<g id=\"node2\" class=\"node\">\n<title>1</title>\n<path fill=\"#69b5eb\" stroke=\"black\" d=\"M469.5,-306C469.5,-306 300.5,-306 300.5,-306 294.5,-306 288.5,-300 288.5,-294 288.5,-294 288.5,-235 288.5,-235 288.5,-229 294.5,-223 300.5,-223 300.5,-223 469.5,-223 469.5,-223 475.5,-223 481.5,-229 481.5,-235 481.5,-235 481.5,-294 481.5,-294 481.5,-300 475.5,-306 469.5,-306\"/>\n<text text-anchor=\"start\" x=\"296.5\" y=\"-290.8\" font-family=\"Helvetica,sans-Serif\" font-size=\"14.00\">DPG_pinna&#45;mastoid ≤ &#45;5.664</text>\n<text text-anchor=\"start\" x=\"349.5\" y=\"-275.8\" font-family=\"Helvetica,sans-Serif\" font-size=\"14.00\">gini = 0.316</text>\n<text text-anchor=\"start\" x=\"336.5\" y=\"-260.8\" font-family=\"Helvetica,sans-Serif\" font-size=\"14.00\">samples = 1181</text>\n<text text-anchor=\"start\" x=\"330.5\" y=\"-245.8\" font-family=\"Helvetica,sans-Serif\" font-size=\"14.00\">value = [232, 949]</text>\n<text text-anchor=\"start\" x=\"352\" y=\"-230.8\" font-family=\"Helvetica,sans-Serif\" font-size=\"14.00\">class = 1.0</text>\n</g>\n<!-- 0&#45;&gt;1 -->\n<g id=\"edge1\" class=\"edge\">\n<title>0&#45;&gt;1</title>\n<path fill=\"none\" stroke=\"black\" d=\"M454.22,-341.91C445.92,-332.74 437.03,-322.93 428.48,-313.49\"/>\n<polygon fill=\"black\" stroke=\"black\" points=\"431.02,-311.08 421.71,-306.02 425.83,-315.78 431.02,-311.08\"/>\n<text text-anchor=\"middle\" x=\"420.48\" y=\"-327.29\" font-family=\"Helvetica,sans-Serif\" font-size=\"14.00\">True</text>\n</g>\n<!-- 8 -->\n<g id=\"node9\" class=\"node\">\n<title>8</title>\n<path fill=\"#cde6f8\" stroke=\"black\" d=\"M682.5,-306C682.5,-306 511.5,-306 511.5,-306 505.5,-306 499.5,-300 499.5,-294 499.5,-294 499.5,-235 499.5,-235 499.5,-229 505.5,-223 511.5,-223 511.5,-223 682.5,-223 682.5,-223 688.5,-223 694.5,-229 694.5,-235 694.5,-235 694.5,-294 694.5,-294 694.5,-300 688.5,-306 682.5,-306\"/>\n<text text-anchor=\"start\" x=\"507.5\" y=\"-290.8\" font-family=\"Helvetica,sans-Serif\" font-size=\"14.00\">76000000452C9741 ≤ 31.882</text>\n<text text-anchor=\"start\" x=\"565\" y=\"-275.8\" font-family=\"Helvetica,sans-Serif\" font-size=\"14.00\">gini = 0.49</text>\n<text text-anchor=\"start\" x=\"552\" y=\"-260.8\" font-family=\"Helvetica,sans-Serif\" font-size=\"14.00\">samples = 194</text>\n<text text-anchor=\"start\" x=\"547\" y=\"-245.8\" font-family=\"Helvetica,sans-Serif\" font-size=\"14.00\">value = [83, 111]</text>\n<text text-anchor=\"start\" x=\"564\" y=\"-230.8\" font-family=\"Helvetica,sans-Serif\" font-size=\"14.00\">class = 1.0</text>\n</g>\n<!-- 0&#45;&gt;8 -->\n<g id=\"edge8\" class=\"edge\">\n<title>0&#45;&gt;8</title>\n<path fill=\"none\" stroke=\"black\" d=\"M527.78,-341.91C536.08,-332.74 544.97,-322.93 553.52,-313.49\"/>\n<polygon fill=\"black\" stroke=\"black\" points=\"556.17,-315.78 560.29,-306.02 550.98,-311.08 556.17,-315.78\"/>\n<text text-anchor=\"middle\" x=\"561.52\" y=\"-327.29\" font-family=\"Helvetica,sans-Serif\" font-size=\"14.00\">False</text>\n</g>\n<!-- 2 -->\n<g id=\"node3\" class=\"node\">\n<title>2</title>\n<path fill=\"#88c4ef\" stroke=\"black\" d=\"M266.5,-187C266.5,-187 91.5,-187 91.5,-187 85.5,-187 79.5,-181 79.5,-175 79.5,-175 79.5,-116 79.5,-116 79.5,-110 85.5,-104 91.5,-104 91.5,-104 266.5,-104 266.5,-104 272.5,-104 278.5,-110 278.5,-116 278.5,-116 278.5,-175 278.5,-175 278.5,-181 272.5,-187 266.5,-187\"/>\n<text text-anchor=\"start\" x=\"87.5\" y=\"-171.8\" font-family=\"Helvetica,sans-Serif\" font-size=\"14.00\">CB000000452D7441 ≤ 31.424</text>\n<text text-anchor=\"start\" x=\"143.5\" y=\"-156.8\" font-family=\"Helvetica,sans-Serif\" font-size=\"14.00\">gini = 0.407</text>\n<text text-anchor=\"start\" x=\"134\" y=\"-141.8\" font-family=\"Helvetica,sans-Serif\" font-size=\"14.00\">samples = 271</text>\n<text text-anchor=\"start\" x=\"128.5\" y=\"-126.8\" font-family=\"Helvetica,sans-Serif\" font-size=\"14.00\">value = [77, 194]</text>\n<text text-anchor=\"start\" x=\"146\" y=\"-111.8\" font-family=\"Helvetica,sans-Serif\" font-size=\"14.00\">class = 1.0</text>\n</g>\n<!-- 1&#45;&gt;2 -->\n<g id=\"edge2\" class=\"edge\">\n<title>1&#45;&gt;2</title>\n<path fill=\"none\" stroke=\"black\" d=\"M313.53,-222.91C295.95,-212.92 277.02,-202.17 259.07,-191.98\"/>\n<polygon fill=\"black\" stroke=\"black\" points=\"260.77,-188.92 250.34,-187.02 257.31,-195 260.77,-188.92\"/>\n</g>\n<!-- 5 -->\n<g id=\"node6\" class=\"node\">\n<title>5</title>\n<path fill=\"#62b1ea\" stroke=\"black\" d=\"M463,-187C463,-187 309,-187 309,-187 303,-187 297,-181 297,-175 297,-175 297,-116 297,-116 297,-110 303,-104 309,-104 309,-104 463,-104 463,-104 469,-104 475,-110 475,-116 475,-116 475,-175 475,-175 475,-181 469,-187 463,-187\"/>\n<text text-anchor=\"start\" x=\"305\" y=\"-171.8\" font-family=\"Helvetica,sans-Serif\" font-size=\"14.00\">DPG_finger&#45;chest ≤ &#45;2.884</text>\n<text text-anchor=\"start\" x=\"350.5\" y=\"-156.8\" font-family=\"Helvetica,sans-Serif\" font-size=\"14.00\">gini = 0.283</text>\n<text text-anchor=\"start\" x=\"341\" y=\"-141.8\" font-family=\"Helvetica,sans-Serif\" font-size=\"14.00\">samples = 910</text>\n<text text-anchor=\"start\" x=\"331.5\" y=\"-126.8\" font-family=\"Helvetica,sans-Serif\" font-size=\"14.00\">value = [155, 755]</text>\n<text text-anchor=\"start\" x=\"353\" y=\"-111.8\" font-family=\"Helvetica,sans-Serif\" font-size=\"14.00\">class = 1.0</text>\n</g>\n<!-- 1&#45;&gt;5 -->\n<g id=\"edge5\" class=\"edge\">\n<title>1&#45;&gt;5</title>\n<path fill=\"none\" stroke=\"black\" d=\"M385.35,-222.91C385.42,-214.65 385.49,-205.86 385.57,-197.3\"/>\n<polygon fill=\"black\" stroke=\"black\" points=\"389.07,-197.05 385.65,-187.02 382.07,-196.99 389.07,-197.05\"/>\n</g>\n<!-- 3 -->\n<g id=\"node4\" class=\"node\">\n<title>3</title>\n<path fill=\"#56abe9\" stroke=\"black\" d=\"M90,-68C90,-68 12,-68 12,-68 6,-68 0,-62 0,-56 0,-56 0,-12 0,-12 0,-6 6,0 12,0 12,0 90,0 90,0 96,0 102,-6 102,-12 102,-12 102,-56 102,-56 102,-62 96,-68 90,-68\"/>\n<text text-anchor=\"start\" x=\"15.5\" y=\"-52.8\" font-family=\"Helvetica,sans-Serif\" font-size=\"14.00\">gini = 0.224</text>\n<text text-anchor=\"start\" x=\"10\" y=\"-37.8\" font-family=\"Helvetica,sans-Serif\" font-size=\"14.00\">samples = 70</text>\n<text text-anchor=\"start\" x=\"8\" y=\"-22.8\" font-family=\"Helvetica,sans-Serif\" font-size=\"14.00\">value = [9, 61]</text>\n<text text-anchor=\"start\" x=\"18\" y=\"-7.8\" font-family=\"Helvetica,sans-Serif\" font-size=\"14.00\">class = 1.0</text>\n</g>\n<!-- 2&#45;&gt;3 -->\n<g id=\"edge3\" class=\"edge\">\n<title>2&#45;&gt;3</title>\n<path fill=\"none\" stroke=\"black\" d=\"M131.34,-103.73C120.36,-94.33 108.69,-84.35 97.74,-74.99\"/>\n<polygon fill=\"black\" stroke=\"black\" points=\"99.8,-72.14 89.93,-68.3 95.25,-77.46 99.8,-72.14\"/>\n</g>\n<!-- 4 -->\n<g id=\"node5\" class=\"node\">\n<title>4</title>\n<path fill=\"#9ecff2\" stroke=\"black\" d=\"M225.5,-68C225.5,-68 132.5,-68 132.5,-68 126.5,-68 120.5,-62 120.5,-56 120.5,-56 120.5,-12 120.5,-12 120.5,-6 126.5,0 132.5,0 132.5,0 225.5,0 225.5,0 231.5,0 237.5,-6 237.5,-12 237.5,-12 237.5,-56 237.5,-56 237.5,-62 231.5,-68 225.5,-68\"/>\n<text text-anchor=\"start\" x=\"143.5\" y=\"-52.8\" font-family=\"Helvetica,sans-Serif\" font-size=\"14.00\">gini = 0.448</text>\n<text text-anchor=\"start\" x=\"134\" y=\"-37.8\" font-family=\"Helvetica,sans-Serif\" font-size=\"14.00\">samples = 201</text>\n<text text-anchor=\"start\" x=\"128.5\" y=\"-22.8\" font-family=\"Helvetica,sans-Serif\" font-size=\"14.00\">value = [68, 133]</text>\n<text text-anchor=\"start\" x=\"146\" y=\"-7.8\" font-family=\"Helvetica,sans-Serif\" font-size=\"14.00\">class = 1.0</text>\n</g>\n<!-- 2&#45;&gt;4 -->\n<g id=\"edge4\" class=\"edge\">\n<title>2&#45;&gt;4</title>\n<path fill=\"none\" stroke=\"black\" d=\"M179,-103.73C179,-95.52 179,-86.86 179,-78.56\"/>\n<polygon fill=\"black\" stroke=\"black\" points=\"182.5,-78.3 179,-68.3 175.5,-78.3 182.5,-78.3\"/>\n</g>\n<!-- 6 -->\n<g id=\"node7\" class=\"node\">\n<title>6</title>\n<path fill=\"#58ace9\" stroke=\"black\" d=\"M362.5,-68C362.5,-68 269.5,-68 269.5,-68 263.5,-68 257.5,-62 257.5,-56 257.5,-56 257.5,-12 257.5,-12 257.5,-6 263.5,0 269.5,0 269.5,0 362.5,0 362.5,0 368.5,0 374.5,-6 374.5,-12 374.5,-12 374.5,-56 374.5,-56 374.5,-62 368.5,-68 362.5,-68\"/>\n<text text-anchor=\"start\" x=\"280.5\" y=\"-52.8\" font-family=\"Helvetica,sans-Serif\" font-size=\"14.00\">gini = 0.233</text>\n<text text-anchor=\"start\" x=\"271\" y=\"-37.8\" font-family=\"Helvetica,sans-Serif\" font-size=\"14.00\">samples = 595</text>\n<text text-anchor=\"start\" x=\"265.5\" y=\"-22.8\" font-family=\"Helvetica,sans-Serif\" font-size=\"14.00\">value = [80, 515]</text>\n<text text-anchor=\"start\" x=\"283\" y=\"-7.8\" font-family=\"Helvetica,sans-Serif\" font-size=\"14.00\">class = 1.0</text>\n</g>\n<!-- 5&#45;&gt;6 -->\n<g id=\"edge6\" class=\"edge\">\n<title>5&#45;&gt;6</title>\n<path fill=\"none\" stroke=\"black\" d=\"M359.93,-103.73C354.34,-94.97 348.41,-85.7 342.79,-76.91\"/>\n<polygon fill=\"black\" stroke=\"black\" points=\"345.62,-74.84 337.29,-68.3 339.72,-78.61 345.62,-74.84\"/>\n</g>\n<!-- 7 -->\n<g id=\"node8\" class=\"node\">\n<title>7</title>\n<path fill=\"#77bced\" stroke=\"black\" d=\"M497.5,-68C497.5,-68 404.5,-68 404.5,-68 398.5,-68 392.5,-62 392.5,-56 392.5,-56 392.5,-12 392.5,-12 392.5,-6 398.5,0 404.5,0 404.5,0 497.5,0 497.5,0 503.5,0 509.5,-6 509.5,-12 509.5,-12 509.5,-56 509.5,-56 509.5,-62 503.5,-68 497.5,-68\"/>\n<text text-anchor=\"start\" x=\"415.5\" y=\"-52.8\" font-family=\"Helvetica,sans-Serif\" font-size=\"14.00\">gini = 0.363</text>\n<text text-anchor=\"start\" x=\"406\" y=\"-37.8\" font-family=\"Helvetica,sans-Serif\" font-size=\"14.00\">samples = 315</text>\n<text text-anchor=\"start\" x=\"400.5\" y=\"-22.8\" font-family=\"Helvetica,sans-Serif\" font-size=\"14.00\">value = [75, 240]</text>\n<text text-anchor=\"start\" x=\"418\" y=\"-7.8\" font-family=\"Helvetica,sans-Serif\" font-size=\"14.00\">class = 1.0</text>\n</g>\n<!-- 5&#45;&gt;7 -->\n<g id=\"edge7\" class=\"edge\">\n<title>5&#45;&gt;7</title>\n<path fill=\"none\" stroke=\"black\" d=\"M410.2,-103.73C415.4,-94.97 420.9,-85.7 426.12,-76.91\"/>\n<polygon fill=\"black\" stroke=\"black\" points=\"429.14,-78.69 431.23,-68.3 423.12,-75.11 429.14,-78.69\"/>\n</g>\n<!-- 9 -->\n<g id=\"node10\" class=\"node\">\n<title>9</title>\n<path fill=\"#51a9e8\" stroke=\"black\" d=\"M682.5,-187C682.5,-187 511.5,-187 511.5,-187 505.5,-187 499.5,-181 499.5,-175 499.5,-175 499.5,-116 499.5,-116 499.5,-110 505.5,-104 511.5,-104 511.5,-104 682.5,-104 682.5,-104 688.5,-104 694.5,-110 694.5,-116 694.5,-116 694.5,-175 694.5,-175 694.5,-181 688.5,-187 682.5,-187\"/>\n<text text-anchor=\"start\" x=\"507.5\" y=\"-171.8\" font-family=\"Helvetica,sans-Serif\" font-size=\"14.00\">76000000452C9741 ≤ 27.763</text>\n<text text-anchor=\"start\" x=\"561.5\" y=\"-156.8\" font-family=\"Helvetica,sans-Serif\" font-size=\"14.00\">gini = 0.194</text>\n<text text-anchor=\"start\" x=\"556\" y=\"-141.8\" font-family=\"Helvetica,sans-Serif\" font-size=\"14.00\">samples = 46</text>\n<text text-anchor=\"start\" x=\"554\" y=\"-126.8\" font-family=\"Helvetica,sans-Serif\" font-size=\"14.00\">value = [5, 41]</text>\n<text text-anchor=\"start\" x=\"564\" y=\"-111.8\" font-family=\"Helvetica,sans-Serif\" font-size=\"14.00\">class = 1.0</text>\n</g>\n<!-- 8&#45;&gt;9 -->\n<g id=\"edge9\" class=\"edge\">\n<title>8&#45;&gt;9</title>\n<path fill=\"none\" stroke=\"black\" d=\"M597,-222.91C597,-214.65 597,-205.86 597,-197.3\"/>\n<polygon fill=\"black\" stroke=\"black\" points=\"600.5,-197.02 597,-187.02 593.5,-197.02 600.5,-197.02\"/>\n</g>\n<!-- 12 -->\n<g id=\"node13\" class=\"node\">\n<title>12</title>\n<path fill=\"#fcf2eb\" stroke=\"black\" d=\"M897,-187C897,-187 725,-187 725,-187 719,-187 713,-181 713,-175 713,-175 713,-116 713,-116 713,-110 719,-104 725,-104 725,-104 897,-104 897,-104 903,-104 909,-110 909,-116 909,-116 909,-175 909,-175 909,-181 903,-187 897,-187\"/>\n<text text-anchor=\"start\" x=\"721\" y=\"-171.8\" font-family=\"Helvetica,sans-Serif\" font-size=\"14.00\">4B0000004516B141 ≤ 26.074</text>\n<text text-anchor=\"start\" x=\"775.5\" y=\"-156.8\" font-family=\"Helvetica,sans-Serif\" font-size=\"14.00\">gini = 0.499</text>\n<text text-anchor=\"start\" x=\"766\" y=\"-141.8\" font-family=\"Helvetica,sans-Serif\" font-size=\"14.00\">samples = 148</text>\n<text text-anchor=\"start\" x=\"764\" y=\"-126.8\" font-family=\"Helvetica,sans-Serif\" font-size=\"14.00\">value = [78, 70]</text>\n<text text-anchor=\"start\" x=\"778\" y=\"-111.8\" font-family=\"Helvetica,sans-Serif\" font-size=\"14.00\">class = 0.0</text>\n</g>\n<!-- 8&#45;&gt;12 -->\n<g id=\"edge12\" class=\"edge\">\n<title>8&#45;&gt;12</title>\n<path fill=\"none\" stroke=\"black\" d=\"M671.25,-222.91C689.59,-212.88 709.35,-202.07 728.08,-191.84\"/>\n<polygon fill=\"black\" stroke=\"black\" points=\"729.79,-194.89 736.89,-187.02 726.43,-188.75 729.79,-194.89\"/>\n</g>\n<!-- 10 -->\n<g id=\"node11\" class=\"node\">\n<title>10</title>\n<path fill=\"#f2c09c\" stroke=\"black\" d=\"M611.5,-68C611.5,-68 540.5,-68 540.5,-68 534.5,-68 528.5,-62 528.5,-56 528.5,-56 528.5,-12 528.5,-12 528.5,-6 534.5,0 540.5,0 540.5,0 611.5,0 611.5,0 617.5,0 623.5,-6 623.5,-12 623.5,-12 623.5,-56 623.5,-56 623.5,-62 617.5,-68 611.5,-68\"/>\n<text text-anchor=\"start\" x=\"540.5\" y=\"-52.8\" font-family=\"Helvetica,sans-Serif\" font-size=\"14.00\">gini = 0.444</text>\n<text text-anchor=\"start\" x=\"538.5\" y=\"-37.8\" font-family=\"Helvetica,sans-Serif\" font-size=\"14.00\">samples = 3</text>\n<text text-anchor=\"start\" x=\"536.5\" y=\"-22.8\" font-family=\"Helvetica,sans-Serif\" font-size=\"14.00\">value = [2, 1]</text>\n<text text-anchor=\"start\" x=\"543\" y=\"-7.8\" font-family=\"Helvetica,sans-Serif\" font-size=\"14.00\">class = 0.0</text>\n</g>\n<!-- 9&#45;&gt;10 -->\n<g id=\"edge10\" class=\"edge\">\n<title>9&#45;&gt;10</title>\n<path fill=\"none\" stroke=\"black\" d=\"M589.18,-103.73C587.59,-95.43 585.91,-86.67 584.3,-78.28\"/>\n<polygon fill=\"black\" stroke=\"black\" points=\"587.71,-77.46 582.39,-68.3 580.83,-78.78 587.71,-77.46\"/>\n</g>\n<!-- 11 -->\n<g id=\"node12\" class=\"node\">\n<title>11</title>\n<path fill=\"#48a4e7\" stroke=\"black\" d=\"M732,-68C732,-68 654,-68 654,-68 648,-68 642,-62 642,-56 642,-56 642,-12 642,-12 642,-6 648,0 654,0 654,0 732,0 732,0 738,0 744,-6 744,-12 744,-12 744,-56 744,-56 744,-62 738,-68 732,-68\"/>\n<text text-anchor=\"start\" x=\"661\" y=\"-52.8\" font-family=\"Helvetica,sans-Serif\" font-size=\"14.00\">gini = 0.13</text>\n<text text-anchor=\"start\" x=\"652\" y=\"-37.8\" font-family=\"Helvetica,sans-Serif\" font-size=\"14.00\">samples = 43</text>\n<text text-anchor=\"start\" x=\"650\" y=\"-22.8\" font-family=\"Helvetica,sans-Serif\" font-size=\"14.00\">value = [3, 40]</text>\n<text text-anchor=\"start\" x=\"660\" y=\"-7.8\" font-family=\"Helvetica,sans-Serif\" font-size=\"14.00\">class = 1.0</text>\n</g>\n<!-- 9&#45;&gt;11 -->\n<g id=\"edge11\" class=\"edge\">\n<title>9&#45;&gt;11</title>\n<path fill=\"none\" stroke=\"black\" d=\"M632.75,-103.73C640.66,-94.7 649.06,-85.12 656.98,-76.08\"/>\n<polygon fill=\"black\" stroke=\"black\" points=\"659.85,-78.13 663.81,-68.3 654.58,-73.51 659.85,-78.13\"/>\n</g>\n<!-- 13 -->\n<g id=\"node14\" class=\"node\">\n<title>13</title>\n<path fill=\"#399de5\" stroke=\"black\" d=\"M846.5,-68C846.5,-68 775.5,-68 775.5,-68 769.5,-68 763.5,-62 763.5,-56 763.5,-56 763.5,-12 763.5,-12 763.5,-6 769.5,0 775.5,0 775.5,0 846.5,0 846.5,0 852.5,0 858.5,-6 858.5,-12 858.5,-12 858.5,-56 858.5,-56 858.5,-62 852.5,-68 846.5,-68\"/>\n<text text-anchor=\"start\" x=\"783\" y=\"-52.8\" font-family=\"Helvetica,sans-Serif\" font-size=\"14.00\">gini = 0.0</text>\n<text text-anchor=\"start\" x=\"773.5\" y=\"-37.8\" font-family=\"Helvetica,sans-Serif\" font-size=\"14.00\">samples = 6</text>\n<text text-anchor=\"start\" x=\"771.5\" y=\"-22.8\" font-family=\"Helvetica,sans-Serif\" font-size=\"14.00\">value = [0, 6]</text>\n<text text-anchor=\"start\" x=\"778\" y=\"-7.8\" font-family=\"Helvetica,sans-Serif\" font-size=\"14.00\">class = 1.0</text>\n</g>\n<!-- 12&#45;&gt;13 -->\n<g id=\"edge13\" class=\"edge\">\n<title>12&#45;&gt;13</title>\n<path fill=\"none\" stroke=\"black\" d=\"M811,-103.73C811,-95.52 811,-86.86 811,-78.56\"/>\n<polygon fill=\"black\" stroke=\"black\" points=\"814.5,-78.3 811,-68.3 807.5,-78.3 814.5,-78.3\"/>\n</g>\n<!-- 14 -->\n<g id=\"node15\" class=\"node\">\n<title>14</title>\n<path fill=\"#fae8db\" stroke=\"black\" d=\"M975,-68C975,-68 889,-68 889,-68 883,-68 877,-62 877,-56 877,-56 877,-12 877,-12 877,-6 883,0 889,0 889,0 975,0 975,0 981,0 987,-6 987,-12 987,-12 987,-56 987,-56 987,-62 981,-68 975,-68\"/>\n<text text-anchor=\"start\" x=\"896.5\" y=\"-52.8\" font-family=\"Helvetica,sans-Serif\" font-size=\"14.00\">gini = 0.495</text>\n<text text-anchor=\"start\" x=\"887\" y=\"-37.8\" font-family=\"Helvetica,sans-Serif\" font-size=\"14.00\">samples = 142</text>\n<text text-anchor=\"start\" x=\"885\" y=\"-22.8\" font-family=\"Helvetica,sans-Serif\" font-size=\"14.00\">value = [78, 64]</text>\n<text text-anchor=\"start\" x=\"899\" y=\"-7.8\" font-family=\"Helvetica,sans-Serif\" font-size=\"14.00\">class = 0.0</text>\n</g>\n<!-- 12&#45;&gt;14 -->\n<g id=\"edge14\" class=\"edge\">\n<title>12&#45;&gt;14</title>\n<path fill=\"none\" stroke=\"black\" d=\"M856.06,-103.73C866.34,-94.42 877.25,-84.54 887.51,-75.26\"/>\n<polygon fill=\"black\" stroke=\"black\" points=\"890.14,-77.6 895.2,-68.3 885.44,-72.41 890.14,-77.6\"/>\n</g>\n</g>\n</svg>\n"
     },
     "execution_count": 71,
     "metadata": {},
     "output_type": "execute_result"
    }
   ],
   "source": [
    "import graphviz\n",
    "\n",
    "dot_data =  tree.export_graphviz(dt, out_file=None,\n",
    "                                   feature_names=data.drop('results', axis=1).columns,\n",
    "                                   class_names=['0.0', '1.0'],\n",
    "                                   filled=True, rounded=True,\n",
    "                                   special_characters=True)\n",
    "graph = graphviz.Source(dot_data)\n",
    "graph.render('model1.gv', view=True)\n",
    "graph\n"
   ]
  },
  {
   "cell_type": "code",
   "execution_count": 72,
   "metadata": {
    "pycharm": {
     "name": "#%%\n"
    }
   },
   "outputs": [
    {
     "name": "stdout",
     "output_type": "stream",
     "text": [
      "Importance of feature 9A00000045146841:, 0.000\n",
      "Importance of feature F9000000452CCF41:, 0.000\n",
      "Importance of feature 76000000452C9741:, 0.286\n",
      "Importance of feature 7200000045201D41:, 0.000\n",
      "Importance of feature 4B0000004516B141:, 0.069\n",
      "Importance of feature CB000000452D7441:, 0.091\n",
      "Importance of feature DPG_finger-chest:, 0.088\n",
      "Importance of feature DPG_nose-forehead:, 0.000\n",
      "Importance of feature DPG_pinna-mastoid:, 0.108\n",
      "Importance of feature FLIR_forehead:, 0.357\n",
      "Importance of feature FLIR_nose:, 0.000\n",
      "Importance of feature FLIR_DPG_nose-forehead:, 0.000\n"
     ]
    },
    {
     "data": {
      "text/plain": "    index                Variable  Feature Importance Score\n0       9           FLIR_forehead                  0.356870\n1       2        76000000452C9741                  0.285622\n2       8       DPG_pinna-mastoid                  0.108177\n3       5        CB000000452D7441                  0.091357\n4       6        DPG_finger-chest                  0.088495\n5       4        4B0000004516B141                  0.069480\n6       0        9A00000045146841                  0.000000\n7       1        F9000000452CCF41                  0.000000\n8       3        7200000045201D41                  0.000000\n9       7       DPG_nose-forehead                  0.000000\n10     10               FLIR_nose                  0.000000\n11     11  FLIR_DPG_nose-forehead                  0.000000",
      "text/html": "<div>\n<style scoped>\n    .dataframe tbody tr th:only-of-type {\n        vertical-align: middle;\n    }\n\n    .dataframe tbody tr th {\n        vertical-align: top;\n    }\n\n    .dataframe thead th {\n        text-align: right;\n    }\n</style>\n<table border=\"1\" class=\"dataframe\">\n  <thead>\n    <tr style=\"text-align: right;\">\n      <th></th>\n      <th>index</th>\n      <th>Variable</th>\n      <th>Feature Importance Score</th>\n    </tr>\n  </thead>\n  <tbody>\n    <tr>\n      <th>0</th>\n      <td>9</td>\n      <td>FLIR_forehead</td>\n      <td>0.356870</td>\n    </tr>\n    <tr>\n      <th>1</th>\n      <td>2</td>\n      <td>76000000452C9741</td>\n      <td>0.285622</td>\n    </tr>\n    <tr>\n      <th>2</th>\n      <td>8</td>\n      <td>DPG_pinna-mastoid</td>\n      <td>0.108177</td>\n    </tr>\n    <tr>\n      <th>3</th>\n      <td>5</td>\n      <td>CB000000452D7441</td>\n      <td>0.091357</td>\n    </tr>\n    <tr>\n      <th>4</th>\n      <td>6</td>\n      <td>DPG_finger-chest</td>\n      <td>0.088495</td>\n    </tr>\n    <tr>\n      <th>5</th>\n      <td>4</td>\n      <td>4B0000004516B141</td>\n      <td>0.069480</td>\n    </tr>\n    <tr>\n      <th>6</th>\n      <td>0</td>\n      <td>9A00000045146841</td>\n      <td>0.000000</td>\n    </tr>\n    <tr>\n      <th>7</th>\n      <td>1</td>\n      <td>F9000000452CCF41</td>\n      <td>0.000000</td>\n    </tr>\n    <tr>\n      <th>8</th>\n      <td>3</td>\n      <td>7200000045201D41</td>\n      <td>0.000000</td>\n    </tr>\n    <tr>\n      <th>9</th>\n      <td>7</td>\n      <td>DPG_nose-forehead</td>\n      <td>0.000000</td>\n    </tr>\n    <tr>\n      <th>10</th>\n      <td>10</td>\n      <td>FLIR_nose</td>\n      <td>0.000000</td>\n    </tr>\n    <tr>\n      <th>11</th>\n      <td>11</td>\n      <td>FLIR_DPG_nose-forehead</td>\n      <td>0.000000</td>\n    </tr>\n  </tbody>\n</table>\n</div>"
     },
     "execution_count": 72,
     "metadata": {},
     "output_type": "execute_result"
    }
   ],
   "source": [
    "final = ''\n",
    "fi = ''\n",
    "for i, column in enumerate(data.drop('results', axis=1)):\n",
    "    print('Importance of feature {}:, {:.3f}'.format(column, dt.feature_importances_[i]))\n",
    "\n",
    "    fi = pd.DataFrame({'Variable': [column], 'Feature Importance Score': [dt.feature_importances_[i]]})\n",
    "\n",
    "    try:\n",
    "        final = pd.concat([final, fi], ignore_index=True)\n",
    "    except:\n",
    "        final = fi\n",
    "\n",
    "# Ordering the data\n",
    "final_fi = final.sort_values('Feature Importance Score', ascending=False).reset_index()\n",
    "final_fi"
   ]
  },
  {
   "cell_type": "code",
   "execution_count": 73,
   "metadata": {
    "pycharm": {
     "name": "#%%\n"
    }
   },
   "outputs": [
    {
     "name": "stdout",
     "output_type": "stream",
     "text": [
      "Training Accuracy is:  0.7818181818181819\n",
      "Testing Accuracy is:  0.8168604651162791\n"
     ]
    }
   ],
   "source": [
    "# Accuracy on Train\n",
    "print(\"Training Accuracy is: \", dt.score(X_train, Y_train))\n",
    "\n",
    "# Accuracy on Train\n",
    "print(\"Testing Accuracy is: \", dt.score(X_test, Y_test))"
   ]
  },
  {
   "cell_type": "code",
   "execution_count": 74,
   "metadata": {
    "pycharm": {
     "name": "#%%\n"
    }
   },
   "outputs": [
    {
     "name": "stdout",
     "output_type": "stream",
     "text": [
      "Training Accuracy is:  1.0\n",
      "Testing Accuracy is:  0.7412790697674418\n"
     ]
    }
   ],
   "source": [
    "# Building a forest\n",
    "random_forest = RandomForestClassifier(n_estimators=100, random_state=30)\n",
    "random_forest.fit(X_train, Y_train)\n",
    "# prediction_test = random_forest.predict(X=X_test)\n",
    "\n",
    "# Accuracy on Test\n",
    "print(\"Training Accuracy is: \", random_forest.score(X_train, Y_train))\n",
    "# Accuracy on Train\n",
    "print(\"Testing Accuracy is: \", random_forest.score(X_test, Y_test))"
   ]
  },
  {
   "cell_type": "code",
   "execution_count": 75,
   "metadata": {
    "pycharm": {
     "name": "#%%\n"
    }
   },
   "outputs": [
    {
     "name": "stdout",
     "output_type": "stream",
     "text": [
      "Importance of feature 9A00000045146841:, 0.030\n",
      "Importance of feature F9000000452CCF41:, 0.055\n",
      "Importance of feature 76000000452C9741:, 0.030\n",
      "Importance of feature 7200000045201D41:, 0.027\n",
      "Importance of feature 4B0000004516B141:, 0.081\n",
      "Importance of feature CB000000452D7441:, 0.056\n",
      "Importance of feature DPG_finger-chest:, 0.088\n",
      "Importance of feature DPG_nose-forehead:, 0.076\n",
      "Importance of feature DPG_pinna-mastoid:, 0.035\n",
      "Importance of feature FLIR_forehead:, 0.191\n",
      "Importance of feature FLIR_nose:, 0.169\n",
      "Importance of feature FLIR_DPG_nose-forehead:, 0.162\n"
     ]
    },
    {
     "data": {
      "text/plain": "    index                Variable  Feature Importance Score\n0       9           FLIR_forehead                  0.190951\n1      10               FLIR_nose                  0.168721\n2      11  FLIR_DPG_nose-forehead                  0.161908\n3       6        DPG_finger-chest                  0.087956\n4       4        4B0000004516B141                  0.080585\n5       7       DPG_nose-forehead                  0.075898\n6       5        CB000000452D7441                  0.056409\n7       1        F9000000452CCF41                  0.054580\n8       8       DPG_pinna-mastoid                  0.035198\n9       2        76000000452C9741                  0.030433\n10      0        9A00000045146841                  0.029867\n11      3        7200000045201D41                  0.027495",
      "text/html": "<div>\n<style scoped>\n    .dataframe tbody tr th:only-of-type {\n        vertical-align: middle;\n    }\n\n    .dataframe tbody tr th {\n        vertical-align: top;\n    }\n\n    .dataframe thead th {\n        text-align: right;\n    }\n</style>\n<table border=\"1\" class=\"dataframe\">\n  <thead>\n    <tr style=\"text-align: right;\">\n      <th></th>\n      <th>index</th>\n      <th>Variable</th>\n      <th>Feature Importance Score</th>\n    </tr>\n  </thead>\n  <tbody>\n    <tr>\n      <th>0</th>\n      <td>9</td>\n      <td>FLIR_forehead</td>\n      <td>0.190951</td>\n    </tr>\n    <tr>\n      <th>1</th>\n      <td>10</td>\n      <td>FLIR_nose</td>\n      <td>0.168721</td>\n    </tr>\n    <tr>\n      <th>2</th>\n      <td>11</td>\n      <td>FLIR_DPG_nose-forehead</td>\n      <td>0.161908</td>\n    </tr>\n    <tr>\n      <th>3</th>\n      <td>6</td>\n      <td>DPG_finger-chest</td>\n      <td>0.087956</td>\n    </tr>\n    <tr>\n      <th>4</th>\n      <td>4</td>\n      <td>4B0000004516B141</td>\n      <td>0.080585</td>\n    </tr>\n    <tr>\n      <th>5</th>\n      <td>7</td>\n      <td>DPG_nose-forehead</td>\n      <td>0.075898</td>\n    </tr>\n    <tr>\n      <th>6</th>\n      <td>5</td>\n      <td>CB000000452D7441</td>\n      <td>0.056409</td>\n    </tr>\n    <tr>\n      <th>7</th>\n      <td>1</td>\n      <td>F9000000452CCF41</td>\n      <td>0.054580</td>\n    </tr>\n    <tr>\n      <th>8</th>\n      <td>8</td>\n      <td>DPG_pinna-mastoid</td>\n      <td>0.035198</td>\n    </tr>\n    <tr>\n      <th>9</th>\n      <td>2</td>\n      <td>76000000452C9741</td>\n      <td>0.030433</td>\n    </tr>\n    <tr>\n      <th>10</th>\n      <td>0</td>\n      <td>9A00000045146841</td>\n      <td>0.029867</td>\n    </tr>\n    <tr>\n      <th>11</th>\n      <td>3</td>\n      <td>7200000045201D41</td>\n      <td>0.027495</td>\n    </tr>\n  </tbody>\n</table>\n</div>"
     },
     "execution_count": 75,
     "metadata": {},
     "output_type": "execute_result"
    }
   ],
   "source": [
    "fi2 = ''\n",
    "final2 = ''\n",
    "for i, column in enumerate(data.drop('results', axis=1)):\n",
    "    print('Importance of feature {}:, {:.3f}'.format(column, random_forest.feature_importances_[i]))\n",
    "    fi2 = pd.DataFrame({'Variable': [column], 'Feature Importance Score': [random_forest.feature_importances_[i]]})\n",
    "\n",
    "    try:\n",
    "        final2 = pd.concat([final2, fi2], ignore_index=True)\n",
    "    except:\n",
    "        final2 = fi2\n",
    "\n",
    "# Ordering the data\n",
    "final_fi2 = final2.sort_values('Feature Importance Score', ascending=False).reset_index()\n",
    "final_fi2\n"
   ]
  }
 ],
 "metadata": {
  "kernelspec": {
   "display_name": "Python 3",
   "language": "python",
   "name": "python3"
  },
  "language_info": {
   "codemirror_mode": {
    "name": "ipython",
    "version": 3
   },
   "file_extension": ".py",
   "mimetype": "text/x-python",
   "name": "python",
   "nbconvert_exporter": "python",
   "pygments_lexer": "ipython3",
   "version": "3.8.8"
  }
 },
 "nbformat": 4,
 "nbformat_minor": 1
}