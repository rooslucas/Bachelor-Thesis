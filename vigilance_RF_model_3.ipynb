{
 "cells": [
  {
   "cell_type": "markdown",
   "metadata": {
    "collapsed": true,
    "pycharm": {
     "name": "#%% md\n"
    }
   },
   "source": [
    "# Predicting vigilance using machine learning\n",
    "## Random Forest Model 3\n",
    "Rosalie Lucas (6540384)\n",
    "\n",
    "This is the second model in my thesis Predicting vigilance using machine learning.\n",
    "In this model subjective measures and demographic data will be used.\n",
    "These are consistent within one participant and therefor could be over represented."
   ]
  },
  {
   "cell_type": "code",
   "execution_count": 109,
   "metadata": {
    "pycharm": {
     "name": "#%%\n"
    }
   },
   "outputs": [],
   "source": [
    "# Import Libraries needed\n",
    "import pandas as pd\n",
    "import os\n",
    "import numpy as np\n",
    "from matplotlib import pyplot as plt\n",
    "import seaborn as sns\n",
    "%matplotlib inline\n",
    "\n",
    "import warnings\n",
    "warnings.filterwarnings('ignore')\n",
    "\n",
    "\n",
    "from sklearn.model_selection import train_test_split\n",
    "from sklearn import tree\n",
    "from sklearn.tree import DecisionTreeClassifier, export_graphviz\n",
    "from sklearn.ensemble import RandomForestClassifier\n",
    "from sklearn.preprocessing import LabelEncoder\n",
    "\n",
    "# Installed Graphviz using Pip3"
   ]
  },
  {
   "cell_type": "code",
   "execution_count": 109,
   "metadata": {
    "pycharm": {
     "name": "#%%\n"
    }
   },
   "outputs": [],
   "source": []
  },
  {
   "cell_type": "code",
   "execution_count": 110,
   "metadata": {
    "pycharm": {
     "name": "#%%\n"
    }
   },
   "outputs": [],
   "source": [
    "data_file_path = '/Users/roos/Data/all_trials_noNaN.csv'\n",
    "data_file = pd.read_csv(data_file_path)\n",
    "data_3 = data_file[[ 'Age', 'Gender', 'PSQI', 'MEQ_type', '9A00000045146841', #'FF00000045298741',\n",
    "       'F9000000452CCF41', '76000000452C9741', '7200000045201D41', '4B0000004516B141', 'CB000000452D7441', 'DPG_finger-chest',\n",
    "       'DPG_nose-forehead', 'DPG_pinna-mastoid', 'results', 'FLIR_forehead', 'FLIR_nose', 'FLIR_DPG_nose-forehead']]\n"
   ]
  },
  {
   "cell_type": "code",
   "execution_count": 111,
   "metadata": {
    "pycharm": {
     "name": "#%%\n"
    }
   },
   "outputs": [
    {
     "name": "stdout",
     "output_type": "stream",
     "text": [
      "gender classes: ['female' 'male']\n",
      "Gender integer classes [0 1]\n",
      "MEQ classes: ['evening' 'intermediate' 'morning']\n",
      "MEQ> integer classes [0 1 2]\n"
     ]
    }
   ],
   "source": [
    "# Encode categorical variables\n",
    "# Gender\n",
    "encoder = LabelEncoder()\n",
    "label_encoder_gender = encoder.fit(data_3['Gender'])\n",
    "print(\"gender classes:\", label_encoder_gender.classes_)\n",
    "integer_classes_gender = label_encoder_gender.transform(label_encoder_gender.classes_)\n",
    "print(\"Gender integer classes\", integer_classes_gender)\n",
    "code = label_encoder_gender.transform(data_3['Gender'])\n",
    "data_3['Gender'] = code\n",
    "\n",
    "# MEQ_type\n",
    "label_encoder_MEQ = encoder.fit(data_3['MEQ_type'])\n",
    "print(\"MEQ classes:\", label_encoder_MEQ.classes_)\n",
    "integer_classes_MEQ = label_encoder_MEQ.transform(label_encoder_MEQ.classes_)\n",
    "print(\"MEQ> integer classes\", integer_classes_MEQ)\n",
    "code_MEQ = label_encoder_MEQ.transform(data_3['MEQ_type'])\n",
    "data_3['MEQ_type'] = code_MEQ"
   ]
  },
  {
   "cell_type": "code",
   "execution_count": 112,
   "metadata": {
    "pycharm": {
     "name": "#%%\n"
    }
   },
   "outputs": [],
   "source": [
    "# plot = sns.pairplot(data_3, hue='results', palette=\"Set1\")"
   ]
  },
  {
   "cell_type": "code",
   "execution_count": 113,
   "metadata": {
    "pycharm": {
     "name": "#%%\n"
    }
   },
   "outputs": [
    {
     "name": "stdout",
     "output_type": "stream",
     "text": [
      "The number of values for feature Age : 7 -- [19 21 22 23 26 50 59]\n",
      "The number of values for feature Gender : 2 -- [0 1]\n",
      "The number of values for feature PSQI : 5 -- [0.28571429 0.42857143 0.57142857 0.71428571 1.2       ]\n",
      "The number of values for feature MEQ_type : 3 -- [0 1 2]\n",
      "The number of values for feature 9A00000045146841 : 27\n",
      "The number of values for feature F9000000452CCF41 : 65\n",
      "The number of values for feature 76000000452C9741 : 38\n",
      "The number of values for feature 7200000045201D41 : 25\n",
      "The number of values for feature 4B0000004516B141 : 187\n",
      "The number of values for feature CB000000452D7441 : 73\n",
      "The number of values for feature DPG_finger-chest : 366\n",
      "The number of values for feature DPG_nose-forehead : 236\n",
      "The number of values for feature DPG_pinna-mastoid : 63\n",
      "The number of values for feature results : 2 -- [0. 1.]\n",
      "The number of values for feature FLIR_forehead : 1717\n",
      "The number of values for feature FLIR_nose : 1717\n",
      "The number of values for feature FLIR_DPG_nose-forehead : 1717\n",
      "Age                       0\n",
      "Gender                    0\n",
      "PSQI                      0\n",
      "MEQ_type                  0\n",
      "9A00000045146841          0\n",
      "F9000000452CCF41          0\n",
      "76000000452C9741          0\n",
      "7200000045201D41          0\n",
      "4B0000004516B141          0\n",
      "CB000000452D7441          0\n",
      "DPG_finger-chest          0\n",
      "DPG_nose-forehead         0\n",
      "DPG_pinna-mastoid         0\n",
      "results                   0\n",
      "FLIR_forehead             0\n",
      "FLIR_nose                 0\n",
      "FLIR_DPG_nose-forehead    0\n",
      "dtype: int64\n"
     ]
    }
   ],
   "source": [
    "for column in data_3:  # Describe the amount of different features in each column (column is a feature)\n",
    "    unique_values = np.unique(data_3[column])\n",
    "    number_values = len(unique_values)\n",
    "    if number_values < 12:\n",
    "        print(\"The number of values for feature {} : {} -- {}\".format(column, number_values, unique_values))\n",
    "    else:\n",
    "        print(\"The number of values for feature {} : {}\".format(column, number_values))\n",
    "\n",
    "print(data_3.isnull().sum())"
   ]
  },
  {
   "cell_type": "code",
   "execution_count": 114,
   "metadata": {
    "pycharm": {
     "name": "#%%\n"
    }
   },
   "outputs": [
    {
     "name": "stdout",
     "output_type": "stream",
     "text": [
      "X shape: (1719, 16)\n",
      "Y shape: (1719,)\n"
     ]
    }
   ],
   "source": [
    "# Splitting the data\n",
    "X = data_3.drop('results', axis=1).values\n",
    "Y = data_3['results'].values\n",
    "print('X shape: {}'.format(np.shape(X)))\n",
    "print('Y shape: {}'.format(np.shape(Y)))\n",
    "\n",
    "X_train, X_test, Y_train, Y_test = train_test_split(X, Y, train_size=0.8, test_size=0.2, random_state=0)"
   ]
  },
  {
   "cell_type": "code",
   "execution_count": 115,
   "metadata": {
    "pycharm": {
     "name": "#%%\n"
    }
   },
   "outputs": [
    {
     "name": "stdout",
     "output_type": "stream",
     "text": [
      "0.8023255813953488\n",
      "0.7709090909090909\n"
     ]
    }
   ],
   "source": [
    "dt = DecisionTreeClassifier(max_depth=3, random_state=0)\n",
    "dt.fit(X_train, Y_train)\n",
    "print(Y_test.sum()/len(Y_test))\n",
    "print(Y_train.sum()/(len(Y_train)))"
   ]
  },
  {
   "cell_type": "code",
   "execution_count": 116,
   "metadata": {
    "pycharm": {
     "name": "#%%\n"
    }
   },
   "outputs": [
    {
     "data": {
      "text/plain": "<graphviz.files.Source at 0x7fd933819dc0>",
      "image/svg+xml": "<?xml version=\"1.0\" encoding=\"UTF-8\" standalone=\"no\"?>\n<!DOCTYPE svg PUBLIC \"-//W3C//DTD SVG 1.1//EN\"\n \"http://www.w3.org/Graphics/SVG/1.1/DTD/svg11.dtd\">\n<!-- Generated by graphviz version 2.47.1 (20210417.1919)\n -->\n<!-- Title: Tree Pages: 1 -->\n<svg width=\"1007pt\" height=\"433pt\"\n viewBox=\"0.00 0.00 1007.00 433.00\" xmlns=\"http://www.w3.org/2000/svg\" xmlns:xlink=\"http://www.w3.org/1999/xlink\">\n<g id=\"graph0\" class=\"graph\" transform=\"scale(1 1) rotate(0) translate(4 429)\">\n<title>Tree</title>\n<polygon fill=\"white\" stroke=\"transparent\" points=\"-4,4 -4,-429 1003,-429 1003,4 -4,4\"/>\n<!-- 0 -->\n<g id=\"node1\" class=\"node\">\n<title>0</title>\n<path fill=\"#74baed\" stroke=\"black\" d=\"M574,-425C574,-425 466,-425 466,-425 460,-425 454,-419 454,-413 454,-413 454,-354 454,-354 454,-348 460,-342 466,-342 466,-342 574,-342 574,-342 580,-342 586,-348 586,-354 586,-354 586,-413 586,-413 586,-419 580,-425 574,-425\"/>\n<text text-anchor=\"start\" x=\"470\" y=\"-409.8\" font-family=\"Helvetica,sans-Serif\" font-size=\"14.00\">MEQ_type ≤ 1.5</text>\n<text text-anchor=\"start\" x=\"484.5\" y=\"-394.8\" font-family=\"Helvetica,sans-Serif\" font-size=\"14.00\">gini = 0.353</text>\n<text text-anchor=\"start\" x=\"471.5\" y=\"-379.8\" font-family=\"Helvetica,sans-Serif\" font-size=\"14.00\">samples = 1375</text>\n<text text-anchor=\"start\" x=\"462\" y=\"-364.8\" font-family=\"Helvetica,sans-Serif\" font-size=\"14.00\">value = [315, 1060]</text>\n<text text-anchor=\"start\" x=\"487\" y=\"-349.8\" font-family=\"Helvetica,sans-Serif\" font-size=\"14.00\">class = 1.0</text>\n</g>\n<!-- 1 -->\n<g id=\"node2\" class=\"node\">\n<title>1</title>\n<path fill=\"#61b1ea\" stroke=\"black\" d=\"M476.5,-306C476.5,-306 307.5,-306 307.5,-306 301.5,-306 295.5,-300 295.5,-294 295.5,-294 295.5,-235 295.5,-235 295.5,-229 301.5,-223 307.5,-223 307.5,-223 476.5,-223 476.5,-223 482.5,-223 488.5,-229 488.5,-235 488.5,-235 488.5,-294 488.5,-294 488.5,-300 482.5,-306 476.5,-306\"/>\n<text text-anchor=\"start\" x=\"303.5\" y=\"-290.8\" font-family=\"Helvetica,sans-Serif\" font-size=\"14.00\">DPG_pinna&#45;mastoid ≤ &#45;5.727</text>\n<text text-anchor=\"start\" x=\"360\" y=\"-275.8\" font-family=\"Helvetica,sans-Serif\" font-size=\"14.00\">gini = 0.28</text>\n<text text-anchor=\"start\" x=\"347\" y=\"-260.8\" font-family=\"Helvetica,sans-Serif\" font-size=\"14.00\">samples = 915</text>\n<text text-anchor=\"start\" x=\"337.5\" y=\"-245.8\" font-family=\"Helvetica,sans-Serif\" font-size=\"14.00\">value = [154, 761]</text>\n<text text-anchor=\"start\" x=\"359\" y=\"-230.8\" font-family=\"Helvetica,sans-Serif\" font-size=\"14.00\">class = 1.0</text>\n</g>\n<!-- 0&#45;&gt;1 -->\n<g id=\"edge1\" class=\"edge\">\n<title>0&#45;&gt;1</title>\n<path fill=\"none\" stroke=\"black\" d=\"M475.59,-341.91C465.36,-332.56 454.4,-322.54 443.89,-312.93\"/>\n<polygon fill=\"black\" stroke=\"black\" points=\"446.07,-310.18 436.33,-306.02 441.35,-315.35 446.07,-310.18\"/>\n<text text-anchor=\"middle\" x=\"437.45\" y=\"-327.3\" font-family=\"Helvetica,sans-Serif\" font-size=\"14.00\">True</text>\n</g>\n<!-- 8 -->\n<g id=\"node9\" class=\"node\">\n<title>8</title>\n<path fill=\"#a4d2f3\" stroke=\"black\" d=\"M673.5,-306C673.5,-306 534.5,-306 534.5,-306 528.5,-306 522.5,-300 522.5,-294 522.5,-294 522.5,-235 522.5,-235 522.5,-229 528.5,-223 534.5,-223 534.5,-223 673.5,-223 673.5,-223 679.5,-223 685.5,-229 685.5,-235 685.5,-235 685.5,-294 685.5,-294 685.5,-300 679.5,-306 673.5,-306\"/>\n<text text-anchor=\"start\" x=\"530.5\" y=\"-290.8\" font-family=\"Helvetica,sans-Serif\" font-size=\"14.00\">FLIR_forehead ≤ 33.999</text>\n<text text-anchor=\"start\" x=\"568.5\" y=\"-275.8\" font-family=\"Helvetica,sans-Serif\" font-size=\"14.00\">gini = 0.455</text>\n<text text-anchor=\"start\" x=\"559\" y=\"-260.8\" font-family=\"Helvetica,sans-Serif\" font-size=\"14.00\">samples = 460</text>\n<text text-anchor=\"start\" x=\"549.5\" y=\"-245.8\" font-family=\"Helvetica,sans-Serif\" font-size=\"14.00\">value = [161, 299]</text>\n<text text-anchor=\"start\" x=\"571\" y=\"-230.8\" font-family=\"Helvetica,sans-Serif\" font-size=\"14.00\">class = 1.0</text>\n</g>\n<!-- 0&#45;&gt;8 -->\n<g id=\"edge8\" class=\"edge\">\n<title>0&#45;&gt;8</title>\n<path fill=\"none\" stroke=\"black\" d=\"M549.14,-341.91C555.53,-333.01 562.35,-323.51 568.94,-314.33\"/>\n<polygon fill=\"black\" stroke=\"black\" points=\"571.92,-316.19 574.91,-306.02 566.23,-312.1 571.92,-316.19\"/>\n<text text-anchor=\"middle\" x=\"578.96\" y=\"-326.99\" font-family=\"Helvetica,sans-Serif\" font-size=\"14.00\">False</text>\n</g>\n<!-- 2 -->\n<g id=\"node3\" class=\"node\">\n<title>2</title>\n<path fill=\"#92c9f1\" stroke=\"black\" d=\"M262.5,-187C262.5,-187 87.5,-187 87.5,-187 81.5,-187 75.5,-181 75.5,-175 75.5,-175 75.5,-116 75.5,-116 75.5,-110 81.5,-104 87.5,-104 87.5,-104 262.5,-104 262.5,-104 268.5,-104 274.5,-110 274.5,-116 274.5,-116 274.5,-175 274.5,-175 274.5,-181 268.5,-187 262.5,-187\"/>\n<text text-anchor=\"start\" x=\"83.5\" y=\"-171.8\" font-family=\"Helvetica,sans-Serif\" font-size=\"14.00\">CB000000452D7441 ≤ 30.987</text>\n<text text-anchor=\"start\" x=\"139.5\" y=\"-156.8\" font-family=\"Helvetica,sans-Serif\" font-size=\"14.00\">gini = 0.428</text>\n<text text-anchor=\"start\" x=\"130\" y=\"-141.8\" font-family=\"Helvetica,sans-Serif\" font-size=\"14.00\">samples = 161</text>\n<text text-anchor=\"start\" x=\"125\" y=\"-126.8\" font-family=\"Helvetica,sans-Serif\" font-size=\"14.00\">value = [50, 111]</text>\n<text text-anchor=\"start\" x=\"142\" y=\"-111.8\" font-family=\"Helvetica,sans-Serif\" font-size=\"14.00\">class = 1.0</text>\n</g>\n<!-- 1&#45;&gt;2 -->\n<g id=\"edge2\" class=\"edge\">\n<title>1&#45;&gt;2</title>\n<path fill=\"none\" stroke=\"black\" d=\"M316.71,-222.91C298.11,-212.88 278.07,-202.07 259.09,-191.84\"/>\n<polygon fill=\"black\" stroke=\"black\" points=\"260.62,-188.69 250.15,-187.02 257.3,-194.85 260.62,-188.69\"/>\n</g>\n<!-- 5 -->\n<g id=\"node6\" class=\"node\">\n<title>5</title>\n<path fill=\"#59ade9\" stroke=\"black\" d=\"M449.5,-187C449.5,-187 334.5,-187 334.5,-187 328.5,-187 322.5,-181 322.5,-175 322.5,-175 322.5,-116 322.5,-116 322.5,-110 328.5,-104 334.5,-104 334.5,-104 449.5,-104 449.5,-104 455.5,-104 461.5,-110 461.5,-116 461.5,-116 461.5,-175 461.5,-175 461.5,-181 455.5,-187 449.5,-187\"/>\n<text text-anchor=\"start\" x=\"330.5\" y=\"-171.8\" font-family=\"Helvetica,sans-Serif\" font-size=\"14.00\">FLIR_nose ≤ 34.198</text>\n<text text-anchor=\"start\" x=\"356.5\" y=\"-156.8\" font-family=\"Helvetica,sans-Serif\" font-size=\"14.00\">gini = 0.238</text>\n<text text-anchor=\"start\" x=\"347\" y=\"-141.8\" font-family=\"Helvetica,sans-Serif\" font-size=\"14.00\">samples = 754</text>\n<text text-anchor=\"start\" x=\"337.5\" y=\"-126.8\" font-family=\"Helvetica,sans-Serif\" font-size=\"14.00\">value = [104, 650]</text>\n<text text-anchor=\"start\" x=\"359\" y=\"-111.8\" font-family=\"Helvetica,sans-Serif\" font-size=\"14.00\">class = 1.0</text>\n</g>\n<!-- 1&#45;&gt;5 -->\n<g id=\"edge5\" class=\"edge\">\n<title>1&#45;&gt;5</title>\n<path fill=\"none\" stroke=\"black\" d=\"M392,-222.91C392,-214.65 392,-205.86 392,-197.3\"/>\n<polygon fill=\"black\" stroke=\"black\" points=\"395.5,-197.02 392,-187.02 388.5,-197.02 395.5,-197.02\"/>\n</g>\n<!-- 3 -->\n<g id=\"node4\" class=\"node\">\n<title>3</title>\n<path fill=\"#399de5\" stroke=\"black\" d=\"M90,-68C90,-68 12,-68 12,-68 6,-68 0,-62 0,-56 0,-56 0,-12 0,-12 0,-6 6,0 12,0 12,0 90,0 90,0 96,0 102,-6 102,-12 102,-12 102,-56 102,-56 102,-62 96,-68 90,-68\"/>\n<text text-anchor=\"start\" x=\"23\" y=\"-52.8\" font-family=\"Helvetica,sans-Serif\" font-size=\"14.00\">gini = 0.0</text>\n<text text-anchor=\"start\" x=\"10\" y=\"-37.8\" font-family=\"Helvetica,sans-Serif\" font-size=\"14.00\">samples = 19</text>\n<text text-anchor=\"start\" x=\"8\" y=\"-22.8\" font-family=\"Helvetica,sans-Serif\" font-size=\"14.00\">value = [0, 19]</text>\n<text text-anchor=\"start\" x=\"18\" y=\"-7.8\" font-family=\"Helvetica,sans-Serif\" font-size=\"14.00\">class = 1.0</text>\n</g>\n<!-- 2&#45;&gt;3 -->\n<g id=\"edge3\" class=\"edge\">\n<title>2&#45;&gt;3</title>\n<path fill=\"none\" stroke=\"black\" d=\"M128.83,-103.73C118.19,-94.33 106.88,-84.35 96.28,-74.99\"/>\n<polygon fill=\"black\" stroke=\"black\" points=\"98.52,-72.3 88.71,-68.3 93.89,-77.54 98.52,-72.3\"/>\n</g>\n<!-- 4 -->\n<g id=\"node5\" class=\"node\">\n<title>4</title>\n<path fill=\"#a5d2f3\" stroke=\"black\" d=\"M218,-68C218,-68 132,-68 132,-68 126,-68 120,-62 120,-56 120,-56 120,-12 120,-12 120,-6 126,0 132,0 132,0 218,0 218,0 224,0 230,-6 230,-12 230,-12 230,-56 230,-56 230,-62 224,-68 218,-68\"/>\n<text text-anchor=\"start\" x=\"139.5\" y=\"-52.8\" font-family=\"Helvetica,sans-Serif\" font-size=\"14.00\">gini = 0.456</text>\n<text text-anchor=\"start\" x=\"130\" y=\"-37.8\" font-family=\"Helvetica,sans-Serif\" font-size=\"14.00\">samples = 142</text>\n<text text-anchor=\"start\" x=\"128\" y=\"-22.8\" font-family=\"Helvetica,sans-Serif\" font-size=\"14.00\">value = [50, 92]</text>\n<text text-anchor=\"start\" x=\"142\" y=\"-7.8\" font-family=\"Helvetica,sans-Serif\" font-size=\"14.00\">class = 1.0</text>\n</g>\n<!-- 2&#45;&gt;4 -->\n<g id=\"edge4\" class=\"edge\">\n<title>2&#45;&gt;4</title>\n<path fill=\"none\" stroke=\"black\" d=\"M175,-103.73C175,-95.52 175,-86.86 175,-78.56\"/>\n<polygon fill=\"black\" stroke=\"black\" points=\"178.5,-78.3 175,-68.3 171.5,-78.3 178.5,-78.3\"/>\n</g>\n<!-- 6 -->\n<g id=\"node7\" class=\"node\">\n<title>6</title>\n<path fill=\"#58ace9\" stroke=\"black\" d=\"M361.5,-68C361.5,-68 260.5,-68 260.5,-68 254.5,-68 248.5,-62 248.5,-56 248.5,-56 248.5,-12 248.5,-12 248.5,-6 254.5,0 260.5,0 260.5,0 361.5,0 361.5,0 367.5,0 373.5,-6 373.5,-12 373.5,-12 373.5,-56 373.5,-56 373.5,-62 367.5,-68 361.5,-68\"/>\n<text text-anchor=\"start\" x=\"275.5\" y=\"-52.8\" font-family=\"Helvetica,sans-Serif\" font-size=\"14.00\">gini = 0.235</text>\n<text text-anchor=\"start\" x=\"266\" y=\"-37.8\" font-family=\"Helvetica,sans-Serif\" font-size=\"14.00\">samples = 751</text>\n<text text-anchor=\"start\" x=\"256.5\" y=\"-22.8\" font-family=\"Helvetica,sans-Serif\" font-size=\"14.00\">value = [102, 649]</text>\n<text text-anchor=\"start\" x=\"278\" y=\"-7.8\" font-family=\"Helvetica,sans-Serif\" font-size=\"14.00\">class = 1.0</text>\n</g>\n<!-- 5&#45;&gt;6 -->\n<g id=\"edge6\" class=\"edge\">\n<title>5&#45;&gt;6</title>\n<path fill=\"none\" stroke=\"black\" d=\"M361.84,-103.73C355.23,-94.79 348.22,-85.32 341.59,-76.36\"/>\n<polygon fill=\"black\" stroke=\"black\" points=\"344.39,-74.26 335.63,-68.3 338.77,-78.42 344.39,-74.26\"/>\n</g>\n<!-- 7 -->\n<g id=\"node8\" class=\"node\">\n<title>7</title>\n<path fill=\"#f2c09c\" stroke=\"black\" d=\"M474.5,-68C474.5,-68 403.5,-68 403.5,-68 397.5,-68 391.5,-62 391.5,-56 391.5,-56 391.5,-12 391.5,-12 391.5,-6 397.5,0 403.5,0 403.5,0 474.5,0 474.5,0 480.5,0 486.5,-6 486.5,-12 486.5,-12 486.5,-56 486.5,-56 486.5,-62 480.5,-68 474.5,-68\"/>\n<text text-anchor=\"start\" x=\"403.5\" y=\"-52.8\" font-family=\"Helvetica,sans-Serif\" font-size=\"14.00\">gini = 0.444</text>\n<text text-anchor=\"start\" x=\"401.5\" y=\"-37.8\" font-family=\"Helvetica,sans-Serif\" font-size=\"14.00\">samples = 3</text>\n<text text-anchor=\"start\" x=\"399.5\" y=\"-22.8\" font-family=\"Helvetica,sans-Serif\" font-size=\"14.00\">value = [2, 1]</text>\n<text text-anchor=\"start\" x=\"406\" y=\"-7.8\" font-family=\"Helvetica,sans-Serif\" font-size=\"14.00\">class = 0.0</text>\n</g>\n<!-- 5&#45;&gt;7 -->\n<g id=\"edge7\" class=\"edge\">\n<title>5&#45;&gt;7</title>\n<path fill=\"none\" stroke=\"black\" d=\"M409.5,-103.73C413.14,-95.24 416.99,-86.28 420.66,-77.73\"/>\n<polygon fill=\"black\" stroke=\"black\" points=\"423.98,-78.87 424.71,-68.3 417.55,-76.11 423.98,-78.87\"/>\n</g>\n<!-- 9 -->\n<g id=\"node10\" class=\"node\">\n<title>9</title>\n<path fill=\"#86c3ef\" stroke=\"black\" d=\"M689,-187C689,-187 519,-187 519,-187 513,-187 507,-181 507,-175 507,-175 507,-116 507,-116 507,-110 513,-104 519,-104 519,-104 689,-104 689,-104 695,-104 701,-110 701,-116 701,-116 701,-175 701,-175 701,-181 695,-187 689,-187\"/>\n<text text-anchor=\"start\" x=\"515\" y=\"-171.8\" font-family=\"Helvetica,sans-Serif\" font-size=\"14.00\">9A00000045146841 ≤ 33.923</text>\n<text text-anchor=\"start\" x=\"568.5\" y=\"-156.8\" font-family=\"Helvetica,sans-Serif\" font-size=\"14.00\">gini = 0.402</text>\n<text text-anchor=\"start\" x=\"559\" y=\"-141.8\" font-family=\"Helvetica,sans-Serif\" font-size=\"14.00\">samples = 312</text>\n<text text-anchor=\"start\" x=\"553.5\" y=\"-126.8\" font-family=\"Helvetica,sans-Serif\" font-size=\"14.00\">value = [87, 225]</text>\n<text text-anchor=\"start\" x=\"571\" y=\"-111.8\" font-family=\"Helvetica,sans-Serif\" font-size=\"14.00\">class = 1.0</text>\n</g>\n<!-- 8&#45;&gt;9 -->\n<g id=\"edge9\" class=\"edge\">\n<title>8&#45;&gt;9</title>\n<path fill=\"none\" stroke=\"black\" d=\"M604,-222.91C604,-214.65 604,-205.86 604,-197.3\"/>\n<polygon fill=\"black\" stroke=\"black\" points=\"607.5,-197.02 604,-187.02 600.5,-197.02 607.5,-197.02\"/>\n</g>\n<!-- 12 -->\n<g id=\"node13\" class=\"node\">\n<title>12</title>\n<path fill=\"#ffffff\" stroke=\"black\" d=\"M885.5,-187C885.5,-187 746.5,-187 746.5,-187 740.5,-187 734.5,-181 734.5,-175 734.5,-175 734.5,-116 734.5,-116 734.5,-110 740.5,-104 746.5,-104 746.5,-104 885.5,-104 885.5,-104 891.5,-104 897.5,-110 897.5,-116 897.5,-116 897.5,-175 897.5,-175 897.5,-181 891.5,-187 885.5,-187\"/>\n<text text-anchor=\"start\" x=\"742.5\" y=\"-171.8\" font-family=\"Helvetica,sans-Serif\" font-size=\"14.00\">FLIR_forehead ≤ 34.195</text>\n<text text-anchor=\"start\" x=\"788\" y=\"-156.8\" font-family=\"Helvetica,sans-Serif\" font-size=\"14.00\">gini = 0.5</text>\n<text text-anchor=\"start\" x=\"771\" y=\"-141.8\" font-family=\"Helvetica,sans-Serif\" font-size=\"14.00\">samples = 148</text>\n<text text-anchor=\"start\" x=\"769\" y=\"-126.8\" font-family=\"Helvetica,sans-Serif\" font-size=\"14.00\">value = [74, 74]</text>\n<text text-anchor=\"start\" x=\"783\" y=\"-111.8\" font-family=\"Helvetica,sans-Serif\" font-size=\"14.00\">class = 0.0</text>\n</g>\n<!-- 8&#45;&gt;12 -->\n<g id=\"edge12\" class=\"edge\">\n<title>8&#45;&gt;12</title>\n<path fill=\"none\" stroke=\"black\" d=\"M677.55,-222.91C695.64,-212.92 715.12,-202.17 733.6,-191.98\"/>\n<polygon fill=\"black\" stroke=\"black\" points=\"735.51,-194.92 742.58,-187.02 732.13,-188.79 735.51,-194.92\"/>\n</g>\n<!-- 10 -->\n<g id=\"node11\" class=\"node\">\n<title>10</title>\n<path fill=\"#f2c09c\" stroke=\"black\" d=\"M595,-68C595,-68 517,-68 517,-68 511,-68 505,-62 505,-56 505,-56 505,-12 505,-12 505,-6 511,0 517,0 517,0 595,0 595,0 601,0 607,-6 607,-12 607,-12 607,-56 607,-56 607,-62 601,-68 595,-68\"/>\n<text text-anchor=\"start\" x=\"520.5\" y=\"-52.8\" font-family=\"Helvetica,sans-Serif\" font-size=\"14.00\">gini = 0.444</text>\n<text text-anchor=\"start\" x=\"515\" y=\"-37.8\" font-family=\"Helvetica,sans-Serif\" font-size=\"14.00\">samples = 15</text>\n<text text-anchor=\"start\" x=\"513\" y=\"-22.8\" font-family=\"Helvetica,sans-Serif\" font-size=\"14.00\">value = [10, 5]</text>\n<text text-anchor=\"start\" x=\"523\" y=\"-7.8\" font-family=\"Helvetica,sans-Serif\" font-size=\"14.00\">class = 0.0</text>\n</g>\n<!-- 9&#45;&gt;10 -->\n<g id=\"edge10\" class=\"edge\">\n<title>9&#45;&gt;10</title>\n<path fill=\"none\" stroke=\"black\" d=\"M586.13,-103.73C582.41,-95.24 578.48,-86.28 574.73,-77.73\"/>\n<polygon fill=\"black\" stroke=\"black\" points=\"577.82,-76.05 570.6,-68.3 571.41,-78.86 577.82,-76.05\"/>\n</g>\n<!-- 11 -->\n<g id=\"node12\" class=\"node\">\n<title>11</title>\n<path fill=\"#7ebfee\" stroke=\"black\" d=\"M730.5,-68C730.5,-68 637.5,-68 637.5,-68 631.5,-68 625.5,-62 625.5,-56 625.5,-56 625.5,-12 625.5,-12 625.5,-6 631.5,0 637.5,0 637.5,0 730.5,0 730.5,0 736.5,0 742.5,-6 742.5,-12 742.5,-12 742.5,-56 742.5,-56 742.5,-62 736.5,-68 730.5,-68\"/>\n<text text-anchor=\"start\" x=\"648.5\" y=\"-52.8\" font-family=\"Helvetica,sans-Serif\" font-size=\"14.00\">gini = 0.384</text>\n<text text-anchor=\"start\" x=\"639\" y=\"-37.8\" font-family=\"Helvetica,sans-Serif\" font-size=\"14.00\">samples = 297</text>\n<text text-anchor=\"start\" x=\"633.5\" y=\"-22.8\" font-family=\"Helvetica,sans-Serif\" font-size=\"14.00\">value = [77, 220]</text>\n<text text-anchor=\"start\" x=\"651\" y=\"-7.8\" font-family=\"Helvetica,sans-Serif\" font-size=\"14.00\">class = 1.0</text>\n</g>\n<!-- 9&#45;&gt;11 -->\n<g id=\"edge11\" class=\"edge\">\n<title>9&#45;&gt;11</title>\n<path fill=\"none\" stroke=\"black\" d=\"M633.79,-103.73C640.25,-94.88 647.1,-85.51 653.59,-76.63\"/>\n<polygon fill=\"black\" stroke=\"black\" points=\"656.6,-78.44 659.67,-68.3 650.95,-74.31 656.6,-78.44\"/>\n</g>\n<!-- 13 -->\n<g id=\"node14\" class=\"node\">\n<title>13</title>\n<path fill=\"#f4caac\" stroke=\"black\" d=\"M859,-68C859,-68 773,-68 773,-68 767,-68 761,-62 761,-56 761,-56 761,-12 761,-12 761,-6 767,0 773,0 773,0 859,0 859,0 865,0 871,-6 871,-12 871,-12 871,-56 871,-56 871,-62 865,-68 859,-68\"/>\n<text text-anchor=\"start\" x=\"780.5\" y=\"-52.8\" font-family=\"Helvetica,sans-Serif\" font-size=\"14.00\">gini = 0.465</text>\n<text text-anchor=\"start\" x=\"775\" y=\"-37.8\" font-family=\"Helvetica,sans-Serif\" font-size=\"14.00\">samples = 76</text>\n<text text-anchor=\"start\" x=\"769\" y=\"-22.8\" font-family=\"Helvetica,sans-Serif\" font-size=\"14.00\">value = [48, 28]</text>\n<text text-anchor=\"start\" x=\"783\" y=\"-7.8\" font-family=\"Helvetica,sans-Serif\" font-size=\"14.00\">class = 0.0</text>\n</g>\n<!-- 12&#45;&gt;13 -->\n<g id=\"edge13\" class=\"edge\">\n<title>12&#45;&gt;13</title>\n<path fill=\"none\" stroke=\"black\" d=\"M816,-103.73C816,-95.52 816,-86.86 816,-78.56\"/>\n<polygon fill=\"black\" stroke=\"black\" points=\"819.5,-78.3 816,-68.3 812.5,-78.3 819.5,-78.3\"/>\n</g>\n<!-- 14 -->\n<g id=\"node15\" class=\"node\">\n<title>14</title>\n<path fill=\"#a9d4f4\" stroke=\"black\" d=\"M987,-68C987,-68 901,-68 901,-68 895,-68 889,-62 889,-56 889,-56 889,-12 889,-12 889,-6 895,0 901,0 901,0 987,0 987,0 993,0 999,-6 999,-12 999,-12 999,-56 999,-56 999,-62 993,-68 987,-68\"/>\n<text text-anchor=\"start\" x=\"908.5\" y=\"-52.8\" font-family=\"Helvetica,sans-Serif\" font-size=\"14.00\">gini = 0.461</text>\n<text text-anchor=\"start\" x=\"903\" y=\"-37.8\" font-family=\"Helvetica,sans-Serif\" font-size=\"14.00\">samples = 72</text>\n<text text-anchor=\"start\" x=\"897\" y=\"-22.8\" font-family=\"Helvetica,sans-Serif\" font-size=\"14.00\">value = [26, 46]</text>\n<text text-anchor=\"start\" x=\"911\" y=\"-7.8\" font-family=\"Helvetica,sans-Serif\" font-size=\"14.00\">class = 1.0</text>\n</g>\n<!-- 12&#45;&gt;14 -->\n<g id=\"edge14\" class=\"edge\">\n<title>12&#45;&gt;14</title>\n<path fill=\"none\" stroke=\"black\" d=\"M863.66,-103.73C874.64,-94.33 886.31,-84.35 897.26,-74.99\"/>\n<polygon fill=\"black\" stroke=\"black\" points=\"899.75,-77.46 905.07,-68.3 895.2,-72.14 899.75,-77.46\"/>\n</g>\n</g>\n</svg>\n"
     },
     "execution_count": 116,
     "metadata": {},
     "output_type": "execute_result"
    }
   ],
   "source": [
    "import graphviz\n",
    "\n",
    "dot_data =  tree.export_graphviz(dt, out_file=None,\n",
    "                                   feature_names=data_3.drop('results', axis=1).columns,\n",
    "                                   class_names=['0.0', '1.0'],\n",
    "                                   filled=True, rounded=True,\n",
    "                                   special_characters=True)\n",
    "graph = graphviz.Source(dot_data)\n",
    "graph.render('model3.gv', view=True)\n",
    "graph"
   ]
  },
  {
   "cell_type": "code",
   "execution_count": 117,
   "metadata": {
    "pycharm": {
     "name": "#%%\n"
    }
   },
   "outputs": [
    {
     "name": "stdout",
     "output_type": "stream",
     "text": [
      "Importance of feature Age:, 0.000\n",
      "Importance of feature Gender:, 0.000\n",
      "Importance of feature PSQI:, 0.000\n",
      "Importance of feature MEQ_type:, 0.375\n",
      "Importance of feature 9A00000045146841:, 0.088\n",
      "Importance of feature F9000000452CCF41:, 0.000\n",
      "Importance of feature 76000000452C9741:, 0.000\n",
      "Importance of feature 7200000045201D41:, 0.000\n",
      "Importance of feature 4B0000004516B141:, 0.000\n",
      "Importance of feature CB000000452D7441:, 0.077\n",
      "Importance of feature DPG_finger-chest:, 0.000\n",
      "Importance of feature DPG_nose-forehead:, 0.000\n",
      "Importance of feature DPG_pinna-mastoid:, 0.147\n",
      "Importance of feature FLIR_forehead:, 0.282\n",
      "Importance of feature FLIR_nose:, 0.031\n",
      "Importance of feature FLIR_DPG_nose-forehead:, 0.000\n"
     ]
    },
    {
     "data": {
      "text/plain": "    index                Variable  Feature Importance Score\n0       3                MEQ_type                  0.374789\n1      13           FLIR_forehead                  0.282396\n2      12       DPG_pinna-mastoid                  0.146632\n3       4        9A00000045146841                  0.087898\n4       9        CB000000452D7441                  0.077056\n5      14               FLIR_nose                  0.031229\n6       0                     Age                  0.000000\n7       1                  Gender                  0.000000\n8       2                    PSQI                  0.000000\n9       5        F9000000452CCF41                  0.000000\n10      6        76000000452C9741                  0.000000\n11      7        7200000045201D41                  0.000000\n12      8        4B0000004516B141                  0.000000\n13     10        DPG_finger-chest                  0.000000\n14     11       DPG_nose-forehead                  0.000000\n15     15  FLIR_DPG_nose-forehead                  0.000000",
      "text/html": "<div>\n<style scoped>\n    .dataframe tbody tr th:only-of-type {\n        vertical-align: middle;\n    }\n\n    .dataframe tbody tr th {\n        vertical-align: top;\n    }\n\n    .dataframe thead th {\n        text-align: right;\n    }\n</style>\n<table border=\"1\" class=\"dataframe\">\n  <thead>\n    <tr style=\"text-align: right;\">\n      <th></th>\n      <th>index</th>\n      <th>Variable</th>\n      <th>Feature Importance Score</th>\n    </tr>\n  </thead>\n  <tbody>\n    <tr>\n      <th>0</th>\n      <td>3</td>\n      <td>MEQ_type</td>\n      <td>0.374789</td>\n    </tr>\n    <tr>\n      <th>1</th>\n      <td>13</td>\n      <td>FLIR_forehead</td>\n      <td>0.282396</td>\n    </tr>\n    <tr>\n      <th>2</th>\n      <td>12</td>\n      <td>DPG_pinna-mastoid</td>\n      <td>0.146632</td>\n    </tr>\n    <tr>\n      <th>3</th>\n      <td>4</td>\n      <td>9A00000045146841</td>\n      <td>0.087898</td>\n    </tr>\n    <tr>\n      <th>4</th>\n      <td>9</td>\n      <td>CB000000452D7441</td>\n      <td>0.077056</td>\n    </tr>\n    <tr>\n      <th>5</th>\n      <td>14</td>\n      <td>FLIR_nose</td>\n      <td>0.031229</td>\n    </tr>\n    <tr>\n      <th>6</th>\n      <td>0</td>\n      <td>Age</td>\n      <td>0.000000</td>\n    </tr>\n    <tr>\n      <th>7</th>\n      <td>1</td>\n      <td>Gender</td>\n      <td>0.000000</td>\n    </tr>\n    <tr>\n      <th>8</th>\n      <td>2</td>\n      <td>PSQI</td>\n      <td>0.000000</td>\n    </tr>\n    <tr>\n      <th>9</th>\n      <td>5</td>\n      <td>F9000000452CCF41</td>\n      <td>0.000000</td>\n    </tr>\n    <tr>\n      <th>10</th>\n      <td>6</td>\n      <td>76000000452C9741</td>\n      <td>0.000000</td>\n    </tr>\n    <tr>\n      <th>11</th>\n      <td>7</td>\n      <td>7200000045201D41</td>\n      <td>0.000000</td>\n    </tr>\n    <tr>\n      <th>12</th>\n      <td>8</td>\n      <td>4B0000004516B141</td>\n      <td>0.000000</td>\n    </tr>\n    <tr>\n      <th>13</th>\n      <td>10</td>\n      <td>DPG_finger-chest</td>\n      <td>0.000000</td>\n    </tr>\n    <tr>\n      <th>14</th>\n      <td>11</td>\n      <td>DPG_nose-forehead</td>\n      <td>0.000000</td>\n    </tr>\n    <tr>\n      <th>15</th>\n      <td>15</td>\n      <td>FLIR_DPG_nose-forehead</td>\n      <td>0.000000</td>\n    </tr>\n  </tbody>\n</table>\n</div>"
     },
     "execution_count": 117,
     "metadata": {},
     "output_type": "execute_result"
    }
   ],
   "source": [
    "final = ''\n",
    "fi = ''\n",
    "for i, column in enumerate(data_3.drop('results', axis=1)):\n",
    "    print('Importance of feature {}:, {:.3f}'.format(column, dt.feature_importances_[i]))\n",
    "\n",
    "    fi = pd.DataFrame({'Variable': [column], 'Feature Importance Score': [dt.feature_importances_[i]]})\n",
    "\n",
    "    try:\n",
    "        final = pd.concat([final, fi], ignore_index=True)\n",
    "    except:\n",
    "        final = fi\n",
    "\n",
    "# Ordering the data\n",
    "final_fi = final.sort_values('Feature Importance Score', ascending=False).reset_index()\n",
    "final_fi"
   ]
  },
  {
   "cell_type": "code",
   "execution_count": 118,
   "metadata": {
    "pycharm": {
     "name": "#%%\n"
    }
   },
   "outputs": [
    {
     "name": "stdout",
     "output_type": "stream",
     "text": [
      "Training Accuracy is:  0.7898181818181819\n",
      "Testing Accuracy is:  0.8023255813953488\n"
     ]
    }
   ],
   "source": [
    "# Accuracy on Train\n",
    "print(\"Training Accuracy is: \", dt.score(X_train, Y_train))\n",
    "\n",
    "# Accuracy on Train\n",
    "print(\"Testing Accuracy is: \", dt.score(X_test, Y_test))"
   ]
  },
  {
   "cell_type": "code",
   "execution_count": 119,
   "metadata": {
    "pycharm": {
     "name": "#%%\n"
    }
   },
   "outputs": [
    {
     "name": "stdout",
     "output_type": "stream",
     "text": [
      "Training Accuracy is:  1.0\n",
      "Testing Accuracy is:  0.7441860465116279\n"
     ]
    }
   ],
   "source": [
    "# Building a forest\n",
    "random_forest = RandomForestClassifier(n_estimators=100, random_state=30)\n",
    "random_forest.fit(X_train, Y_train)\n",
    "# prediction_test = random_forest.predict(X=X_test)\n",
    "\n",
    "# Accuracy on Test\n",
    "print(\"Training Accuracy is: \", random_forest.score(X_train, Y_train))\n",
    "# Accuracy on Train\n",
    "print(\"Testing Accuracy is: \", random_forest.score(X_test, Y_test))"
   ]
  },
  {
   "cell_type": "code",
   "execution_count": 120,
   "metadata": {
    "pycharm": {
     "name": "#%%\n"
    }
   },
   "outputs": [
    {
     "name": "stdout",
     "output_type": "stream",
     "text": [
      "Importance of feature Age:, 0.005\n",
      "Importance of feature Gender:, 0.001\n",
      "Importance of feature PSQI:, 0.003\n",
      "Importance of feature MEQ_type:, 0.016\n",
      "Importance of feature 9A00000045146841:, 0.027\n",
      "Importance of feature F9000000452CCF41:, 0.052\n",
      "Importance of feature 76000000452C9741:, 0.026\n",
      "Importance of feature 7200000045201D41:, 0.023\n",
      "Importance of feature 4B0000004516B141:, 0.085\n",
      "Importance of feature CB000000452D7441:, 0.047\n",
      "Importance of feature DPG_finger-chest:, 0.090\n",
      "Importance of feature DPG_nose-forehead:, 0.074\n",
      "Importance of feature DPG_pinna-mastoid:, 0.034\n",
      "Importance of feature FLIR_forehead:, 0.187\n",
      "Importance of feature FLIR_nose:, 0.164\n",
      "Importance of feature FLIR_DPG_nose-forehead:, 0.165\n"
     ]
    },
    {
     "data": {
      "text/plain": "    index                Variable  Feature Importance Score\n0      13           FLIR_forehead                  0.187216\n1      15  FLIR_DPG_nose-forehead                  0.165005\n2      14               FLIR_nose                  0.164047\n3      10        DPG_finger-chest                  0.090190\n4       8        4B0000004516B141                  0.085003\n5      11       DPG_nose-forehead                  0.074418\n6       5        F9000000452CCF41                  0.052453\n7       9        CB000000452D7441                  0.047249\n8      12       DPG_pinna-mastoid                  0.034030\n9       4        9A00000045146841                  0.026528\n10      6        76000000452C9741                  0.025866\n11      7        7200000045201D41                  0.023494\n12      3                MEQ_type                  0.015883\n13      0                     Age                  0.005068\n14      2                    PSQI                  0.002585\n15      1                  Gender                  0.000966",
      "text/html": "<div>\n<style scoped>\n    .dataframe tbody tr th:only-of-type {\n        vertical-align: middle;\n    }\n\n    .dataframe tbody tr th {\n        vertical-align: top;\n    }\n\n    .dataframe thead th {\n        text-align: right;\n    }\n</style>\n<table border=\"1\" class=\"dataframe\">\n  <thead>\n    <tr style=\"text-align: right;\">\n      <th></th>\n      <th>index</th>\n      <th>Variable</th>\n      <th>Feature Importance Score</th>\n    </tr>\n  </thead>\n  <tbody>\n    <tr>\n      <th>0</th>\n      <td>13</td>\n      <td>FLIR_forehead</td>\n      <td>0.187216</td>\n    </tr>\n    <tr>\n      <th>1</th>\n      <td>15</td>\n      <td>FLIR_DPG_nose-forehead</td>\n      <td>0.165005</td>\n    </tr>\n    <tr>\n      <th>2</th>\n      <td>14</td>\n      <td>FLIR_nose</td>\n      <td>0.164047</td>\n    </tr>\n    <tr>\n      <th>3</th>\n      <td>10</td>\n      <td>DPG_finger-chest</td>\n      <td>0.090190</td>\n    </tr>\n    <tr>\n      <th>4</th>\n      <td>8</td>\n      <td>4B0000004516B141</td>\n      <td>0.085003</td>\n    </tr>\n    <tr>\n      <th>5</th>\n      <td>11</td>\n      <td>DPG_nose-forehead</td>\n      <td>0.074418</td>\n    </tr>\n    <tr>\n      <th>6</th>\n      <td>5</td>\n      <td>F9000000452CCF41</td>\n      <td>0.052453</td>\n    </tr>\n    <tr>\n      <th>7</th>\n      <td>9</td>\n      <td>CB000000452D7441</td>\n      <td>0.047249</td>\n    </tr>\n    <tr>\n      <th>8</th>\n      <td>12</td>\n      <td>DPG_pinna-mastoid</td>\n      <td>0.034030</td>\n    </tr>\n    <tr>\n      <th>9</th>\n      <td>4</td>\n      <td>9A00000045146841</td>\n      <td>0.026528</td>\n    </tr>\n    <tr>\n      <th>10</th>\n      <td>6</td>\n      <td>76000000452C9741</td>\n      <td>0.025866</td>\n    </tr>\n    <tr>\n      <th>11</th>\n      <td>7</td>\n      <td>7200000045201D41</td>\n      <td>0.023494</td>\n    </tr>\n    <tr>\n      <th>12</th>\n      <td>3</td>\n      <td>MEQ_type</td>\n      <td>0.015883</td>\n    </tr>\n    <tr>\n      <th>13</th>\n      <td>0</td>\n      <td>Age</td>\n      <td>0.005068</td>\n    </tr>\n    <tr>\n      <th>14</th>\n      <td>2</td>\n      <td>PSQI</td>\n      <td>0.002585</td>\n    </tr>\n    <tr>\n      <th>15</th>\n      <td>1</td>\n      <td>Gender</td>\n      <td>0.000966</td>\n    </tr>\n  </tbody>\n</table>\n</div>"
     },
     "execution_count": 120,
     "metadata": {},
     "output_type": "execute_result"
    }
   ],
   "source": [
    "fi2 = ''\n",
    "final2 = ''\n",
    "for i, column in enumerate(data_3.drop('results', axis=1)):\n",
    "    print('Importance of feature {}:, {:.3f}'.format(column, random_forest.feature_importances_[i]))\n",
    "    fi2 = pd.DataFrame({'Variable': [column], 'Feature Importance Score': [random_forest.feature_importances_[i]]})\n",
    "\n",
    "    try:\n",
    "        final2 = pd.concat([final2, fi2], ignore_index=True)\n",
    "    except:\n",
    "        final2 = fi2\n",
    "\n",
    "# Ordering the data\n",
    "final_fi2 = final2.sort_values('Feature Importance Score', ascending=False).reset_index()\n",
    "final_fi2"
   ]
  }
 ],
 "metadata": {
  "kernelspec": {
   "display_name": "Python 3",
   "language": "python",
   "name": "python3"
  },
  "language_info": {
   "codemirror_mode": {
    "name": "ipython",
    "version": 3
   },
   "file_extension": ".py",
   "mimetype": "text/x-python",
   "name": "python",
   "nbconvert_exporter": "python",
   "pygments_lexer": "ipython3",
   "version": "3.8.8"
  }
 },
 "nbformat": 4,
 "nbformat_minor": 1
}