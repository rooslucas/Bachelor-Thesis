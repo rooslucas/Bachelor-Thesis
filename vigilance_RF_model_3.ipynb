{
 "cells": [
  {
   "cell_type": "markdown",
   "metadata": {
    "collapsed": true,
    "pycharm": {
     "name": "#%% md\n"
    }
   },
   "source": [
    "# Predicting vigilance using machine learning\n",
    "## Random Forest Model 3\n",
    "Rosalie Lucas (6540384)\n",
    "\n",
    "This is the second model in my thesis Predicting vigilance using machine learning.\n",
    "In this model subjective measures and demographic data will be used.\n",
    "These are consistent within one participant and therefor could be over represented."
   ]
  },
  {
   "cell_type": "code",
   "execution_count": 70,
   "metadata": {
    "pycharm": {
     "name": "#%%\n"
    }
   },
   "outputs": [],
   "source": [
    "# Import Libraries needed\n",
    "import pandas as pd\n",
    "import os\n",
    "import numpy as np\n",
    "from matplotlib import pyplot as plt\n",
    "import seaborn as sns\n",
    "%matplotlib inline\n",
    "\n",
    "import warnings\n",
    "warnings.filterwarnings('ignore')\n",
    "\n",
    "\n",
    "from sklearn.model_selection import train_test_split\n",
    "from sklearn import tree\n",
    "from sklearn.tree import DecisionTreeClassifier, export_graphviz\n",
    "from sklearn.ensemble import RandomForestClassifier\n",
    "from sklearn.preprocessing import LabelEncoder\n",
    "\n",
    "# Installed Graphviz using Pip3"
   ]
  },
  {
   "cell_type": "code",
   "execution_count": 70,
   "metadata": {
    "pycharm": {
     "name": "#%%\n"
    }
   },
   "outputs": [],
   "source": []
  },
  {
   "cell_type": "code",
   "execution_count": 71,
   "metadata": {
    "pycharm": {
     "name": "#%%\n"
    }
   },
   "outputs": [],
   "source": [
    "data_file_path = '/Users/roos/Data/all_trials_noNaN2.csv'\n",
    "data_file = pd.read_csv(data_file_path)\n",
    "data_3 = data_file[[ 'Age', 'Gender', 'PSQI', 'MEQ_type', '9A00000045146841', #'FF00000045298741',\n",
    "       'F9000000452CCF41', '76000000452C9741', '7200000045201D41', '4B0000004516B141', 'CB000000452D7441', 'DPG_finger-chest',\n",
    "       'DPG_nose-forehead', 'DPG_pinna-mastoid', 'results', 'FLIR_forehead', 'FLIR_nose', 'FLIR_DPG_nose-forehead']]\n"
   ]
  },
  {
   "cell_type": "code",
   "execution_count": 72,
   "metadata": {
    "pycharm": {
     "name": "#%%\n"
    }
   },
   "outputs": [
    {
     "name": "stdout",
     "output_type": "stream",
     "text": [
      "gender classes: ['female' 'male']\n",
      "Gender integer classes [0 1]\n",
      "MEQ classes: ['evening' 'intermediate' 'morning']\n",
      "MEQ> integer classes [0 1 2]\n"
     ]
    }
   ],
   "source": [
    "# Encode categorical variables\n",
    "# Gender\n",
    "encoder = LabelEncoder()\n",
    "label_encoder_gender = encoder.fit(data_3['Gender'])\n",
    "print(\"gender classes:\", label_encoder_gender.classes_)\n",
    "integer_classes_gender = label_encoder_gender.transform(label_encoder_gender.classes_)\n",
    "print(\"Gender integer classes\", integer_classes_gender)\n",
    "code = label_encoder_gender.transform(data_3['Gender'])\n",
    "data_3['Gender'] = code\n",
    "\n",
    "# MEQ_type\n",
    "label_encoder_MEQ = encoder.fit(data_3['MEQ_type'])\n",
    "print(\"MEQ classes:\", label_encoder_MEQ.classes_)\n",
    "integer_classes_MEQ = label_encoder_MEQ.transform(label_encoder_MEQ.classes_)\n",
    "print(\"MEQ> integer classes\", integer_classes_MEQ)\n",
    "code_MEQ = label_encoder_MEQ.transform(data_3['MEQ_type'])\n",
    "data_3['MEQ_type'] = code_MEQ"
   ]
  },
  {
   "cell_type": "code",
   "execution_count": 73,
   "metadata": {
    "pycharm": {
     "name": "#%%\n"
    }
   },
   "outputs": [],
   "source": [
    "# plot = sns.pairplot(data_3, hue='results', palette=\"Set1\")"
   ]
  },
  {
   "cell_type": "code",
   "execution_count": 74,
   "metadata": {
    "pycharm": {
     "name": "#%%\n"
    }
   },
   "outputs": [
    {
     "name": "stdout",
     "output_type": "stream",
     "text": [
      "The number of values for feature Age : 7 -- [19 21 22 23 26 50 59]\n",
      "The number of values for feature Gender : 2 -- [0 1]\n",
      "The number of values for feature PSQI : 5 -- [0.28571429 0.42857143 0.57142857 0.71428571 1.2       ]\n",
      "The number of values for feature MEQ_type : 3 -- [0 1 2]\n",
      "The number of values for feature 9A00000045146841 : 27\n",
      "The number of values for feature F9000000452CCF41 : 65\n",
      "The number of values for feature 76000000452C9741 : 38\n",
      "The number of values for feature 7200000045201D41 : 25\n",
      "The number of values for feature 4B0000004516B141 : 187\n",
      "The number of values for feature CB000000452D7441 : 73\n",
      "The number of values for feature DPG_finger-chest : 366\n",
      "The number of values for feature DPG_nose-forehead : 235\n",
      "The number of values for feature DPG_pinna-mastoid : 63\n",
      "The number of values for feature results : 2 -- [0. 1.]\n",
      "The number of values for feature FLIR_forehead : 1716\n",
      "The number of values for feature FLIR_nose : 1716\n",
      "The number of values for feature FLIR_DPG_nose-forehead : 1716\n",
      "Age                       0\n",
      "Gender                    0\n",
      "PSQI                      0\n",
      "MEQ_type                  0\n",
      "9A00000045146841          0\n",
      "F9000000452CCF41          0\n",
      "76000000452C9741          0\n",
      "7200000045201D41          0\n",
      "4B0000004516B141          0\n",
      "CB000000452D7441          0\n",
      "DPG_finger-chest          0\n",
      "DPG_nose-forehead         0\n",
      "DPG_pinna-mastoid         0\n",
      "results                   0\n",
      "FLIR_forehead             0\n",
      "FLIR_nose                 0\n",
      "FLIR_DPG_nose-forehead    0\n",
      "dtype: int64\n"
     ]
    }
   ],
   "source": [
    "for column in data_3:  # Describe the amount of different features in each column (column is a feature)\n",
    "    unique_values = np.unique(data_3[column])\n",
    "    number_values = len(unique_values)\n",
    "    if number_values < 12:\n",
    "        print(\"The number of values for feature {} : {} -- {}\".format(column, number_values, unique_values))\n",
    "    else:\n",
    "        print(\"The number of values for feature {} : {}\".format(column, number_values))\n",
    "\n",
    "print(data_3.isnull().sum())"
   ]
  },
  {
   "cell_type": "code",
   "execution_count": 75,
   "metadata": {
    "pycharm": {
     "name": "#%%\n"
    }
   },
   "outputs": [
    {
     "name": "stdout",
     "output_type": "stream",
     "text": [
      "X shape: (1716, 16)\n",
      "Y shape: (1716,)\n"
     ]
    }
   ],
   "source": [
    "# Splitting the data\n",
    "X = data_3.drop('results', axis=1).values\n",
    "Y = data_3['results'].values\n",
    "print('X shape: {}'.format(np.shape(X)))\n",
    "print('Y shape: {}'.format(np.shape(Y)))\n",
    "\n",
    "X_train, X_test, Y_train, Y_test = train_test_split(X, Y, train_size=0.8, test_size=0.2, random_state=0)"
   ]
  },
  {
   "cell_type": "code",
   "execution_count": 76,
   "metadata": {
    "pycharm": {
     "name": "#%%\n"
    }
   },
   "outputs": [
    {
     "name": "stdout",
     "output_type": "stream",
     "text": [
      "0.7645348837209303\n",
      "0.7798833819241983\n"
     ]
    }
   ],
   "source": [
    "dt = DecisionTreeClassifier(max_depth=3, random_state=0)\n",
    "dt.fit(X_train, Y_train)\n",
    "print(Y_test.sum()/len(Y_test))\n",
    "print(Y_train.sum()/(len(Y_train)))"
   ]
  },
  {
   "cell_type": "code",
   "execution_count": 77,
   "metadata": {
    "pycharm": {
     "name": "#%%\n"
    }
   },
   "outputs": [
    {
     "data": {
      "text/plain": "<graphviz.files.Source at 0x7fbf8fba7490>",
      "image/svg+xml": "<?xml version=\"1.0\" encoding=\"UTF-8\" standalone=\"no\"?>\n<!DOCTYPE svg PUBLIC \"-//W3C//DTD SVG 1.1//EN\"\n \"http://www.w3.org/Graphics/SVG/1.1/DTD/svg11.dtd\">\n<!-- Generated by graphviz version 2.47.1 (20210417.1919)\n -->\n<!-- Title: Tree Pages: 1 -->\n<svg width=\"1008pt\" height=\"433pt\"\n viewBox=\"0.00 0.00 1008.00 433.00\" xmlns=\"http://www.w3.org/2000/svg\" xmlns:xlink=\"http://www.w3.org/1999/xlink\">\n<g id=\"graph0\" class=\"graph\" transform=\"scale(1 1) rotate(0) translate(4 429)\">\n<title>Tree</title>\n<polygon fill=\"white\" stroke=\"transparent\" points=\"-4,4 -4,-429 1004,-429 1004,4 -4,4\"/>\n<!-- 0 -->\n<g id=\"node1\" class=\"node\">\n<title>0</title>\n<path fill=\"#71b9ec\" stroke=\"black\" d=\"M551,-425C551,-425 443,-425 443,-425 437,-425 431,-419 431,-413 431,-413 431,-354 431,-354 431,-348 437,-342 443,-342 443,-342 551,-342 551,-342 557,-342 563,-348 563,-354 563,-354 563,-413 563,-413 563,-419 557,-425 551,-425\"/>\n<text text-anchor=\"start\" x=\"447\" y=\"-409.8\" font-family=\"Helvetica,sans-Serif\" font-size=\"14.00\">MEQ_type ≤ 1.5</text>\n<text text-anchor=\"start\" x=\"461.5\" y=\"-394.8\" font-family=\"Helvetica,sans-Serif\" font-size=\"14.00\">gini = 0.343</text>\n<text text-anchor=\"start\" x=\"448.5\" y=\"-379.8\" font-family=\"Helvetica,sans-Serif\" font-size=\"14.00\">samples = 1372</text>\n<text text-anchor=\"start\" x=\"439\" y=\"-364.8\" font-family=\"Helvetica,sans-Serif\" font-size=\"14.00\">value = [302, 1070]</text>\n<text text-anchor=\"start\" x=\"464\" y=\"-349.8\" font-family=\"Helvetica,sans-Serif\" font-size=\"14.00\">class = 1.0</text>\n</g>\n<!-- 1 -->\n<g id=\"node2\" class=\"node\">\n<title>1</title>\n<path fill=\"#5eafea\" stroke=\"black\" d=\"M479.5,-306C479.5,-306 310.5,-306 310.5,-306 304.5,-306 298.5,-300 298.5,-294 298.5,-294 298.5,-235 298.5,-235 298.5,-229 304.5,-223 310.5,-223 310.5,-223 479.5,-223 479.5,-223 485.5,-223 491.5,-229 491.5,-235 491.5,-235 491.5,-294 491.5,-294 491.5,-300 485.5,-306 479.5,-306\"/>\n<text text-anchor=\"start\" x=\"306.5\" y=\"-290.8\" font-family=\"Helvetica,sans-Serif\" font-size=\"14.00\">DPG_pinna&#45;mastoid ≤ &#45;5.727</text>\n<text text-anchor=\"start\" x=\"359.5\" y=\"-275.8\" font-family=\"Helvetica,sans-Serif\" font-size=\"14.00\">gini = 0.266</text>\n<text text-anchor=\"start\" x=\"350\" y=\"-260.8\" font-family=\"Helvetica,sans-Serif\" font-size=\"14.00\">samples = 917</text>\n<text text-anchor=\"start\" x=\"340.5\" y=\"-245.8\" font-family=\"Helvetica,sans-Serif\" font-size=\"14.00\">value = [145, 772]</text>\n<text text-anchor=\"start\" x=\"362\" y=\"-230.8\" font-family=\"Helvetica,sans-Serif\" font-size=\"14.00\">class = 1.0</text>\n</g>\n<!-- 0&#45;&gt;1 -->\n<g id=\"edge1\" class=\"edge\">\n<title>0&#45;&gt;1</title>\n<path fill=\"none\" stroke=\"black\" d=\"M461.61,-341.91C453.7,-332.83 445.23,-323.12 437.08,-313.77\"/>\n<polygon fill=\"black\" stroke=\"black\" points=\"439.54,-311.26 430.33,-306.02 434.26,-315.86 439.54,-311.26\"/>\n<text text-anchor=\"middle\" x=\"428.62\" y=\"-327.26\" font-family=\"Helvetica,sans-Serif\" font-size=\"14.00\">True</text>\n</g>\n<!-- 8 -->\n<g id=\"node9\" class=\"node\">\n<title>8</title>\n<path fill=\"#a1d1f3\" stroke=\"black\" d=\"M693.5,-306C693.5,-306 554.5,-306 554.5,-306 548.5,-306 542.5,-300 542.5,-294 542.5,-294 542.5,-235 542.5,-235 542.5,-229 548.5,-223 554.5,-223 554.5,-223 693.5,-223 693.5,-223 699.5,-223 705.5,-229 705.5,-235 705.5,-235 705.5,-294 705.5,-294 705.5,-300 699.5,-306 693.5,-306\"/>\n<text text-anchor=\"start\" x=\"550.5\" y=\"-290.8\" font-family=\"Helvetica,sans-Serif\" font-size=\"14.00\">FLIR_forehead ≤ 33.999</text>\n<text text-anchor=\"start\" x=\"588.5\" y=\"-275.8\" font-family=\"Helvetica,sans-Serif\" font-size=\"14.00\">gini = 0.452</text>\n<text text-anchor=\"start\" x=\"579\" y=\"-260.8\" font-family=\"Helvetica,sans-Serif\" font-size=\"14.00\">samples = 455</text>\n<text text-anchor=\"start\" x=\"569.5\" y=\"-245.8\" font-family=\"Helvetica,sans-Serif\" font-size=\"14.00\">value = [157, 298]</text>\n<text text-anchor=\"start\" x=\"591\" y=\"-230.8\" font-family=\"Helvetica,sans-Serif\" font-size=\"14.00\">class = 1.0</text>\n</g>\n<!-- 0&#45;&gt;8 -->\n<g id=\"edge8\" class=\"edge\">\n<title>0&#45;&gt;8</title>\n<path fill=\"none\" stroke=\"black\" d=\"M541.06,-341.91C551.21,-332.56 562.09,-322.54 572.52,-312.93\"/>\n<polygon fill=\"black\" stroke=\"black\" points=\"575.03,-315.37 580.02,-306.02 570.29,-310.22 575.03,-315.37\"/>\n<text text-anchor=\"middle\" x=\"578.99\" y=\"-327.3\" font-family=\"Helvetica,sans-Serif\" font-size=\"14.00\">False</text>\n</g>\n<!-- 2 -->\n<g id=\"node3\" class=\"node\">\n<title>2</title>\n<path fill=\"#8fc7f0\" stroke=\"black\" d=\"M262.5,-187C262.5,-187 87.5,-187 87.5,-187 81.5,-187 75.5,-181 75.5,-175 75.5,-175 75.5,-116 75.5,-116 75.5,-110 81.5,-104 87.5,-104 87.5,-104 262.5,-104 262.5,-104 268.5,-104 274.5,-110 274.5,-116 274.5,-116 274.5,-175 274.5,-175 274.5,-181 268.5,-187 262.5,-187\"/>\n<text text-anchor=\"start\" x=\"83.5\" y=\"-171.8\" font-family=\"Helvetica,sans-Serif\" font-size=\"14.00\">CB000000452D7441 ≤ 31.424</text>\n<text text-anchor=\"start\" x=\"139.5\" y=\"-156.8\" font-family=\"Helvetica,sans-Serif\" font-size=\"14.00\">gini = 0.422</text>\n<text text-anchor=\"start\" x=\"130\" y=\"-141.8\" font-family=\"Helvetica,sans-Serif\" font-size=\"14.00\">samples = 159</text>\n<text text-anchor=\"start\" x=\"125\" y=\"-126.8\" font-family=\"Helvetica,sans-Serif\" font-size=\"14.00\">value = [48, 111]</text>\n<text text-anchor=\"start\" x=\"142\" y=\"-111.8\" font-family=\"Helvetica,sans-Serif\" font-size=\"14.00\">class = 1.0</text>\n</g>\n<!-- 1&#45;&gt;2 -->\n<g id=\"edge2\" class=\"edge\">\n<title>1&#45;&gt;2</title>\n<path fill=\"none\" stroke=\"black\" d=\"M318.67,-222.91C299.82,-212.88 279.5,-202.07 260.25,-191.84\"/>\n<polygon fill=\"black\" stroke=\"black\" points=\"261.67,-188.63 251.19,-187.02 258.38,-194.81 261.67,-188.63\"/>\n</g>\n<!-- 5 -->\n<g id=\"node6\" class=\"node\">\n<title>5</title>\n<path fill=\"#56abe9\" stroke=\"black\" d=\"M472,-187C472,-187 318,-187 318,-187 312,-187 306,-181 306,-175 306,-175 306,-116 306,-116 306,-110 312,-104 318,-104 318,-104 472,-104 472,-104 478,-104 484,-110 484,-116 484,-116 484,-175 484,-175 484,-181 478,-187 472,-187\"/>\n<text text-anchor=\"start\" x=\"314\" y=\"-171.8\" font-family=\"Helvetica,sans-Serif\" font-size=\"14.00\">DPG_finger&#45;chest ≤ &#45;3.196</text>\n<text text-anchor=\"start\" x=\"359.5\" y=\"-156.8\" font-family=\"Helvetica,sans-Serif\" font-size=\"14.00\">gini = 0.223</text>\n<text text-anchor=\"start\" x=\"350\" y=\"-141.8\" font-family=\"Helvetica,sans-Serif\" font-size=\"14.00\">samples = 758</text>\n<text text-anchor=\"start\" x=\"344.5\" y=\"-126.8\" font-family=\"Helvetica,sans-Serif\" font-size=\"14.00\">value = [97, 661]</text>\n<text text-anchor=\"start\" x=\"362\" y=\"-111.8\" font-family=\"Helvetica,sans-Serif\" font-size=\"14.00\">class = 1.0</text>\n</g>\n<!-- 1&#45;&gt;5 -->\n<g id=\"edge5\" class=\"edge\">\n<title>1&#45;&gt;5</title>\n<path fill=\"none\" stroke=\"black\" d=\"M395,-222.91C395,-214.65 395,-205.86 395,-197.3\"/>\n<polygon fill=\"black\" stroke=\"black\" points=\"398.5,-197.02 395,-187.02 391.5,-197.02 398.5,-197.02\"/>\n</g>\n<!-- 3 -->\n<g id=\"node4\" class=\"node\">\n<title>3</title>\n<path fill=\"#41a1e6\" stroke=\"black\" d=\"M90,-68C90,-68 12,-68 12,-68 6,-68 0,-62 0,-56 0,-56 0,-12 0,-12 0,-6 6,0 12,0 12,0 90,0 90,0 96,0 102,-6 102,-12 102,-12 102,-56 102,-56 102,-62 96,-68 90,-68\"/>\n<text text-anchor=\"start\" x=\"15.5\" y=\"-52.8\" font-family=\"Helvetica,sans-Serif\" font-size=\"14.00\">gini = 0.074</text>\n<text text-anchor=\"start\" x=\"10\" y=\"-37.8\" font-family=\"Helvetica,sans-Serif\" font-size=\"14.00\">samples = 26</text>\n<text text-anchor=\"start\" x=\"8\" y=\"-22.8\" font-family=\"Helvetica,sans-Serif\" font-size=\"14.00\">value = [1, 25]</text>\n<text text-anchor=\"start\" x=\"18\" y=\"-7.8\" font-family=\"Helvetica,sans-Serif\" font-size=\"14.00\">class = 1.0</text>\n</g>\n<!-- 2&#45;&gt;3 -->\n<g id=\"edge3\" class=\"edge\">\n<title>2&#45;&gt;3</title>\n<path fill=\"none\" stroke=\"black\" d=\"M128.83,-103.73C118.19,-94.33 106.88,-84.35 96.28,-74.99\"/>\n<polygon fill=\"black\" stroke=\"black\" points=\"98.52,-72.3 88.71,-68.3 93.89,-77.54 98.52,-72.3\"/>\n</g>\n<!-- 4 -->\n<g id=\"node5\" class=\"node\">\n<title>4</title>\n<path fill=\"#a5d3f3\" stroke=\"black\" d=\"M218,-68C218,-68 132,-68 132,-68 126,-68 120,-62 120,-56 120,-56 120,-12 120,-12 120,-6 126,0 132,0 132,0 218,0 218,0 224,0 230,-6 230,-12 230,-12 230,-56 230,-56 230,-62 224,-68 218,-68\"/>\n<text text-anchor=\"start\" x=\"139.5\" y=\"-52.8\" font-family=\"Helvetica,sans-Serif\" font-size=\"14.00\">gini = 0.457</text>\n<text text-anchor=\"start\" x=\"130\" y=\"-37.8\" font-family=\"Helvetica,sans-Serif\" font-size=\"14.00\">samples = 133</text>\n<text text-anchor=\"start\" x=\"128\" y=\"-22.8\" font-family=\"Helvetica,sans-Serif\" font-size=\"14.00\">value = [47, 86]</text>\n<text text-anchor=\"start\" x=\"142\" y=\"-7.8\" font-family=\"Helvetica,sans-Serif\" font-size=\"14.00\">class = 1.0</text>\n</g>\n<!-- 2&#45;&gt;4 -->\n<g id=\"edge4\" class=\"edge\">\n<title>2&#45;&gt;4</title>\n<path fill=\"none\" stroke=\"black\" d=\"M175,-103.73C175,-95.52 175,-86.86 175,-78.56\"/>\n<polygon fill=\"black\" stroke=\"black\" points=\"178.5,-78.3 175,-68.3 171.5,-78.3 178.5,-78.3\"/>\n</g>\n<!-- 6 -->\n<g id=\"node7\" class=\"node\">\n<title>6</title>\n<path fill=\"#50a8e8\" stroke=\"black\" d=\"M353.5,-68C353.5,-68 260.5,-68 260.5,-68 254.5,-68 248.5,-62 248.5,-56 248.5,-56 248.5,-12 248.5,-12 248.5,-6 254.5,0 260.5,0 260.5,0 353.5,0 353.5,0 359.5,0 365.5,-6 365.5,-12 365.5,-12 365.5,-56 365.5,-56 365.5,-62 359.5,-68 353.5,-68\"/>\n<text text-anchor=\"start\" x=\"271.5\" y=\"-52.8\" font-family=\"Helvetica,sans-Serif\" font-size=\"14.00\">gini = 0.185</text>\n<text text-anchor=\"start\" x=\"262\" y=\"-37.8\" font-family=\"Helvetica,sans-Serif\" font-size=\"14.00\">samples = 553</text>\n<text text-anchor=\"start\" x=\"256.5\" y=\"-22.8\" font-family=\"Helvetica,sans-Serif\" font-size=\"14.00\">value = [57, 496]</text>\n<text text-anchor=\"start\" x=\"274\" y=\"-7.8\" font-family=\"Helvetica,sans-Serif\" font-size=\"14.00\">class = 1.0</text>\n</g>\n<!-- 5&#45;&gt;6 -->\n<g id=\"edge6\" class=\"edge\">\n<title>5&#45;&gt;6</title>\n<path fill=\"none\" stroke=\"black\" d=\"M362.23,-103.73C355.05,-94.79 347.44,-85.32 340.24,-76.36\"/>\n<polygon fill=\"black\" stroke=\"black\" points=\"342.75,-73.9 333.76,-68.3 337.3,-78.29 342.75,-73.9\"/>\n</g>\n<!-- 7 -->\n<g id=\"node8\" class=\"node\">\n<title>7</title>\n<path fill=\"#69b5eb\" stroke=\"black\" d=\"M488.5,-68C488.5,-68 395.5,-68 395.5,-68 389.5,-68 383.5,-62 383.5,-56 383.5,-56 383.5,-12 383.5,-12 383.5,-6 389.5,0 395.5,0 395.5,0 488.5,0 488.5,0 494.5,0 500.5,-6 500.5,-12 500.5,-12 500.5,-56 500.5,-56 500.5,-62 494.5,-68 488.5,-68\"/>\n<text text-anchor=\"start\" x=\"406.5\" y=\"-52.8\" font-family=\"Helvetica,sans-Serif\" font-size=\"14.00\">gini = 0.314</text>\n<text text-anchor=\"start\" x=\"397\" y=\"-37.8\" font-family=\"Helvetica,sans-Serif\" font-size=\"14.00\">samples = 205</text>\n<text text-anchor=\"start\" x=\"391.5\" y=\"-22.8\" font-family=\"Helvetica,sans-Serif\" font-size=\"14.00\">value = [40, 165]</text>\n<text text-anchor=\"start\" x=\"409\" y=\"-7.8\" font-family=\"Helvetica,sans-Serif\" font-size=\"14.00\">class = 1.0</text>\n</g>\n<!-- 5&#45;&gt;7 -->\n<g id=\"edge7\" class=\"edge\">\n<title>5&#45;&gt;7</title>\n<path fill=\"none\" stroke=\"black\" d=\"M412.5,-103.73C416.14,-95.24 419.99,-86.28 423.66,-77.73\"/>\n<polygon fill=\"black\" stroke=\"black\" points=\"426.98,-78.87 427.71,-68.3 420.55,-76.11 426.98,-78.87\"/>\n</g>\n<!-- 9 -->\n<g id=\"node10\" class=\"node\">\n<title>9</title>\n<path fill=\"#82c1ef\" stroke=\"black\" d=\"M708.5,-187C708.5,-187 539.5,-187 539.5,-187 533.5,-187 527.5,-181 527.5,-175 527.5,-175 527.5,-116 527.5,-116 527.5,-110 533.5,-104 539.5,-104 539.5,-104 708.5,-104 708.5,-104 714.5,-104 720.5,-110 720.5,-116 720.5,-116 720.5,-175 720.5,-175 720.5,-181 714.5,-187 708.5,-187\"/>\n<text text-anchor=\"start\" x=\"535.5\" y=\"-171.8\" font-family=\"Helvetica,sans-Serif\" font-size=\"14.00\">DPG_pinna&#45;mastoid ≤ &#45;2.295</text>\n<text text-anchor=\"start\" x=\"588.5\" y=\"-156.8\" font-family=\"Helvetica,sans-Serif\" font-size=\"14.00\">gini = 0.395</text>\n<text text-anchor=\"start\" x=\"579\" y=\"-141.8\" font-family=\"Helvetica,sans-Serif\" font-size=\"14.00\">samples = 318</text>\n<text text-anchor=\"start\" x=\"573.5\" y=\"-126.8\" font-family=\"Helvetica,sans-Serif\" font-size=\"14.00\">value = [86, 232]</text>\n<text text-anchor=\"start\" x=\"591\" y=\"-111.8\" font-family=\"Helvetica,sans-Serif\" font-size=\"14.00\">class = 1.0</text>\n</g>\n<!-- 8&#45;&gt;9 -->\n<g id=\"edge9\" class=\"edge\">\n<title>8&#45;&gt;9</title>\n<path fill=\"none\" stroke=\"black\" d=\"M624,-222.91C624,-214.65 624,-205.86 624,-197.3\"/>\n<polygon fill=\"black\" stroke=\"black\" points=\"627.5,-197.02 624,-187.02 620.5,-197.02 627.5,-197.02\"/>\n</g>\n<!-- 12 -->\n<g id=\"node13\" class=\"node\">\n<title>12</title>\n<path fill=\"#fdf6f1\" stroke=\"black\" d=\"M878.5,-187C878.5,-187 763.5,-187 763.5,-187 757.5,-187 751.5,-181 751.5,-175 751.5,-175 751.5,-116 751.5,-116 751.5,-110 757.5,-104 763.5,-104 763.5,-104 878.5,-104 878.5,-104 884.5,-104 890.5,-110 890.5,-116 890.5,-116 890.5,-175 890.5,-175 890.5,-181 884.5,-187 878.5,-187\"/>\n<text text-anchor=\"start\" x=\"759.5\" y=\"-171.8\" font-family=\"Helvetica,sans-Serif\" font-size=\"14.00\">FLIR_nose ≤ 28.085</text>\n<text text-anchor=\"start\" x=\"785.5\" y=\"-156.8\" font-family=\"Helvetica,sans-Serif\" font-size=\"14.00\">gini = 0.499</text>\n<text text-anchor=\"start\" x=\"776\" y=\"-141.8\" font-family=\"Helvetica,sans-Serif\" font-size=\"14.00\">samples = 137</text>\n<text text-anchor=\"start\" x=\"774\" y=\"-126.8\" font-family=\"Helvetica,sans-Serif\" font-size=\"14.00\">value = [71, 66]</text>\n<text text-anchor=\"start\" x=\"788\" y=\"-111.8\" font-family=\"Helvetica,sans-Serif\" font-size=\"14.00\">class = 0.0</text>\n</g>\n<!-- 8&#45;&gt;12 -->\n<g id=\"edge12\" class=\"edge\">\n<title>8&#45;&gt;12</title>\n<path fill=\"none\" stroke=\"black\" d=\"M692.35,-222.91C709,-213.02 726.93,-202.37 743.96,-192.25\"/>\n<polygon fill=\"black\" stroke=\"black\" points=\"745.96,-195.14 752.77,-187.02 742.39,-189.12 745.96,-195.14\"/>\n</g>\n<!-- 10 -->\n<g id=\"node11\" class=\"node\">\n<title>10</title>\n<path fill=\"#7cbeee\" stroke=\"black\" d=\"M623.5,-68C623.5,-68 530.5,-68 530.5,-68 524.5,-68 518.5,-62 518.5,-56 518.5,-56 518.5,-12 518.5,-12 518.5,-6 524.5,0 530.5,0 530.5,0 623.5,0 623.5,0 629.5,0 635.5,-6 635.5,-12 635.5,-12 635.5,-56 635.5,-56 635.5,-62 629.5,-68 623.5,-68\"/>\n<text text-anchor=\"start\" x=\"541.5\" y=\"-52.8\" font-family=\"Helvetica,sans-Serif\" font-size=\"14.00\">gini = 0.379</text>\n<text text-anchor=\"start\" x=\"532\" y=\"-37.8\" font-family=\"Helvetica,sans-Serif\" font-size=\"14.00\">samples = 303</text>\n<text text-anchor=\"start\" x=\"526.5\" y=\"-22.8\" font-family=\"Helvetica,sans-Serif\" font-size=\"14.00\">value = [77, 226]</text>\n<text text-anchor=\"start\" x=\"544\" y=\"-7.8\" font-family=\"Helvetica,sans-Serif\" font-size=\"14.00\">class = 1.0</text>\n</g>\n<!-- 9&#45;&gt;10 -->\n<g id=\"edge10\" class=\"edge\">\n<title>9&#45;&gt;10</title>\n<path fill=\"none\" stroke=\"black\" d=\"M606.5,-103.73C602.86,-95.24 599.01,-86.28 595.34,-77.73\"/>\n<polygon fill=\"black\" stroke=\"black\" points=\"598.45,-76.11 591.29,-68.3 592.02,-78.87 598.45,-76.11\"/>\n</g>\n<!-- 11 -->\n<g id=\"node12\" class=\"node\">\n<title>11</title>\n<path fill=\"#f6d5bd\" stroke=\"black\" d=\"M740,-68C740,-68 666,-68 666,-68 660,-68 654,-62 654,-56 654,-56 654,-12 654,-12 654,-6 660,0 666,0 666,0 740,0 740,0 746,0 752,-6 752,-12 752,-12 752,-56 752,-56 752,-62 746,-68 740,-68\"/>\n<text text-anchor=\"start\" x=\"671\" y=\"-52.8\" font-family=\"Helvetica,sans-Serif\" font-size=\"14.00\">gini = 0.48</text>\n<text text-anchor=\"start\" x=\"662\" y=\"-37.8\" font-family=\"Helvetica,sans-Serif\" font-size=\"14.00\">samples = 15</text>\n<text text-anchor=\"start\" x=\"663.5\" y=\"-22.8\" font-family=\"Helvetica,sans-Serif\" font-size=\"14.00\">value = [9, 6]</text>\n<text text-anchor=\"start\" x=\"670\" y=\"-7.8\" font-family=\"Helvetica,sans-Serif\" font-size=\"14.00\">class = 0.0</text>\n</g>\n<!-- 9&#45;&gt;11 -->\n<g id=\"edge11\" class=\"edge\">\n<title>9&#45;&gt;11</title>\n<path fill=\"none\" stroke=\"black\" d=\"M653.42,-103.73C659.8,-94.88 666.56,-85.51 672.97,-76.63\"/>\n<polygon fill=\"black\" stroke=\"black\" points=\"675.96,-78.46 678.98,-68.3 670.29,-74.36 675.96,-78.46\"/>\n</g>\n<!-- 13 -->\n<g id=\"node14\" class=\"node\">\n<title>13</title>\n<path fill=\"#eb9f68\" stroke=\"black\" d=\"M860,-68C860,-68 782,-68 782,-68 776,-68 770,-62 770,-56 770,-56 770,-12 770,-12 770,-6 776,0 782,0 782,0 860,0 860,0 866,0 872,-6 872,-12 872,-12 872,-56 872,-56 872,-62 866,-68 860,-68\"/>\n<text text-anchor=\"start\" x=\"785.5\" y=\"-52.8\" font-family=\"Helvetica,sans-Serif\" font-size=\"14.00\">gini = 0.308</text>\n<text text-anchor=\"start\" x=\"780\" y=\"-37.8\" font-family=\"Helvetica,sans-Serif\" font-size=\"14.00\">samples = 21</text>\n<text text-anchor=\"start\" x=\"778\" y=\"-22.8\" font-family=\"Helvetica,sans-Serif\" font-size=\"14.00\">value = [17, 4]</text>\n<text text-anchor=\"start\" x=\"788\" y=\"-7.8\" font-family=\"Helvetica,sans-Serif\" font-size=\"14.00\">class = 0.0</text>\n</g>\n<!-- 12&#45;&gt;13 -->\n<g id=\"edge13\" class=\"edge\">\n<title>12&#45;&gt;13</title>\n<path fill=\"none\" stroke=\"black\" d=\"M821,-103.73C821,-95.52 821,-86.86 821,-78.56\"/>\n<polygon fill=\"black\" stroke=\"black\" points=\"824.5,-78.3 821,-68.3 817.5,-78.3 824.5,-78.3\"/>\n</g>\n<!-- 14 -->\n<g id=\"node15\" class=\"node\">\n<title>14</title>\n<path fill=\"#e5f2fc\" stroke=\"black\" d=\"M988,-68C988,-68 902,-68 902,-68 896,-68 890,-62 890,-56 890,-56 890,-12 890,-12 890,-6 896,0 902,0 902,0 988,0 988,0 994,0 1000,-6 1000,-12 1000,-12 1000,-56 1000,-56 1000,-62 994,-68 988,-68\"/>\n<text text-anchor=\"start\" x=\"909.5\" y=\"-52.8\" font-family=\"Helvetica,sans-Serif\" font-size=\"14.00\">gini = 0.498</text>\n<text text-anchor=\"start\" x=\"900\" y=\"-37.8\" font-family=\"Helvetica,sans-Serif\" font-size=\"14.00\">samples = 116</text>\n<text text-anchor=\"start\" x=\"898\" y=\"-22.8\" font-family=\"Helvetica,sans-Serif\" font-size=\"14.00\">value = [54, 62]</text>\n<text text-anchor=\"start\" x=\"912\" y=\"-7.8\" font-family=\"Helvetica,sans-Serif\" font-size=\"14.00\">class = 1.0</text>\n</g>\n<!-- 12&#45;&gt;14 -->\n<g id=\"edge14\" class=\"edge\">\n<title>12&#45;&gt;14</title>\n<path fill=\"none\" stroke=\"black\" d=\"M867.17,-103.73C877.81,-94.33 889.12,-84.35 899.72,-74.99\"/>\n<polygon fill=\"black\" stroke=\"black\" points=\"902.11,-77.54 907.29,-68.3 897.48,-72.3 902.11,-77.54\"/>\n</g>\n</g>\n</svg>\n"
     },
     "execution_count": 77,
     "metadata": {},
     "output_type": "execute_result"
    }
   ],
   "source": [
    "import graphviz\n",
    "\n",
    "dot_data =  tree.export_graphviz(dt, out_file=None,\n",
    "                                   feature_names=data_3.drop('results', axis=1).columns,\n",
    "                                   class_names=['0.0', '1.0'],\n",
    "                                   filled=True, rounded=True,\n",
    "                                   special_characters=True)\n",
    "graph = graphviz.Source(dot_data)\n",
    "graph.render('model3.gv', view=True)\n",
    "graph"
   ]
  },
  {
   "cell_type": "code",
   "execution_count": 78,
   "metadata": {
    "pycharm": {
     "name": "#%%\n"
    }
   },
   "outputs": [
    {
     "name": "stdout",
     "output_type": "stream",
     "text": [
      "Importance of feature Age:, 0.000\n",
      "Importance of feature Gender:, 0.000\n",
      "Importance of feature PSQI:, 0.000\n",
      "Importance of feature MEQ_type:, 0.383\n",
      "Importance of feature 9A00000045146841:, 0.000\n",
      "Importance of feature F9000000452CCF41:, 0.000\n",
      "Importance of feature 76000000452C9741:, 0.000\n",
      "Importance of feature 7200000045201D41:, 0.000\n",
      "Importance of feature 4B0000004516B141:, 0.000\n",
      "Importance of feature CB000000452D7441:, 0.078\n",
      "Importance of feature DPG_finger-chest:, 0.046\n",
      "Importance of feature DPG_nose-forehead:, 0.000\n",
      "Importance of feature DPG_pinna-mastoid:, 0.205\n",
      "Importance of feature FLIR_forehead:, 0.212\n",
      "Importance of feature FLIR_nose:, 0.076\n",
      "Importance of feature FLIR_DPG_nose-forehead:, 0.000\n"
     ]
    },
    {
     "data": {
      "text/plain": "    index                Variable  Feature Importance Score\n0       3                MEQ_type                  0.383351\n1      13           FLIR_forehead                  0.212117\n2      12       DPG_pinna-mastoid                  0.205097\n3       9        CB000000452D7441                  0.077811\n4      14               FLIR_nose                  0.075910\n5      10        DPG_finger-chest                  0.045714\n6       0                     Age                  0.000000\n7       1                  Gender                  0.000000\n8       2                    PSQI                  0.000000\n9       4        9A00000045146841                  0.000000\n10      5        F9000000452CCF41                  0.000000\n11      6        76000000452C9741                  0.000000\n12      7        7200000045201D41                  0.000000\n13      8        4B0000004516B141                  0.000000\n14     11       DPG_nose-forehead                  0.000000\n15     15  FLIR_DPG_nose-forehead                  0.000000",
      "text/html": "<div>\n<style scoped>\n    .dataframe tbody tr th:only-of-type {\n        vertical-align: middle;\n    }\n\n    .dataframe tbody tr th {\n        vertical-align: top;\n    }\n\n    .dataframe thead th {\n        text-align: right;\n    }\n</style>\n<table border=\"1\" class=\"dataframe\">\n  <thead>\n    <tr style=\"text-align: right;\">\n      <th></th>\n      <th>index</th>\n      <th>Variable</th>\n      <th>Feature Importance Score</th>\n    </tr>\n  </thead>\n  <tbody>\n    <tr>\n      <th>0</th>\n      <td>3</td>\n      <td>MEQ_type</td>\n      <td>0.383351</td>\n    </tr>\n    <tr>\n      <th>1</th>\n      <td>13</td>\n      <td>FLIR_forehead</td>\n      <td>0.212117</td>\n    </tr>\n    <tr>\n      <th>2</th>\n      <td>12</td>\n      <td>DPG_pinna-mastoid</td>\n      <td>0.205097</td>\n    </tr>\n    <tr>\n      <th>3</th>\n      <td>9</td>\n      <td>CB000000452D7441</td>\n      <td>0.077811</td>\n    </tr>\n    <tr>\n      <th>4</th>\n      <td>14</td>\n      <td>FLIR_nose</td>\n      <td>0.075910</td>\n    </tr>\n    <tr>\n      <th>5</th>\n      <td>10</td>\n      <td>DPG_finger-chest</td>\n      <td>0.045714</td>\n    </tr>\n    <tr>\n      <th>6</th>\n      <td>0</td>\n      <td>Age</td>\n      <td>0.000000</td>\n    </tr>\n    <tr>\n      <th>7</th>\n      <td>1</td>\n      <td>Gender</td>\n      <td>0.000000</td>\n    </tr>\n    <tr>\n      <th>8</th>\n      <td>2</td>\n      <td>PSQI</td>\n      <td>0.000000</td>\n    </tr>\n    <tr>\n      <th>9</th>\n      <td>4</td>\n      <td>9A00000045146841</td>\n      <td>0.000000</td>\n    </tr>\n    <tr>\n      <th>10</th>\n      <td>5</td>\n      <td>F9000000452CCF41</td>\n      <td>0.000000</td>\n    </tr>\n    <tr>\n      <th>11</th>\n      <td>6</td>\n      <td>76000000452C9741</td>\n      <td>0.000000</td>\n    </tr>\n    <tr>\n      <th>12</th>\n      <td>7</td>\n      <td>7200000045201D41</td>\n      <td>0.000000</td>\n    </tr>\n    <tr>\n      <th>13</th>\n      <td>8</td>\n      <td>4B0000004516B141</td>\n      <td>0.000000</td>\n    </tr>\n    <tr>\n      <th>14</th>\n      <td>11</td>\n      <td>DPG_nose-forehead</td>\n      <td>0.000000</td>\n    </tr>\n    <tr>\n      <th>15</th>\n      <td>15</td>\n      <td>FLIR_DPG_nose-forehead</td>\n      <td>0.000000</td>\n    </tr>\n  </tbody>\n</table>\n</div>"
     },
     "execution_count": 78,
     "metadata": {},
     "output_type": "execute_result"
    }
   ],
   "source": [
    "final = ''\n",
    "fi = ''\n",
    "for i, column in enumerate(data_3.drop('results', axis=1)):\n",
    "    print('Importance of feature {}:, {:.3f}'.format(column, dt.feature_importances_[i]))\n",
    "\n",
    "    fi = pd.DataFrame({'Variable': [column], 'Feature Importance Score': [dt.feature_importances_[i]]})\n",
    "\n",
    "    try:\n",
    "        final = pd.concat([final, fi], ignore_index=True)\n",
    "    except:\n",
    "        final = fi\n",
    "\n",
    "# Ordering the data\n",
    "final_fi = final.sort_values('Feature Importance Score', ascending=False).reset_index()\n",
    "final_fi"
   ]
  },
  {
   "cell_type": "code",
   "execution_count": 79,
   "metadata": {
    "pycharm": {
     "name": "#%%\n"
    }
   },
   "outputs": [
    {
     "name": "stdout",
     "output_type": "stream",
     "text": [
      "Training Accuracy is:  0.7915451895043731\n",
      "Testing Accuracy is:  0.7587209302325582\n"
     ]
    }
   ],
   "source": [
    "# Accuracy on Train\n",
    "print(\"Training Accuracy is: \", dt.score(X_train, Y_train))\n",
    "\n",
    "# Accuracy on Train\n",
    "print(\"Testing Accuracy is: \", dt.score(X_test, Y_test))"
   ]
  },
  {
   "cell_type": "code",
   "execution_count": 84,
   "metadata": {
    "pycharm": {
     "name": "#%%\n"
    }
   },
   "outputs": [
    {
     "name": "stdout",
     "output_type": "stream",
     "text": [
      "Training Accuracy is:  1.0\n",
      "Testing Accuracy is:  0.7383720930232558\n"
     ]
    }
   ],
   "source": [
    "# Building a forest\n",
    "random_forest = RandomForestClassifier(n_estimators=100, random_state=9)\n",
    "random_forest.fit(X_train, Y_train)\n",
    "# prediction_test = random_forest.predict(X=X_test)\n",
    "\n",
    "# Accuracy on Test\n",
    "print(\"Training Accuracy is: \", random_forest.score(X_train, Y_train))\n",
    "# Accuracy on Train\n",
    "print(\"Testing Accuracy is: \", random_forest.score(X_test, Y_test))"
   ]
  },
  {
   "cell_type": "code",
   "execution_count": 85,
   "metadata": {
    "pycharm": {
     "name": "#%%\n"
    }
   },
   "outputs": [
    {
     "name": "stdout",
     "output_type": "stream",
     "text": [
      "Importance of feature Age:, 0.005\n",
      "Importance of feature Gender:, 0.001\n",
      "Importance of feature PSQI:, 0.002\n",
      "Importance of feature MEQ_type:, 0.015\n",
      "Importance of feature 9A00000045146841:, 0.025\n",
      "Importance of feature F9000000452CCF41:, 0.051\n",
      "Importance of feature 76000000452C9741:, 0.027\n",
      "Importance of feature 7200000045201D41:, 0.021\n",
      "Importance of feature 4B0000004516B141:, 0.081\n",
      "Importance of feature CB000000452D7441:, 0.050\n",
      "Importance of feature DPG_finger-chest:, 0.087\n",
      "Importance of feature DPG_nose-forehead:, 0.071\n",
      "Importance of feature DPG_pinna-mastoid:, 0.035\n",
      "Importance of feature FLIR_forehead:, 0.188\n",
      "Importance of feature FLIR_nose:, 0.168\n",
      "Importance of feature FLIR_DPG_nose-forehead:, 0.172\n"
     ]
    },
    {
     "data": {
      "text/plain": "    index                Variable  Feature Importance Score\n0      13           FLIR_forehead                  0.187910\n1      15  FLIR_DPG_nose-forehead                  0.172186\n2      14               FLIR_nose                  0.168152\n3      10        DPG_finger-chest                  0.086769\n4       8        4B0000004516B141                  0.080634\n5      11       DPG_nose-forehead                  0.070677\n6       5        F9000000452CCF41                  0.051451\n7       9        CB000000452D7441                  0.050494\n8      12       DPG_pinna-mastoid                  0.035133\n9       6        76000000452C9741                  0.027005\n10      4        9A00000045146841                  0.025089\n11      7        7200000045201D41                  0.021339\n12      3                MEQ_type                  0.015377\n13      0                     Age                  0.004571\n14      2                    PSQI                  0.002344\n15      1                  Gender                  0.000869",
      "text/html": "<div>\n<style scoped>\n    .dataframe tbody tr th:only-of-type {\n        vertical-align: middle;\n    }\n\n    .dataframe tbody tr th {\n        vertical-align: top;\n    }\n\n    .dataframe thead th {\n        text-align: right;\n    }\n</style>\n<table border=\"1\" class=\"dataframe\">\n  <thead>\n    <tr style=\"text-align: right;\">\n      <th></th>\n      <th>index</th>\n      <th>Variable</th>\n      <th>Feature Importance Score</th>\n    </tr>\n  </thead>\n  <tbody>\n    <tr>\n      <th>0</th>\n      <td>13</td>\n      <td>FLIR_forehead</td>\n      <td>0.187910</td>\n    </tr>\n    <tr>\n      <th>1</th>\n      <td>15</td>\n      <td>FLIR_DPG_nose-forehead</td>\n      <td>0.172186</td>\n    </tr>\n    <tr>\n      <th>2</th>\n      <td>14</td>\n      <td>FLIR_nose</td>\n      <td>0.168152</td>\n    </tr>\n    <tr>\n      <th>3</th>\n      <td>10</td>\n      <td>DPG_finger-chest</td>\n      <td>0.086769</td>\n    </tr>\n    <tr>\n      <th>4</th>\n      <td>8</td>\n      <td>4B0000004516B141</td>\n      <td>0.080634</td>\n    </tr>\n    <tr>\n      <th>5</th>\n      <td>11</td>\n      <td>DPG_nose-forehead</td>\n      <td>0.070677</td>\n    </tr>\n    <tr>\n      <th>6</th>\n      <td>5</td>\n      <td>F9000000452CCF41</td>\n      <td>0.051451</td>\n    </tr>\n    <tr>\n      <th>7</th>\n      <td>9</td>\n      <td>CB000000452D7441</td>\n      <td>0.050494</td>\n    </tr>\n    <tr>\n      <th>8</th>\n      <td>12</td>\n      <td>DPG_pinna-mastoid</td>\n      <td>0.035133</td>\n    </tr>\n    <tr>\n      <th>9</th>\n      <td>6</td>\n      <td>76000000452C9741</td>\n      <td>0.027005</td>\n    </tr>\n    <tr>\n      <th>10</th>\n      <td>4</td>\n      <td>9A00000045146841</td>\n      <td>0.025089</td>\n    </tr>\n    <tr>\n      <th>11</th>\n      <td>7</td>\n      <td>7200000045201D41</td>\n      <td>0.021339</td>\n    </tr>\n    <tr>\n      <th>12</th>\n      <td>3</td>\n      <td>MEQ_type</td>\n      <td>0.015377</td>\n    </tr>\n    <tr>\n      <th>13</th>\n      <td>0</td>\n      <td>Age</td>\n      <td>0.004571</td>\n    </tr>\n    <tr>\n      <th>14</th>\n      <td>2</td>\n      <td>PSQI</td>\n      <td>0.002344</td>\n    </tr>\n    <tr>\n      <th>15</th>\n      <td>1</td>\n      <td>Gender</td>\n      <td>0.000869</td>\n    </tr>\n  </tbody>\n</table>\n</div>"
     },
     "execution_count": 85,
     "metadata": {},
     "output_type": "execute_result"
    }
   ],
   "source": [
    "fi2 = ''\n",
    "final2 = ''\n",
    "for i, column in enumerate(data_3.drop('results', axis=1)):\n",
    "    print('Importance of feature {}:, {:.3f}'.format(column, random_forest.feature_importances_[i]))\n",
    "    fi2 = pd.DataFrame({'Variable': [column], 'Feature Importance Score': [random_forest.feature_importances_[i]]})\n",
    "\n",
    "    try:\n",
    "        final2 = pd.concat([final2, fi2], ignore_index=True)\n",
    "    except:\n",
    "        final2 = fi2\n",
    "\n",
    "# Ordering the data\n",
    "final_fi2 = final2.sort_values('Feature Importance Score', ascending=False).reset_index()\n",
    "final_fi2"
   ]
  }
 ],
 "metadata": {
  "kernelspec": {
   "display_name": "Python 3",
   "language": "python",
   "name": "python3"
  },
  "language_info": {
   "codemirror_mode": {
    "name": "ipython",
    "version": 3
   },
   "file_extension": ".py",
   "mimetype": "text/x-python",
   "name": "python",
   "nbconvert_exporter": "python",
   "pygments_lexer": "ipython3",
   "version": "3.8.8"
  }
 },
 "nbformat": 4,
 "nbformat_minor": 1
}