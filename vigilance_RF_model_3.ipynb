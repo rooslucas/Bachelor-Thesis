{
 "cells": [
  {
   "cell_type": "markdown",
   "metadata": {
    "collapsed": true,
    "pycharm": {
     "name": "#%% md\n"
    }
   },
   "source": [
    "# Predicting vigilance using machine learning\n",
    "## Random Forest Model 3\n",
    "Rosalie Lucas (6540384)\n",
    "\n",
    "This is the second model in my thesis Predicting vigilance using machine learning.\n",
    "In this model subjective measures and demographic data will be used.\n",
    "These are consistent within one participant and therefor could be over represented."
   ]
  },
  {
   "cell_type": "code",
   "execution_count": 1,
   "outputs": [],
   "source": [
    "# Import Libraries needed\n",
    "import pandas as pd\n",
    "import os\n",
    "import numpy as np\n",
    "from matplotlib import pyplot as plt\n",
    "import seaborn as sns\n",
    "%matplotlib inline\n",
    "\n",
    "import warnings\n",
    "warnings.filterwarnings('ignore')\n",
    "\n",
    "\n",
    "from sklearn.model_selection import train_test_split\n",
    "from sklearn import tree\n",
    "from sklearn.tree import DecisionTreeClassifier, export_graphviz\n",
    "from sklearn.ensemble import RandomForestClassifier\n",
    "from sklearn.preprocessing import LabelEncoder\n",
    "\n",
    "# Installed Graphviz using Pip3"
   ],
   "metadata": {
    "collapsed": false,
    "pycharm": {
     "name": "#%%\n"
    }
   }
  },
  {
   "cell_type": "code",
   "execution_count": 1,
   "outputs": [],
   "source": [],
   "metadata": {
    "collapsed": false,
    "pycharm": {
     "name": "#%%\n"
    }
   }
  },
  {
   "cell_type": "code",
   "execution_count": 2,
   "outputs": [],
   "source": [
    "data_file_path = '/Users/roos/Data/all_trials_noNaN.csv'\n",
    "data_file = pd.read_csv(data_file_path)\n",
    "data_3 = data_file[[ 'Age', 'Gender', 'PSQI', 'MEQ_type', '9A00000045146841', #'FF00000045298741',\n",
    "       'F9000000452CCF41', '76000000452C9741', '7200000045201D41', '4B0000004516B141', 'CB000000452D7441', 'DPG_finger-chest',\n",
    "       'DPG_nose-forehead', 'DPG_pinna-mastoid', 'results', 'FLIR_forehead', 'FLIR_nose', 'FLIR_DPG_nose-forehead']]"
   ],
   "metadata": {
    "collapsed": false,
    "pycharm": {
     "name": "#%%\n"
    }
   }
  },
  {
   "cell_type": "code",
   "execution_count": 2,
   "outputs": [],
   "source": [],
   "metadata": {
    "collapsed": false,
    "pycharm": {
     "name": "#%%\n"
    }
   }
  },
  {
   "cell_type": "code",
   "execution_count": 3,
   "outputs": [
    {
     "name": "stdout",
     "output_type": "stream",
     "text": [
      "gender classes: ['female' 'male']\n",
      "Gender integer classes [0 1]\n",
      "MEQ classes: ['evening' 'intermediate' 'morning']\n",
      "MEQ> integer classes [0 1 2]\n"
     ]
    }
   ],
   "source": [
    "# Encode categorical variables\n",
    "# Gender\n",
    "encoder = LabelEncoder()\n",
    "label_encoder_gender = encoder.fit(data_3['Gender'])\n",
    "print(\"gender classes:\", label_encoder_gender.classes_)\n",
    "integer_classes_gender = label_encoder_gender.transform(label_encoder_gender.classes_)\n",
    "print(\"Gender integer classes\", integer_classes_gender)\n",
    "code = label_encoder_gender.transform(data_3['Gender'])\n",
    "data_3['Gender'] = code\n",
    "\n",
    "# MEQ_type\n",
    "label_encoder_MEQ = encoder.fit(data_3['MEQ_type'])\n",
    "print(\"MEQ classes:\", label_encoder_MEQ.classes_)\n",
    "integer_classes_MEQ = label_encoder_MEQ.transform(label_encoder_MEQ.classes_)\n",
    "print(\"MEQ> integer classes\", integer_classes_MEQ)\n",
    "code_MEQ = label_encoder_MEQ.transform(data_3['MEQ_type'])\n",
    "data_3['MEQ_type'] = code_MEQ"
   ],
   "metadata": {
    "collapsed": false,
    "pycharm": {
     "name": "#%%\n"
    }
   }
  },
  {
   "cell_type": "code",
   "execution_count": 4,
   "outputs": [
    {
     "name": "stdout",
     "output_type": "stream",
     "text": [
      "The number of values for feature Age : 6 -- [19. 21. 22. 23. 26. 50.]\n",
      "The number of values for feature Gender : 2 -- [0 1]\n",
      "The number of values for feature PSQI : 5 -- [0.28571429 0.42857143 0.57142857 0.71428571 1.2       ]\n",
      "The number of values for feature MEQ_type : 3 -- [0 1 2]\n",
      "The number of values for feature 9A00000045146841 : 26\n",
      "The number of values for feature F9000000452CCF41 : 52\n",
      "The number of values for feature 76000000452C9741 : 33\n",
      "The number of values for feature 7200000045201D41 : 18\n",
      "The number of values for feature 4B0000004516B141 : 156\n",
      "The number of values for feature CB000000452D7441 : 73\n",
      "The number of values for feature DPG_finger-chest : 294\n",
      "The number of values for feature DPG_nose-forehead : 204\n",
      "The number of values for feature DPG_pinna-mastoid : 51\n",
      "The number of values for feature results : 2 -- [0. 1.]\n",
      "The number of values for feature FLIR_forehead : 10 -- [21.22715184 27.80376794 29.36905389 31.48138121 32.93419485 33.08188648\n",
      " 33.17732764 33.19338645 33.37224404 33.70252197]\n",
      "The number of values for feature FLIR_nose : 10 -- [20.596624   26.9670392  27.33863308 28.37676017 31.25457926 31.90729141\n",
      " 32.1224162  32.81662738 33.28059988 33.41070901]\n",
      "The number of values for feature FLIR_DPG_nose-forehead : 10 -- [-7.20714394 -5.85475337 -4.70512631 -1.79523055 -0.81177865 -0.36070026\n",
      " -0.22680195 -0.09164416  4.04165512  5.73988736]\n",
      "Age                       0\n",
      "Gender                    0\n",
      "PSQI                      0\n",
      "MEQ_type                  0\n",
      "9A00000045146841          0\n",
      "F9000000452CCF41          0\n",
      "76000000452C9741          0\n",
      "7200000045201D41          0\n",
      "4B0000004516B141          0\n",
      "CB000000452D7441          0\n",
      "DPG_finger-chest          0\n",
      "DPG_nose-forehead         0\n",
      "DPG_pinna-mastoid         0\n",
      "results                   0\n",
      "FLIR_forehead             0\n",
      "FLIR_nose                 0\n",
      "FLIR_DPG_nose-forehead    0\n",
      "dtype: int64\n"
     ]
    }
   ],
   "source": [
    "for column in data_3:  # Describe the amount of different features in each column (column is a feature)\n",
    "    unique_values = np.unique(data_3[column])\n",
    "    number_values = len(unique_values)\n",
    "    if number_values < 12:\n",
    "        print(\"The number of values for feature {} : {} -- {}\".format(column, number_values, unique_values))\n",
    "    else:\n",
    "        print(\"The number of values for feature {} : {}\".format(column, number_values))\n",
    "\n",
    "print(data_3.isnull().sum())"
   ],
   "metadata": {
    "collapsed": false,
    "pycharm": {
     "name": "#%%\n"
    }
   }
  },
  {
   "cell_type": "code",
   "execution_count": 5,
   "outputs": [
    {
     "name": "stdout",
     "output_type": "stream",
     "text": [
      "X shape: (1397, 16)\n",
      "Y shape: (1397,)\n"
     ]
    }
   ],
   "source": [
    "# Splitting the data\n",
    "X = data_3.drop('results', axis=1).values\n",
    "Y = data_3['results'].values\n",
    "print('X shape: {}'.format(np.shape(X)))\n",
    "print('Y shape: {}'.format(np.shape(Y)))\n",
    "\n",
    "X_train, X_test, Y_train, Y_test = train_test_split(X, Y, train_size=0.8, test_size=0.2, random_state=0)"
   ],
   "metadata": {
    "collapsed": false,
    "pycharm": {
     "name": "#%%\n"
    }
   }
  },
  {
   "cell_type": "code",
   "execution_count": 6,
   "outputs": [
    {
     "data": {
      "text/plain": "DecisionTreeClassifier(max_depth=3, random_state=1)"
     },
     "execution_count": 6,
     "metadata": {},
     "output_type": "execute_result"
    }
   ],
   "source": [
    "dt = DecisionTreeClassifier(max_depth=3, random_state=1)\n",
    "dt.fit(X_train, Y_train)"
   ],
   "metadata": {
    "collapsed": false,
    "pycharm": {
     "name": "#%%\n"
    }
   }
  },
  {
   "cell_type": "code",
   "execution_count": 7,
   "outputs": [
    {
     "data": {
      "text/plain": "<graphviz.files.Source at 0x1120d9d90>",
      "image/svg+xml": "<?xml version=\"1.0\" encoding=\"UTF-8\" standalone=\"no\"?>\n<!DOCTYPE svg PUBLIC \"-//W3C//DTD SVG 1.1//EN\"\n \"http://www.w3.org/Graphics/SVG/1.1/DTD/svg11.dtd\">\n<!-- Generated by graphviz version 2.47.1 (20210417.1919)\n -->\n<!-- Title: Tree Pages: 1 -->\n<svg width=\"993pt\" height=\"433pt\"\n viewBox=\"0.00 0.00 992.50 433.00\" xmlns=\"http://www.w3.org/2000/svg\" xmlns:xlink=\"http://www.w3.org/1999/xlink\">\n<g id=\"graph0\" class=\"graph\" transform=\"scale(1 1) rotate(0) translate(4 429)\">\n<title>Tree</title>\n<polygon fill=\"white\" stroke=\"transparent\" points=\"-4,4 -4,-429 988.5,-429 988.5,4 -4,4\"/>\n<!-- 0 -->\n<g id=\"node1\" class=\"node\">\n<title>0</title>\n<path fill=\"#74baed\" stroke=\"black\" d=\"M541,-425C541,-425 372,-425 372,-425 366,-425 360,-419 360,-413 360,-413 360,-354 360,-354 360,-348 366,-342 372,-342 372,-342 541,-342 541,-342 547,-342 553,-348 553,-354 553,-354 553,-413 553,-413 553,-419 547,-425 541,-425\"/>\n<text text-anchor=\"start\" x=\"368\" y=\"-409.8\" font-family=\"Helvetica,sans-Serif\" font-size=\"14.00\">DPG_pinna&#45;mastoid ≤ &#45;2.824</text>\n<text text-anchor=\"start\" x=\"421\" y=\"-394.8\" font-family=\"Helvetica,sans-Serif\" font-size=\"14.00\">gini = 0.353</text>\n<text text-anchor=\"start\" x=\"408\" y=\"-379.8\" font-family=\"Helvetica,sans-Serif\" font-size=\"14.00\">samples = 1117</text>\n<text text-anchor=\"start\" x=\"402\" y=\"-364.8\" font-family=\"Helvetica,sans-Serif\" font-size=\"14.00\">value = [256, 861]</text>\n<text text-anchor=\"start\" x=\"423.5\" y=\"-349.8\" font-family=\"Helvetica,sans-Serif\" font-size=\"14.00\">class = 0.0</text>\n</g>\n<!-- 1 -->\n<g id=\"node2\" class=\"node\">\n<title>1</title>\n<path fill=\"#64b2eb\" stroke=\"black\" d=\"M433,-306C433,-306 264,-306 264,-306 258,-306 252,-300 252,-294 252,-294 252,-235 252,-235 252,-229 258,-223 264,-223 264,-223 433,-223 433,-223 439,-223 445,-229 445,-235 445,-235 445,-294 445,-294 445,-300 439,-306 433,-306\"/>\n<text text-anchor=\"start\" x=\"260\" y=\"-290.8\" font-family=\"Helvetica,sans-Serif\" font-size=\"14.00\">DPG_pinna&#45;mastoid ≤ &#45;5.758</text>\n<text text-anchor=\"start\" x=\"313\" y=\"-275.8\" font-family=\"Helvetica,sans-Serif\" font-size=\"14.00\">gini = 0.294</text>\n<text text-anchor=\"start\" x=\"303.5\" y=\"-260.8\" font-family=\"Helvetica,sans-Serif\" font-size=\"14.00\">samples = 894</text>\n<text text-anchor=\"start\" x=\"294\" y=\"-245.8\" font-family=\"Helvetica,sans-Serif\" font-size=\"14.00\">value = [160, 734]</text>\n<text text-anchor=\"start\" x=\"315.5\" y=\"-230.8\" font-family=\"Helvetica,sans-Serif\" font-size=\"14.00\">class = 0.0</text>\n</g>\n<!-- 0&#45;&gt;1 -->\n<g id=\"edge1\" class=\"edge\">\n<title>0&#45;&gt;1</title>\n<path fill=\"none\" stroke=\"black\" d=\"M419.03,-341.91C410.57,-332.74 401.51,-322.93 392.8,-313.49\"/>\n<polygon fill=\"black\" stroke=\"black\" points=\"395.26,-310.99 385.9,-306.02 390.11,-315.74 395.26,-310.99\"/>\n<text text-anchor=\"middle\" x=\"384.9\" y=\"-327.3\" font-family=\"Helvetica,sans-Serif\" font-size=\"14.00\">True</text>\n</g>\n<!-- 8 -->\n<g id=\"node9\" class=\"node\">\n<title>8</title>\n<path fill=\"#cfe7f9\" stroke=\"black\" d=\"M660.5,-306C660.5,-306 490.5,-306 490.5,-306 484.5,-306 478.5,-300 478.5,-294 478.5,-294 478.5,-235 478.5,-235 478.5,-229 484.5,-223 490.5,-223 490.5,-223 660.5,-223 660.5,-223 666.5,-223 672.5,-229 672.5,-235 672.5,-235 672.5,-294 672.5,-294 672.5,-300 666.5,-306 660.5,-306\"/>\n<text text-anchor=\"start\" x=\"486.5\" y=\"-290.8\" font-family=\"Helvetica,sans-Serif\" font-size=\"14.00\">DPG_nose&#45;forehead ≤ &#45;0.403</text>\n<text text-anchor=\"start\" x=\"543.5\" y=\"-275.8\" font-family=\"Helvetica,sans-Serif\" font-size=\"14.00\">gini = 0.49</text>\n<text text-anchor=\"start\" x=\"530.5\" y=\"-260.8\" font-family=\"Helvetica,sans-Serif\" font-size=\"14.00\">samples = 223</text>\n<text text-anchor=\"start\" x=\"525\" y=\"-245.8\" font-family=\"Helvetica,sans-Serif\" font-size=\"14.00\">value = [96, 127]</text>\n<text text-anchor=\"start\" x=\"542.5\" y=\"-230.8\" font-family=\"Helvetica,sans-Serif\" font-size=\"14.00\">class = 0.0</text>\n</g>\n<!-- 0&#45;&gt;8 -->\n<g id=\"edge8\" class=\"edge\">\n<title>0&#45;&gt;8</title>\n<path fill=\"none\" stroke=\"black\" d=\"M497.79,-341.91C507.2,-332.65 517.29,-322.73 526.98,-313.21\"/>\n<polygon fill=\"black\" stroke=\"black\" points=\"529.61,-315.53 534.29,-306.02 524.7,-310.54 529.61,-315.53\"/>\n<text text-anchor=\"middle\" x=\"534.07\" y=\"-327.32\" font-family=\"Helvetica,sans-Serif\" font-size=\"14.00\">False</text>\n</g>\n<!-- 2 -->\n<g id=\"node3\" class=\"node\">\n<title>2</title>\n<path fill=\"#99cdf2\" stroke=\"black\" d=\"M253.5,-187C253.5,-187 83.5,-187 83.5,-187 77.5,-187 71.5,-181 71.5,-175 71.5,-175 71.5,-116 71.5,-116 71.5,-110 77.5,-104 83.5,-104 83.5,-104 253.5,-104 253.5,-104 259.5,-104 265.5,-110 265.5,-116 265.5,-116 265.5,-175 265.5,-175 265.5,-181 259.5,-187 253.5,-187\"/>\n<text text-anchor=\"start\" x=\"79.5\" y=\"-171.8\" font-family=\"Helvetica,sans-Serif\" font-size=\"14.00\">DPG_nose&#45;forehead ≤ &#45;1.838</text>\n<text text-anchor=\"start\" x=\"133\" y=\"-156.8\" font-family=\"Helvetica,sans-Serif\" font-size=\"14.00\">gini = 0.441</text>\n<text text-anchor=\"start\" x=\"123.5\" y=\"-141.8\" font-family=\"Helvetica,sans-Serif\" font-size=\"14.00\">samples = 116</text>\n<text text-anchor=\"start\" x=\"121.5\" y=\"-126.8\" font-family=\"Helvetica,sans-Serif\" font-size=\"14.00\">value = [38, 78]</text>\n<text text-anchor=\"start\" x=\"135.5\" y=\"-111.8\" font-family=\"Helvetica,sans-Serif\" font-size=\"14.00\">class = 0.0</text>\n</g>\n<!-- 1&#45;&gt;2 -->\n<g id=\"edge2\" class=\"edge\">\n<title>1&#45;&gt;2</title>\n<path fill=\"none\" stroke=\"black\" d=\"M286.05,-222.91C270.97,-213.11 254.75,-202.56 239.32,-192.53\"/>\n<polygon fill=\"black\" stroke=\"black\" points=\"241.13,-189.54 230.84,-187.02 237.32,-195.41 241.13,-189.54\"/>\n</g>\n<!-- 5 -->\n<g id=\"node6\" class=\"node\">\n<title>5</title>\n<path fill=\"#5eafea\" stroke=\"black\" d=\"M399,-187C399,-187 298,-187 298,-187 292,-187 286,-181 286,-175 286,-175 286,-116 286,-116 286,-110 292,-104 298,-104 298,-104 399,-104 399,-104 405,-104 411,-110 411,-116 411,-116 411,-175 411,-175 411,-181 405,-187 399,-187\"/>\n<text text-anchor=\"start\" x=\"298.5\" y=\"-171.8\" font-family=\"Helvetica,sans-Serif\" font-size=\"14.00\">MEQ_type ≤ 1.5</text>\n<text text-anchor=\"start\" x=\"313\" y=\"-156.8\" font-family=\"Helvetica,sans-Serif\" font-size=\"14.00\">gini = 0.264</text>\n<text text-anchor=\"start\" x=\"303.5\" y=\"-141.8\" font-family=\"Helvetica,sans-Serif\" font-size=\"14.00\">samples = 778</text>\n<text text-anchor=\"start\" x=\"294\" y=\"-126.8\" font-family=\"Helvetica,sans-Serif\" font-size=\"14.00\">value = [122, 656]</text>\n<text text-anchor=\"start\" x=\"315.5\" y=\"-111.8\" font-family=\"Helvetica,sans-Serif\" font-size=\"14.00\">class = 0.0</text>\n</g>\n<!-- 1&#45;&gt;5 -->\n<g id=\"edge5\" class=\"edge\">\n<title>1&#45;&gt;5</title>\n<path fill=\"none\" stroke=\"black\" d=\"M348.5,-222.91C348.5,-214.65 348.5,-205.86 348.5,-197.3\"/>\n<polygon fill=\"black\" stroke=\"black\" points=\"352,-197.02 348.5,-187.02 345,-197.02 352,-197.02\"/>\n</g>\n<!-- 3 -->\n<g id=\"node4\" class=\"node\">\n<title>3</title>\n<path fill=\"#52a9e8\" stroke=\"black\" d=\"M83,-68C83,-68 12,-68 12,-68 6,-68 0,-62 0,-56 0,-56 0,-12 0,-12 0,-6 6,0 12,0 12,0 83,0 83,0 89,0 95,-6 95,-12 95,-12 95,-56 95,-56 95,-62 89,-68 83,-68\"/>\n<text text-anchor=\"start\" x=\"12\" y=\"-52.8\" font-family=\"Helvetica,sans-Serif\" font-size=\"14.00\">gini = 0.198</text>\n<text text-anchor=\"start\" x=\"10\" y=\"-37.8\" font-family=\"Helvetica,sans-Serif\" font-size=\"14.00\">samples = 9</text>\n<text text-anchor=\"start\" x=\"8\" y=\"-22.8\" font-family=\"Helvetica,sans-Serif\" font-size=\"14.00\">value = [1, 8]</text>\n<text text-anchor=\"start\" x=\"14.5\" y=\"-7.8\" font-family=\"Helvetica,sans-Serif\" font-size=\"14.00\">class = 0.0</text>\n</g>\n<!-- 2&#45;&gt;3 -->\n<g id=\"edge3\" class=\"edge\">\n<title>2&#45;&gt;3</title>\n<path fill=\"none\" stroke=\"black\" d=\"M123.44,-103.73C113.16,-94.42 102.25,-84.54 91.99,-75.26\"/>\n<polygon fill=\"black\" stroke=\"black\" points=\"94.06,-72.41 84.3,-68.3 89.36,-77.6 94.06,-72.41\"/>\n</g>\n<!-- 4 -->\n<g id=\"node5\" class=\"node\">\n<title>4</title>\n<path fill=\"#a2d1f3\" stroke=\"black\" d=\"M211.5,-68C211.5,-68 125.5,-68 125.5,-68 119.5,-68 113.5,-62 113.5,-56 113.5,-56 113.5,-12 113.5,-12 113.5,-6 119.5,0 125.5,0 125.5,0 211.5,0 211.5,0 217.5,0 223.5,-6 223.5,-12 223.5,-12 223.5,-56 223.5,-56 223.5,-62 217.5,-68 211.5,-68\"/>\n<text text-anchor=\"start\" x=\"133\" y=\"-52.8\" font-family=\"Helvetica,sans-Serif\" font-size=\"14.00\">gini = 0.452</text>\n<text text-anchor=\"start\" x=\"123.5\" y=\"-37.8\" font-family=\"Helvetica,sans-Serif\" font-size=\"14.00\">samples = 107</text>\n<text text-anchor=\"start\" x=\"121.5\" y=\"-22.8\" font-family=\"Helvetica,sans-Serif\" font-size=\"14.00\">value = [37, 70]</text>\n<text text-anchor=\"start\" x=\"135.5\" y=\"-7.8\" font-family=\"Helvetica,sans-Serif\" font-size=\"14.00\">class = 0.0</text>\n</g>\n<!-- 2&#45;&gt;4 -->\n<g id=\"edge4\" class=\"edge\">\n<title>2&#45;&gt;4</title>\n<path fill=\"none\" stroke=\"black\" d=\"M168.5,-103.73C168.5,-95.52 168.5,-86.86 168.5,-78.56\"/>\n<polygon fill=\"black\" stroke=\"black\" points=\"172,-78.3 168.5,-68.3 165,-78.3 172,-78.3\"/>\n</g>\n<!-- 6 -->\n<g id=\"node7\" class=\"node\">\n<title>6</title>\n<path fill=\"#54aae9\" stroke=\"black\" d=\"M347,-68C347,-68 254,-68 254,-68 248,-68 242,-62 242,-56 242,-56 242,-12 242,-12 242,-6 248,0 254,0 254,0 347,0 347,0 353,0 359,-6 359,-12 359,-12 359,-56 359,-56 359,-62 353,-68 347,-68\"/>\n<text text-anchor=\"start\" x=\"265\" y=\"-52.8\" font-family=\"Helvetica,sans-Serif\" font-size=\"14.00\">gini = 0.212</text>\n<text text-anchor=\"start\" x=\"255.5\" y=\"-37.8\" font-family=\"Helvetica,sans-Serif\" font-size=\"14.00\">samples = 539</text>\n<text text-anchor=\"start\" x=\"250\" y=\"-22.8\" font-family=\"Helvetica,sans-Serif\" font-size=\"14.00\">value = [65, 474]</text>\n<text text-anchor=\"start\" x=\"267.5\" y=\"-7.8\" font-family=\"Helvetica,sans-Serif\" font-size=\"14.00\">class = 0.0</text>\n</g>\n<!-- 5&#45;&gt;6 -->\n<g id=\"edge6\" class=\"edge\">\n<title>5&#45;&gt;6</title>\n<path fill=\"none\" stroke=\"black\" d=\"M330.63,-103.73C326.91,-95.24 322.98,-86.28 319.23,-77.73\"/>\n<polygon fill=\"black\" stroke=\"black\" points=\"322.32,-76.05 315.1,-68.3 315.91,-78.86 322.32,-76.05\"/>\n</g>\n<!-- 7 -->\n<g id=\"node8\" class=\"node\">\n<title>7</title>\n<path fill=\"#77bced\" stroke=\"black\" d=\"M482,-68C482,-68 389,-68 389,-68 383,-68 377,-62 377,-56 377,-56 377,-12 377,-12 377,-6 383,0 389,0 389,0 482,0 482,0 488,0 494,-6 494,-12 494,-12 494,-56 494,-56 494,-62 488,-68 482,-68\"/>\n<text text-anchor=\"start\" x=\"400\" y=\"-52.8\" font-family=\"Helvetica,sans-Serif\" font-size=\"14.00\">gini = 0.363</text>\n<text text-anchor=\"start\" x=\"390.5\" y=\"-37.8\" font-family=\"Helvetica,sans-Serif\" font-size=\"14.00\">samples = 239</text>\n<text text-anchor=\"start\" x=\"385\" y=\"-22.8\" font-family=\"Helvetica,sans-Serif\" font-size=\"14.00\">value = [57, 182]</text>\n<text text-anchor=\"start\" x=\"402.5\" y=\"-7.8\" font-family=\"Helvetica,sans-Serif\" font-size=\"14.00\">class = 0.0</text>\n</g>\n<!-- 5&#45;&gt;7 -->\n<g id=\"edge7\" class=\"edge\">\n<title>5&#45;&gt;7</title>\n<path fill=\"none\" stroke=\"black\" d=\"M380.9,-103.73C388,-94.79 395.52,-85.32 402.64,-76.36\"/>\n<polygon fill=\"black\" stroke=\"black\" points=\"405.56,-78.31 409.04,-68.3 400.08,-73.95 405.56,-78.31\"/>\n</g>\n<!-- 9 -->\n<g id=\"node10\" class=\"node\">\n<title>9</title>\n<path fill=\"#68b4eb\" stroke=\"black\" d=\"M661,-187C661,-187 490,-187 490,-187 484,-187 478,-181 478,-175 478,-175 478,-116 478,-116 478,-110 484,-104 490,-104 490,-104 661,-104 661,-104 667,-104 673,-110 673,-116 673,-116 673,-175 673,-175 673,-181 667,-187 661,-187\"/>\n<text text-anchor=\"start\" x=\"486\" y=\"-171.8\" font-family=\"Helvetica,sans-Serif\" font-size=\"14.00\">76000000452C9741 ≤ 32.941</text>\n<text text-anchor=\"start\" x=\"540\" y=\"-156.8\" font-family=\"Helvetica,sans-Serif\" font-size=\"14.00\">gini = 0.311</text>\n<text text-anchor=\"start\" x=\"534.5\" y=\"-141.8\" font-family=\"Helvetica,sans-Serif\" font-size=\"14.00\">samples = 52</text>\n<text text-anchor=\"start\" x=\"528.5\" y=\"-126.8\" font-family=\"Helvetica,sans-Serif\" font-size=\"14.00\">value = [10, 42]</text>\n<text text-anchor=\"start\" x=\"542.5\" y=\"-111.8\" font-family=\"Helvetica,sans-Serif\" font-size=\"14.00\">class = 0.0</text>\n</g>\n<!-- 8&#45;&gt;9 -->\n<g id=\"edge9\" class=\"edge\">\n<title>8&#45;&gt;9</title>\n<path fill=\"none\" stroke=\"black\" d=\"M575.5,-222.91C575.5,-214.65 575.5,-205.86 575.5,-197.3\"/>\n<polygon fill=\"black\" stroke=\"black\" points=\"579,-197.02 575.5,-187.02 572,-197.02 579,-197.02\"/>\n</g>\n<!-- 12 -->\n<g id=\"node13\" class=\"node\">\n<title>12</title>\n<path fill=\"#fffefd\" stroke=\"black\" d=\"M886.5,-187C886.5,-187 716.5,-187 716.5,-187 710.5,-187 704.5,-181 704.5,-175 704.5,-175 704.5,-116 704.5,-116 704.5,-110 710.5,-104 716.5,-104 716.5,-104 886.5,-104 886.5,-104 892.5,-104 898.5,-110 898.5,-116 898.5,-116 898.5,-175 898.5,-175 898.5,-181 892.5,-187 886.5,-187\"/>\n<text text-anchor=\"start\" x=\"712.5\" y=\"-171.8\" font-family=\"Helvetica,sans-Serif\" font-size=\"14.00\">9A00000045146841 ≤ 33.923</text>\n<text text-anchor=\"start\" x=\"773.5\" y=\"-156.8\" font-family=\"Helvetica,sans-Serif\" font-size=\"14.00\">gini = 0.5</text>\n<text text-anchor=\"start\" x=\"756.5\" y=\"-141.8\" font-family=\"Helvetica,sans-Serif\" font-size=\"14.00\">samples = 171</text>\n<text text-anchor=\"start\" x=\"754.5\" y=\"-126.8\" font-family=\"Helvetica,sans-Serif\" font-size=\"14.00\">value = [86, 85]</text>\n<text text-anchor=\"start\" x=\"768.5\" y=\"-111.8\" font-family=\"Helvetica,sans-Serif\" font-size=\"14.00\">class = 1.0</text>\n</g>\n<!-- 8&#45;&gt;12 -->\n<g id=\"edge12\" class=\"edge\">\n<title>8&#45;&gt;12</title>\n<path fill=\"none\" stroke=\"black\" d=\"M653.91,-222.91C673.37,-212.83 694.34,-201.98 714.19,-191.7\"/>\n<polygon fill=\"black\" stroke=\"black\" points=\"715.96,-194.73 723.23,-187.02 712.74,-188.51 715.96,-194.73\"/>\n</g>\n<!-- 10 -->\n<g id=\"node11\" class=\"node\">\n<title>10</title>\n<path fill=\"#63b2eb\" stroke=\"black\" d=\"M602.5,-68C602.5,-68 524.5,-68 524.5,-68 518.5,-68 512.5,-62 512.5,-56 512.5,-56 512.5,-12 512.5,-12 512.5,-6 518.5,0 524.5,0 524.5,0 602.5,0 602.5,0 608.5,0 614.5,-6 614.5,-12 614.5,-12 614.5,-56 614.5,-56 614.5,-62 608.5,-68 602.5,-68\"/>\n<text text-anchor=\"start\" x=\"528\" y=\"-52.8\" font-family=\"Helvetica,sans-Serif\" font-size=\"14.00\">gini = 0.291</text>\n<text text-anchor=\"start\" x=\"522.5\" y=\"-37.8\" font-family=\"Helvetica,sans-Serif\" font-size=\"14.00\">samples = 51</text>\n<text text-anchor=\"start\" x=\"520.5\" y=\"-22.8\" font-family=\"Helvetica,sans-Serif\" font-size=\"14.00\">value = [9, 42]</text>\n<text text-anchor=\"start\" x=\"530.5\" y=\"-7.8\" font-family=\"Helvetica,sans-Serif\" font-size=\"14.00\">class = 0.0</text>\n</g>\n<!-- 9&#45;&gt;10 -->\n<g id=\"edge10\" class=\"edge\">\n<title>9&#45;&gt;10</title>\n<path fill=\"none\" stroke=\"black\" d=\"M571.03,-103.73C570.12,-95.43 569.16,-86.67 568.24,-78.28\"/>\n<polygon fill=\"black\" stroke=\"black\" points=\"571.72,-77.86 567.15,-68.3 564.76,-78.62 571.72,-77.86\"/>\n</g>\n<!-- 11 -->\n<g id=\"node12\" class=\"node\">\n<title>11</title>\n<path fill=\"#e58139\" stroke=\"black\" d=\"M716,-68C716,-68 645,-68 645,-68 639,-68 633,-62 633,-56 633,-56 633,-12 633,-12 633,-6 639,0 645,0 645,0 716,0 716,0 722,0 728,-6 728,-12 728,-12 728,-56 728,-56 728,-62 722,-68 716,-68\"/>\n<text text-anchor=\"start\" x=\"652.5\" y=\"-52.8\" font-family=\"Helvetica,sans-Serif\" font-size=\"14.00\">gini = 0.0</text>\n<text text-anchor=\"start\" x=\"643\" y=\"-37.8\" font-family=\"Helvetica,sans-Serif\" font-size=\"14.00\">samples = 1</text>\n<text text-anchor=\"start\" x=\"641\" y=\"-22.8\" font-family=\"Helvetica,sans-Serif\" font-size=\"14.00\">value = [1, 0]</text>\n<text text-anchor=\"start\" x=\"647.5\" y=\"-7.8\" font-family=\"Helvetica,sans-Serif\" font-size=\"14.00\">class = 1.0</text>\n</g>\n<!-- 9&#45;&gt;11 -->\n<g id=\"edge11\" class=\"edge\">\n<title>9&#45;&gt;11</title>\n<path fill=\"none\" stroke=\"black\" d=\"M614.6,-103.73C623.43,-94.51 632.81,-84.74 641.63,-75.53\"/>\n<polygon fill=\"black\" stroke=\"black\" points=\"644.17,-77.94 648.57,-68.3 639.12,-73.1 644.17,-77.94\"/>\n</g>\n<!-- 13 -->\n<g id=\"node14\" class=\"node\">\n<title>13</title>\n<path fill=\"#f2c09c\" stroke=\"black\" d=\"M844.5,-68C844.5,-68 758.5,-68 758.5,-68 752.5,-68 746.5,-62 746.5,-56 746.5,-56 746.5,-12 746.5,-12 746.5,-6 752.5,0 758.5,0 758.5,0 844.5,0 844.5,0 850.5,0 856.5,-6 856.5,-12 856.5,-12 856.5,-56 856.5,-56 856.5,-62 850.5,-68 844.5,-68\"/>\n<text text-anchor=\"start\" x=\"766\" y=\"-52.8\" font-family=\"Helvetica,sans-Serif\" font-size=\"14.00\">gini = 0.444</text>\n<text text-anchor=\"start\" x=\"760.5\" y=\"-37.8\" font-family=\"Helvetica,sans-Serif\" font-size=\"14.00\">samples = 30</text>\n<text text-anchor=\"start\" x=\"754.5\" y=\"-22.8\" font-family=\"Helvetica,sans-Serif\" font-size=\"14.00\">value = [20, 10]</text>\n<text text-anchor=\"start\" x=\"768.5\" y=\"-7.8\" font-family=\"Helvetica,sans-Serif\" font-size=\"14.00\">class = 1.0</text>\n</g>\n<!-- 12&#45;&gt;13 -->\n<g id=\"edge13\" class=\"edge\">\n<title>12&#45;&gt;13</title>\n<path fill=\"none\" stroke=\"black\" d=\"M801.5,-103.73C801.5,-95.52 801.5,-86.86 801.5,-78.56\"/>\n<polygon fill=\"black\" stroke=\"black\" points=\"805,-78.3 801.5,-68.3 798,-78.3 805,-78.3\"/>\n</g>\n<!-- 14 -->\n<g id=\"node15\" class=\"node\">\n<title>14</title>\n<path fill=\"#e7f3fc\" stroke=\"black\" d=\"M972.5,-68C972.5,-68 886.5,-68 886.5,-68 880.5,-68 874.5,-62 874.5,-56 874.5,-56 874.5,-12 874.5,-12 874.5,-6 880.5,0 886.5,0 886.5,0 972.5,0 972.5,0 978.5,0 984.5,-6 984.5,-12 984.5,-12 984.5,-56 984.5,-56 984.5,-62 978.5,-68 972.5,-68\"/>\n<text text-anchor=\"start\" x=\"894\" y=\"-52.8\" font-family=\"Helvetica,sans-Serif\" font-size=\"14.00\">gini = 0.498</text>\n<text text-anchor=\"start\" x=\"884.5\" y=\"-37.8\" font-family=\"Helvetica,sans-Serif\" font-size=\"14.00\">samples = 141</text>\n<text text-anchor=\"start\" x=\"882.5\" y=\"-22.8\" font-family=\"Helvetica,sans-Serif\" font-size=\"14.00\">value = [66, 75]</text>\n<text text-anchor=\"start\" x=\"896.5\" y=\"-7.8\" font-family=\"Helvetica,sans-Serif\" font-size=\"14.00\">class = 0.0</text>\n</g>\n<!-- 12&#45;&gt;14 -->\n<g id=\"edge14\" class=\"edge\">\n<title>12&#45;&gt;14</title>\n<path fill=\"none\" stroke=\"black\" d=\"M849.16,-103.73C860.14,-94.33 871.81,-84.35 882.76,-74.99\"/>\n<polygon fill=\"black\" stroke=\"black\" points=\"885.25,-77.46 890.57,-68.3 880.7,-72.14 885.25,-77.46\"/>\n</g>\n</g>\n</svg>\n"
     },
     "execution_count": 7,
     "metadata": {},
     "output_type": "execute_result"
    }
   ],
   "source": [
    "import graphviz\n",
    "\n",
    "dot_data =  tree.export_graphviz(dt, out_file=None,\n",
    "                                   feature_names=data_3.drop('results', axis=1).columns,\n",
    "                                   class_names=data_3['results'].unique().astype(str),\n",
    "                                   filled=True, rounded=True,\n",
    "                                   special_characters=True)\n",
    "graph = graphviz.Source(dot_data)\n",
    "graph"
   ],
   "metadata": {
    "collapsed": false,
    "pycharm": {
     "name": "#%%\n"
    }
   }
  },
  {
   "cell_type": "code",
   "execution_count": 8,
   "outputs": [
    {
     "name": "stdout",
     "output_type": "stream",
     "text": [
      "Importance of feature Age:, 0.000\n",
      "Importance of feature Gender:, 0.000\n",
      "Importance of feature PSQI:, 0.000\n",
      "Importance of feature MEQ_type:, 0.102\n",
      "Importance of feature 9A00000045146841:, 0.043\n",
      "Importance of feature F9000000452CCF41:, 0.000\n",
      "Importance of feature 76000000452C9741:, 0.030\n",
      "Importance of feature 7200000045201D41:, 0.000\n",
      "Importance of feature 4B0000004516B141:, 0.000\n",
      "Importance of feature CB000000452D7441:, 0.000\n",
      "Importance of feature DPG_finger-chest:, 0.000\n",
      "Importance of feature DPG_nose-forehead:, 0.191\n",
      "Importance of feature DPG_pinna-mastoid:, 0.633\n",
      "Importance of feature FLIR_forehead:, 0.000\n",
      "Importance of feature FLIR_nose:, 0.000\n",
      "Importance of feature FLIR_DPG_nose-forehead:, 0.000\n"
     ]
    },
    {
     "data": {
      "text/plain": "    index                Variable  Feature Importance Score\n0      12       DPG_pinna-mastoid                  0.633187\n1      11       DPG_nose-forehead                  0.191461\n2       3                MEQ_type                  0.102377\n3       4        9A00000045146841                  0.043390\n4       6        76000000452C9741                  0.029586\n5       0                     Age                  0.000000\n6       1                  Gender                  0.000000\n7       2                    PSQI                  0.000000\n8       5        F9000000452CCF41                  0.000000\n9       7        7200000045201D41                  0.000000\n10      8        4B0000004516B141                  0.000000\n11      9        CB000000452D7441                  0.000000\n12     10        DPG_finger-chest                  0.000000\n13     13           FLIR_forehead                  0.000000\n14     14               FLIR_nose                  0.000000\n15     15  FLIR_DPG_nose-forehead                  0.000000",
      "text/html": "<div>\n<style scoped>\n    .dataframe tbody tr th:only-of-type {\n        vertical-align: middle;\n    }\n\n    .dataframe tbody tr th {\n        vertical-align: top;\n    }\n\n    .dataframe thead th {\n        text-align: right;\n    }\n</style>\n<table border=\"1\" class=\"dataframe\">\n  <thead>\n    <tr style=\"text-align: right;\">\n      <th></th>\n      <th>index</th>\n      <th>Variable</th>\n      <th>Feature Importance Score</th>\n    </tr>\n  </thead>\n  <tbody>\n    <tr>\n      <th>0</th>\n      <td>12</td>\n      <td>DPG_pinna-mastoid</td>\n      <td>0.633187</td>\n    </tr>\n    <tr>\n      <th>1</th>\n      <td>11</td>\n      <td>DPG_nose-forehead</td>\n      <td>0.191461</td>\n    </tr>\n    <tr>\n      <th>2</th>\n      <td>3</td>\n      <td>MEQ_type</td>\n      <td>0.102377</td>\n    </tr>\n    <tr>\n      <th>3</th>\n      <td>4</td>\n      <td>9A00000045146841</td>\n      <td>0.043390</td>\n    </tr>\n    <tr>\n      <th>4</th>\n      <td>6</td>\n      <td>76000000452C9741</td>\n      <td>0.029586</td>\n    </tr>\n    <tr>\n      <th>5</th>\n      <td>0</td>\n      <td>Age</td>\n      <td>0.000000</td>\n    </tr>\n    <tr>\n      <th>6</th>\n      <td>1</td>\n      <td>Gender</td>\n      <td>0.000000</td>\n    </tr>\n    <tr>\n      <th>7</th>\n      <td>2</td>\n      <td>PSQI</td>\n      <td>0.000000</td>\n    </tr>\n    <tr>\n      <th>8</th>\n      <td>5</td>\n      <td>F9000000452CCF41</td>\n      <td>0.000000</td>\n    </tr>\n    <tr>\n      <th>9</th>\n      <td>7</td>\n      <td>7200000045201D41</td>\n      <td>0.000000</td>\n    </tr>\n    <tr>\n      <th>10</th>\n      <td>8</td>\n      <td>4B0000004516B141</td>\n      <td>0.000000</td>\n    </tr>\n    <tr>\n      <th>11</th>\n      <td>9</td>\n      <td>CB000000452D7441</td>\n      <td>0.000000</td>\n    </tr>\n    <tr>\n      <th>12</th>\n      <td>10</td>\n      <td>DPG_finger-chest</td>\n      <td>0.000000</td>\n    </tr>\n    <tr>\n      <th>13</th>\n      <td>13</td>\n      <td>FLIR_forehead</td>\n      <td>0.000000</td>\n    </tr>\n    <tr>\n      <th>14</th>\n      <td>14</td>\n      <td>FLIR_nose</td>\n      <td>0.000000</td>\n    </tr>\n    <tr>\n      <th>15</th>\n      <td>15</td>\n      <td>FLIR_DPG_nose-forehead</td>\n      <td>0.000000</td>\n    </tr>\n  </tbody>\n</table>\n</div>"
     },
     "execution_count": 8,
     "metadata": {},
     "output_type": "execute_result"
    }
   ],
   "source": [
    "final = ''\n",
    "fi = ''\n",
    "for i, column in enumerate(data_3.drop('results', axis=1)):\n",
    "    print('Importance of feature {}:, {:.3f}'.format(column, dt.feature_importances_[i]))\n",
    "\n",
    "    fi = pd.DataFrame({'Variable': [column], 'Feature Importance Score': [dt.feature_importances_[i]]})\n",
    "\n",
    "    try:\n",
    "        final = pd.concat([final, fi], ignore_index=True)\n",
    "    except:\n",
    "        final = fi\n",
    "\n",
    "# Ordering the data\n",
    "final_fi = final.sort_values('Feature Importance Score', ascending=False).reset_index()\n",
    "final_fi"
   ],
   "metadata": {
    "collapsed": false,
    "pycharm": {
     "name": "#%%\n"
    }
   }
  },
  {
   "cell_type": "code",
   "execution_count": 9,
   "outputs": [
    {
     "name": "stdout",
     "output_type": "stream",
     "text": [
      "Training Accuracy is:  0.7806624888093107\n",
      "Testing Accuracy is:  0.7571428571428571\n"
     ]
    }
   ],
   "source": [
    "# Accuracy on Train\n",
    "print(\"Training Accuracy is: \", dt.score(X_train, Y_train))\n",
    "\n",
    "# Accuracy on Train\n",
    "print(\"Testing Accuracy is: \", dt.score(X_test, Y_test))"
   ],
   "metadata": {
    "collapsed": false,
    "pycharm": {
     "name": "#%%\n"
    }
   }
  },
  {
   "cell_type": "code",
   "execution_count": 10,
   "outputs": [
    {
     "name": "stdout",
     "output_type": "stream",
     "text": [
      "Training Accuracy is:  0.8889883616830797\n",
      "Testing Accuracy is:  0.7428571428571429\n"
     ]
    }
   ],
   "source": [
    "# Building a forest\n",
    "random_forest = RandomForestClassifier(n_estimators=100)\n",
    "random_forest.fit(X_train, Y_train)\n",
    "# prediction_test = random_forest.predict(X=X_test)\n",
    "\n",
    "# Accuracy on Test\n",
    "print(\"Training Accuracy is: \", random_forest.score(X_train, Y_train))\n",
    "# Accuracy on Train\n",
    "print(\"Testing Accuracy is: \", random_forest.score(X_test, Y_test))"
   ],
   "metadata": {
    "collapsed": false,
    "pycharm": {
     "name": "#%%\n"
    }
   }
  },
  {
   "cell_type": "code",
   "execution_count": 11,
   "outputs": [
    {
     "name": "stdout",
     "output_type": "stream",
     "text": [
      "Importance of feature Age:, 0.006\n",
      "Importance of feature Gender:, 0.001\n",
      "Importance of feature PSQI:, 0.002\n",
      "Importance of feature MEQ_type:, 0.011\n",
      "Importance of feature 9A00000045146841:, 0.049\n",
      "Importance of feature F9000000452CCF41:, 0.124\n",
      "Importance of feature 76000000452C9741:, 0.051\n",
      "Importance of feature 7200000045201D41:, 0.036\n",
      "Importance of feature 4B0000004516B141:, 0.178\n",
      "Importance of feature CB000000452D7441:, 0.094\n",
      "Importance of feature DPG_finger-chest:, 0.188\n",
      "Importance of feature DPG_nose-forehead:, 0.172\n",
      "Importance of feature DPG_pinna-mastoid:, 0.075\n",
      "Importance of feature FLIR_forehead:, 0.006\n",
      "Importance of feature FLIR_nose:, 0.003\n",
      "Importance of feature FLIR_DPG_nose-forehead:, 0.005\n"
     ]
    },
    {
     "data": {
      "text/plain": "    index                Variable  Feature Importance Score\n0      10        DPG_finger-chest                  0.187710\n1       8        4B0000004516B141                  0.177907\n2      11       DPG_nose-forehead                  0.171683\n3       5        F9000000452CCF41                  0.124088\n4       9        CB000000452D7441                  0.094182\n5      12       DPG_pinna-mastoid                  0.074584\n6       6        76000000452C9741                  0.050896\n7       4        9A00000045146841                  0.048883\n8       7        7200000045201D41                  0.035590\n9       3                MEQ_type                  0.011014\n10     13           FLIR_forehead                  0.006345\n11      0                     Age                  0.006051\n12     15  FLIR_DPG_nose-forehead                  0.005191\n13     14               FLIR_nose                  0.003125\n14      2                    PSQI                  0.001753\n15      1                  Gender                  0.000996",
      "text/html": "<div>\n<style scoped>\n    .dataframe tbody tr th:only-of-type {\n        vertical-align: middle;\n    }\n\n    .dataframe tbody tr th {\n        vertical-align: top;\n    }\n\n    .dataframe thead th {\n        text-align: right;\n    }\n</style>\n<table border=\"1\" class=\"dataframe\">\n  <thead>\n    <tr style=\"text-align: right;\">\n      <th></th>\n      <th>index</th>\n      <th>Variable</th>\n      <th>Feature Importance Score</th>\n    </tr>\n  </thead>\n  <tbody>\n    <tr>\n      <th>0</th>\n      <td>10</td>\n      <td>DPG_finger-chest</td>\n      <td>0.187710</td>\n    </tr>\n    <tr>\n      <th>1</th>\n      <td>8</td>\n      <td>4B0000004516B141</td>\n      <td>0.177907</td>\n    </tr>\n    <tr>\n      <th>2</th>\n      <td>11</td>\n      <td>DPG_nose-forehead</td>\n      <td>0.171683</td>\n    </tr>\n    <tr>\n      <th>3</th>\n      <td>5</td>\n      <td>F9000000452CCF41</td>\n      <td>0.124088</td>\n    </tr>\n    <tr>\n      <th>4</th>\n      <td>9</td>\n      <td>CB000000452D7441</td>\n      <td>0.094182</td>\n    </tr>\n    <tr>\n      <th>5</th>\n      <td>12</td>\n      <td>DPG_pinna-mastoid</td>\n      <td>0.074584</td>\n    </tr>\n    <tr>\n      <th>6</th>\n      <td>6</td>\n      <td>76000000452C9741</td>\n      <td>0.050896</td>\n    </tr>\n    <tr>\n      <th>7</th>\n      <td>4</td>\n      <td>9A00000045146841</td>\n      <td>0.048883</td>\n    </tr>\n    <tr>\n      <th>8</th>\n      <td>7</td>\n      <td>7200000045201D41</td>\n      <td>0.035590</td>\n    </tr>\n    <tr>\n      <th>9</th>\n      <td>3</td>\n      <td>MEQ_type</td>\n      <td>0.011014</td>\n    </tr>\n    <tr>\n      <th>10</th>\n      <td>13</td>\n      <td>FLIR_forehead</td>\n      <td>0.006345</td>\n    </tr>\n    <tr>\n      <th>11</th>\n      <td>0</td>\n      <td>Age</td>\n      <td>0.006051</td>\n    </tr>\n    <tr>\n      <th>12</th>\n      <td>15</td>\n      <td>FLIR_DPG_nose-forehead</td>\n      <td>0.005191</td>\n    </tr>\n    <tr>\n      <th>13</th>\n      <td>14</td>\n      <td>FLIR_nose</td>\n      <td>0.003125</td>\n    </tr>\n    <tr>\n      <th>14</th>\n      <td>2</td>\n      <td>PSQI</td>\n      <td>0.001753</td>\n    </tr>\n    <tr>\n      <th>15</th>\n      <td>1</td>\n      <td>Gender</td>\n      <td>0.000996</td>\n    </tr>\n  </tbody>\n</table>\n</div>"
     },
     "execution_count": 11,
     "metadata": {},
     "output_type": "execute_result"
    }
   ],
   "source": [
    "fi2 = ''\n",
    "final2 = ''\n",
    "for i, column in enumerate(data_3.drop('results', axis=1)):\n",
    "    print('Importance of feature {}:, {:.3f}'.format(column, random_forest.feature_importances_[i]))\n",
    "    fi2 = pd.DataFrame({'Variable': [column], 'Feature Importance Score': [random_forest.feature_importances_[i]]})\n",
    "\n",
    "    try:\n",
    "        final2 = pd.concat([final2, fi2], ignore_index=True)\n",
    "    except:\n",
    "        final2 = fi2\n",
    "\n",
    "# Ordering the data\n",
    "final_fi2 = final2.sort_values('Feature Importance Score', ascending=False).reset_index()\n",
    "final_fi2"
   ],
   "metadata": {
    "collapsed": false,
    "pycharm": {
     "name": "#%%\n"
    }
   }
  }
 ],
 "metadata": {
  "kernelspec": {
   "display_name": "Python 3",
   "language": "python",
   "name": "python3"
  },
  "language_info": {
   "codemirror_mode": {
    "name": "ipython",
    "version": 2
   },
   "file_extension": ".py",
   "mimetype": "text/x-python",
   "name": "python",
   "nbconvert_exporter": "python",
   "pygments_lexer": "ipython2",
   "version": "2.7.6"
  }
 },
 "nbformat": 4,
 "nbformat_minor": 0
}