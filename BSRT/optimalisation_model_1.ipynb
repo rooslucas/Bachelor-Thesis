{
 "cells": [
  {
   "cell_type": "markdown",
   "metadata": {
    "collapsed": true,
    "pycharm": {
     "name": "#%% md\n"
    }
   },
   "source": [
    "# Predicting vigilance using machine learning\n",
    "## Optimalisation Random Forest Model 1\n",
    "Rosalie Lucas (6540384)\n",
    "\n",
    "This model is used in my thesis predicting drops in vigilance using machine learning.\n",
    "It is used to optimise the hyperparameters of the Random Forest algorithm of model 1."
   ]
  },
  {
   "cell_type": "code",
   "execution_count": 1,
   "outputs": [],
   "source": [
    "# Import Libraries needed\n",
    "import pandas as pd\n",
    "import os\n",
    "import numpy as np\n",
    "from matplotlib import pyplot as plt\n",
    "import seaborn as sns\n",
    "%matplotlib inline\n",
    "\n",
    "import warnings\n",
    "warnings.filterwarnings('ignore')\n",
    "\n",
    "\n",
    "from sklearn.model_selection import train_test_split\n",
    "from sklearn import tree\n",
    "from sklearn.tree import DecisionTreeClassifier, export_graphviz\n",
    "from sklearn.ensemble import RandomForestClassifier\n",
    "from sklearn.preprocessing import LabelEncoder\n",
    "\n",
    "# Installed Graphviz using Pip3"
   ],
   "metadata": {
    "collapsed": false,
    "pycharm": {
     "name": "#%%\n"
    }
   }
  },
  {
   "cell_type": "code",
   "execution_count": 2,
   "outputs": [],
   "source": [
    "PATH = '/Users/roos/Developer/Bachelor-Thesis'"
   ],
   "metadata": {
    "collapsed": false,
    "pycharm": {
     "name": "#%%\n"
    }
   }
  },
  {
   "cell_type": "code",
   "execution_count": 3,
   "outputs": [
    {
     "name": "stdout",
     "output_type": "stream",
     "text": [
      "The number of values for feature 9A00000045146841 : 27\n",
      "The number of values for feature F9000000452CCF41 : 65\n",
      "The number of values for feature 76000000452C9741 : 38\n",
      "The number of values for feature 7200000045201D41 : 25\n",
      "The number of values for feature 4B0000004516B141 : 187\n",
      "The number of values for feature CB000000452D7441 : 73\n",
      "The number of values for feature DPG_finger-chest : 366\n",
      "The number of values for feature DPG_nose-forehead : 235\n",
      "The number of values for feature DPG_pinna-mastoid : 63\n",
      "The number of values for feature results : 2 -- [0. 1.]\n",
      "The number of values for feature FLIR_forehead : 1716\n",
      "The number of values for feature FLIR_nose : 1716\n",
      "The number of values for feature FLIR_DPG_nose-forehead : 1716\n",
      "9A00000045146841          0\n",
      "F9000000452CCF41          0\n",
      "76000000452C9741          0\n",
      "7200000045201D41          0\n",
      "4B0000004516B141          0\n",
      "CB000000452D7441          0\n",
      "DPG_finger-chest          0\n",
      "DPG_nose-forehead         0\n",
      "DPG_pinna-mastoid         0\n",
      "results                   0\n",
      "FLIR_forehead             0\n",
      "FLIR_nose                 0\n",
      "FLIR_DPG_nose-forehead    0\n",
      "dtype: int64\n"
     ]
    }
   ],
   "source": [
    "data_file_path = '/Users/roos/Data/all_trials_noNaN2.csv'\n",
    "data_file = pd.read_csv(data_file_path)\n",
    "data = data_file[['9A00000045146841', 'F9000000452CCF41', '76000000452C9741', '7200000045201D41', '4B0000004516B141',\n",
    "                  'CB000000452D7441', 'DPG_finger-chest', 'DPG_nose-forehead', 'DPG_pinna-mastoid', 'results',\n",
    "                  'FLIR_forehead', 'FLIR_nose', 'FLIR_DPG_nose-forehead']]\n",
    "for column in data:  # Describe the amount of different features in each column (column is a feature)\n",
    "    unique_values = np.unique(data[column])\n",
    "    number_values = len(unique_values)\n",
    "    if number_values < 12:\n",
    "        print(\"The number of values for feature {} : {} -- {}\".format(column, number_values, unique_values))\n",
    "    else:\n",
    "        print(\"The number of values for feature {} : {}\".format(column, number_values))\n",
    "\n",
    "print(data.isnull().sum())"
   ],
   "metadata": {
    "collapsed": false,
    "pycharm": {
     "name": "#%%\n"
    }
   }
  },
  {
   "cell_type": "code",
   "execution_count": 4,
   "outputs": [
    {
     "name": "stdout",
     "output_type": "stream",
     "text": [
      "X shape: (1716, 12)\n",
      "Y shape: (1716,)\n"
     ]
    }
   ],
   "source": [
    "# Splitting the data\n",
    "X = data.drop('results', axis=1).values\n",
    "Y = data['results'].values\n",
    "print('X shape: {}'.format(np.shape(X)))\n",
    "print('Y shape: {}'.format(np.shape(Y)))\n",
    "\n",
    "X_train1, X_test, Y_train1, Y_test = train_test_split(X, Y, train_size=0.8, test_size=0.2, random_state=0)\n",
    "X_train, X_validate, Y_train, Y_validate = train_test_split(X_train1, Y_train1, train_size=0.7, test_size=0.3, random_state=0)"
   ],
   "metadata": {
    "collapsed": false,
    "pycharm": {
     "name": "#%%\n"
    }
   }
  },
  {
   "cell_type": "code",
   "execution_count": 5,
   "outputs": [
    {
     "name": "stdout",
     "output_type": "stream",
     "text": [
      "0.771875\n",
      "0.7985436893203883\n"
     ]
    }
   ],
   "source": [
    "dt = DecisionTreeClassifier(max_depth=3, random_state=30)\n",
    "dt.fit(X_train, Y_train)\n",
    "print(Y_train.sum()/len(Y_train))\n",
    "print(Y_validate.sum()/(len(Y_validate)))\n"
   ],
   "metadata": {
    "collapsed": false,
    "pycharm": {
     "name": "#%%\n"
    }
   }
  },
  {
   "cell_type": "code",
   "execution_count": 6,
   "outputs": [
    {
     "name": "stdout",
     "output_type": "stream",
     "text": [
      "Training Accuracy is:  0.7854166666666667\n",
      "Testing Accuracy is:  0.7669902912621359\n"
     ]
    }
   ],
   "source": [
    "# Accuracy on Train\n",
    "print(\"Training Accuracy is: \", dt.score(X_train, Y_train))\n",
    "\n",
    "# Accuracy on Train\n",
    "print(\"Testing Accuracy is: \", dt.score(X_validate, Y_validate))"
   ],
   "metadata": {
    "collapsed": false,
    "pycharm": {
     "name": "#%%\n"
    }
   }
  },
  {
   "cell_type": "code",
   "execution_count": 7,
   "outputs": [
    {
     "name": "stdout",
     "output_type": "stream",
     "text": [
      "Number of trees: 100\n",
      "Number of trees: 150\n",
      "Number of trees: 200\n",
      "Number of trees: 250\n",
      "Number of trees: 300\n",
      "Number of trees: 350\n",
      "Number of trees: 400\n",
      "Number of trees: 450\n",
      "Number of trees: 500\n"
     ]
    },
    {
     "data": {
      "text/plain": "<Figure size 432x288 with 1 Axes>",
      "image/png": "[encoded data removed]"
     },
     "metadata": {
      "needs_background": "light"
     },
     "output_type": "display_data"
    },
    {
     "name": "stdout",
     "output_type": "stream",
     "text": [
      "Depth: 1\n",
      "Depth: 2\n",
      "Depth: 3\n",
      "Depth: 4\n",
      "Depth: 5\n",
      "Depth: 6\n",
      "Depth: 7\n",
      "Depth: 8\n",
      "Depth: 9\n",
      "Depth: 10\n"
     ]
    },
    {
     "data": {
      "text/plain": "<Figure size 432x288 with 1 Axes>",
      "image/png": "[encoded data removed]"
     },
     "metadata": {
      "needs_background": "light"
     },
     "output_type": "display_data"
    }
   ],
   "source": [
    "# Trying different trees\n",
    "test_acc_tree = []\n",
    "val_acc_tree = []\n",
    "trees = [100, 150, 200, 250, 300, 350, 400, 450, 500]\n",
    "for num_trees in range(100, 501, 50):\n",
    "    print(\"Number of trees:\", num_trees)\n",
    "    random_forest = RandomForestClassifier(n_estimators=num_trees, random_state=30)\n",
    "    random_forest.fit(X_train, Y_train)\n",
    "    test_acc_tree.append(random_forest.score(X_train, Y_train))\n",
    "    # Accuracy on validation\n",
    "    val_acc_tree.append(random_forest.score(X_validate, Y_validate))\n",
    "plt.plot(trees, test_acc_tree, c=\"magenta\")\n",
    "plt.plot(trees, val_acc_tree, c=\"aqua\")\n",
    "plt.show()\n",
    "\n",
    "test_acc_depth = []\n",
    "val_acc_depth = []\n",
    "depth = [1, 2, 3, 4, 5, 6, 7, 8, 9, 10]\n",
    "for max_depth in range(1, 11, 1):\n",
    "    print(\"Depth:\", max_depth)\n",
    "    random_forest = RandomForestClassifier(n_estimators=100, random_state=30, max_depth=max_depth)\n",
    "    random_forest.fit(X_train, Y_train)\n",
    "    test_acc_depth.append(random_forest.score(X_train, Y_train))\n",
    "    val_acc_depth.append( random_forest.score(X_validate, Y_validate))\n",
    "\n",
    "plt.plot(depth, test_acc_depth, c=\"magenta\")\n",
    "plt.plot(depth, val_acc_depth, c=\"aqua\")\n",
    "plt.show()"
   ],
   "metadata": {
    "collapsed": false,
    "pycharm": {
     "name": "#%%\n"
    }
   }
  },
  {
   "cell_type": "code",
   "execution_count": 8,
   "outputs": [
    {
     "name": "stdout",
     "output_type": "stream",
     "text": [
      "Training Accuracy is:  0.8010416666666667\n",
      "Validation Accuracy is:  0.8106796116504854\n",
      "0.7645348837209303\n",
      "Testing Accuracy is:  0.7645348837209303\n"
     ]
    }
   ],
   "source": [
    "random_forest = RandomForestClassifier(n_estimators=100, random_state=30, max_depth=5)\n",
    "random_forest.fit(X_train, Y_train)\n",
    "print(\"Training Accuracy is: \", random_forest.score(X_train, Y_train))\n",
    "# Accuracy on Train\n",
    "print(\"Validation Accuracy is: \", random_forest.score(X_validate, Y_validate))\n",
    "print(Y_test.sum()/(len(Y_test)))\n",
    "print(\"Testing Accuracy is: \", random_forest.score(X_test, Y_test))"
   ],
   "metadata": {
    "collapsed": false,
    "pycharm": {
     "name": "#%%\n"
    }
   }
  },
  {
   "cell_type": "code",
   "execution_count": 9,
   "outputs": [
    {
     "name": "stdout",
     "output_type": "stream",
     "text": [
      "Training Accuracy is:  1.0\n",
      "Testing Accuracy is:  0.7005813953488372\n"
     ]
    }
   ],
   "source": [
    "# Building a forest with specific features\n",
    "random_forest = RandomForestClassifier(n_estimators=100, random_state=30)\n",
    "random_forest.fit(X_train, Y_train)\n",
    "# prediction_test = random_forest.predict(X=X_test)\n",
    "\n",
    "# Accuracy on Test\n",
    "print(\"Training Accuracy is: \", random_forest.score(X_train, Y_train))\n",
    "# Accuracy on Train\n",
    "print(\"Testing Accuracy is: \", random_forest.score(X_test, Y_test))\n",
    "\n"
   ],
   "metadata": {
    "collapsed": false,
    "pycharm": {
     "name": "#%%\n"
    }
   }
  }
 ],
 "metadata": {
  "kernelspec": {
   "display_name": "Python 3",
   "language": "python",
   "name": "python3"
  },
  "language_info": {
   "codemirror_mode": {
    "name": "ipython",
    "version": 2
   },
   "file_extension": ".py",
   "mimetype": "text/x-python",
   "name": "python",
   "nbconvert_exporter": "python",
   "pygments_lexer": "ipython2",
   "version": "2.7.6"
  }
 },
 "nbformat": 4,
 "nbformat_minor": 0
}