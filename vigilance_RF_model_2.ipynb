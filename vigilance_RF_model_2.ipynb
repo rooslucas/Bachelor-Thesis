{
 "cells": [
  {
   "cell_type": "markdown",
   "metadata": {
    "collapsed": true,
    "pycharm": {
     "name": "#%% md\n"
    }
   },
   "source": [
    "# Predicting vigilance using machine learning\n",
    "## Random Forest Model 2\n",
    "Rosalie Lucas (6540384)\n",
    "\n",
    "This is the second model in my thesis Predicting vigilance using machine learning.\n",
    "In this model subjective measures and demographic data will be used.\n",
    "These are consistent within one participant and therefor could be over represented."
   ]
  },
  {
   "cell_type": "code",
   "execution_count": 1,
   "outputs": [],
   "source": [
    "# Import Libraries needed\n",
    "import pandas as pd\n",
    "import os\n",
    "import numpy as np\n",
    "from matplotlib import pyplot as plt\n",
    "import seaborn as sns\n",
    "%matplotlib inline\n",
    "\n",
    "import warnings\n",
    "warnings.filterwarnings('ignore')\n",
    "\n",
    "\n",
    "from sklearn.model_selection import train_test_split\n",
    "from sklearn import tree\n",
    "from sklearn.tree import DecisionTreeClassifier, export_graphviz\n",
    "from sklearn.ensemble import RandomForestClassifier\n",
    "from sklearn.preprocessing import LabelEncoder\n",
    "\n",
    "# Installed Graphviz using Pip3"
   ],
   "metadata": {
    "collapsed": false,
    "pycharm": {
     "name": "#%%\n"
    }
   }
  },
  {
   "cell_type": "code",
   "execution_count": 2,
   "outputs": [],
   "source": [
    "data_file_path = '/Users/roos/Data/all_trials_noNaN.csv'\n",
    "data_file = pd.read_csv(data_file_path)\n",
    "data_2 = data_file[[ 'Age', 'Gender', 'PSQI', 'MEQ_type', 'results']]\n"
   ],
   "metadata": {
    "collapsed": false,
    "pycharm": {
     "name": "#%%\n"
    }
   }
  },
  {
   "cell_type": "code",
   "execution_count": 3,
   "outputs": [
    {
     "name": "stdout",
     "output_type": "stream",
     "text": [
      "gender classes: ['female' 'male']\n",
      "Gender integer classes [0 1]\n",
      "MEQ classes: ['evening' 'intermediate' 'morning']\n",
      "MEQ> integer classes [0 1 2]\n"
     ]
    }
   ],
   "source": [
    "# Encode categorical variables\n",
    "# Gender\n",
    "encoder = LabelEncoder()\n",
    "label_encoder_gender = encoder.fit(data_2['Gender'])\n",
    "print(\"gender classes:\", label_encoder_gender.classes_)\n",
    "integer_classes_gender = label_encoder_gender.transform(label_encoder_gender.classes_)\n",
    "print(\"Gender integer classes\", integer_classes_gender)\n",
    "code = label_encoder_gender.transform(data_2['Gender'])\n",
    "data_2['Gender'] = code\n",
    "\n",
    "# MEQ_type\n",
    "label_encoder_MEQ = encoder.fit(data_2['MEQ_type'])\n",
    "print(\"MEQ classes:\", label_encoder_MEQ.classes_)\n",
    "integer_classes_MEQ = label_encoder_MEQ.transform(label_encoder_MEQ.classes_)\n",
    "print(\"MEQ> integer classes\", integer_classes_MEQ)\n",
    "code_MEQ = label_encoder_MEQ.transform(data_2['MEQ_type'])\n",
    "data_2['MEQ_type'] = code_MEQ\n"
   ],
   "metadata": {
    "collapsed": false,
    "pycharm": {
     "name": "#%%\n"
    }
   }
  },
  {
   "cell_type": "code",
   "execution_count": 4,
   "outputs": [
    {
     "name": "stdout",
     "output_type": "stream",
     "text": [
      "The number of values for feature Age : 6 -- [19. 21. 22. 23. 26. 50.]\n",
      "The number of values for feature Gender : 2 -- [0 1]\n",
      "The number of values for feature PSQI : 5 -- [0.28571429 0.42857143 0.57142857 0.71428571 1.2       ]\n",
      "The number of values for feature MEQ_type : 3 -- [0 1 2]\n",
      "The number of values for feature results : 2 -- [0. 1.]\n",
      "Age         0\n",
      "Gender      0\n",
      "PSQI        0\n",
      "MEQ_type    0\n",
      "results     0\n",
      "dtype: int64\n"
     ]
    }
   ],
   "source": [
    "for column in data_2:  # Describe the amount of different features in each column (column is a feature)\n",
    "    unique_values = np.unique(data_2[column])\n",
    "    number_values = len(unique_values)\n",
    "    if number_values < 12:\n",
    "        print(\"The number of values for feature {} : {} -- {}\".format(column, number_values, unique_values))\n",
    "    else:\n",
    "        print(\"The number of values for feature {} : {}\".format(column, number_values))\n",
    "\n",
    "print(data_2.isnull().sum())"
   ],
   "metadata": {
    "collapsed": false,
    "pycharm": {
     "name": "#%%\n"
    }
   }
  },
  {
   "cell_type": "code",
   "execution_count": 5,
   "outputs": [
    {
     "name": "stdout",
     "output_type": "stream",
     "text": [
      "X shape: (1397, 4)\n",
      "Y shape: (1397,)\n"
     ]
    }
   ],
   "source": [
    "# Splitting the data\n",
    "X = data_2.drop('results', axis=1).values\n",
    "Y = data_2['results'].values\n",
    "print('X shape: {}'.format(np.shape(X)))\n",
    "print('Y shape: {}'.format(np.shape(Y)))\n",
    "\n",
    "X_train, X_test, Y_train, Y_test = train_test_split(X, Y, train_size=0.8, test_size=0.2, random_state=0)"
   ],
   "metadata": {
    "collapsed": false,
    "pycharm": {
     "name": "#%%\n"
    }
   }
  },
  {
   "cell_type": "code",
   "execution_count": 6,
   "outputs": [
    {
     "data": {
      "text/plain": "DecisionTreeClassifier(max_depth=3, random_state=1)"
     },
     "execution_count": 6,
     "metadata": {},
     "output_type": "execute_result"
    }
   ],
   "source": [
    "dt = DecisionTreeClassifier(max_depth=3, random_state=1)\n",
    "dt.fit(X_train, Y_train)"
   ],
   "metadata": {
    "collapsed": false,
    "pycharm": {
     "name": "#%%\n"
    }
   }
  },
  {
   "cell_type": "code",
   "execution_count": 7,
   "outputs": [
    {
     "data": {
      "text/plain": "<graphviz.files.Source at 0x1253d0e20>",
      "image/svg+xml": "<?xml version=\"1.0\" encoding=\"UTF-8\" standalone=\"no\"?>\n<!DOCTYPE svg PUBLIC \"-//W3C//DTD SVG 1.1//EN\"\n \"http://www.w3.org/Graphics/SVG/1.1/DTD/svg11.dtd\">\n<!-- Generated by graphviz version 2.47.1 (20210417.1919)\n -->\n<!-- Title: Tree Pages: 1 -->\n<svg width=\"781pt\" height=\"433pt\"\n viewBox=\"0.00 0.00 780.50 433.00\" xmlns=\"http://www.w3.org/2000/svg\" xmlns:xlink=\"http://www.w3.org/1999/xlink\">\n<g id=\"graph0\" class=\"graph\" transform=\"scale(1 1) rotate(0) translate(4 429)\">\n<title>Tree</title>\n<polygon fill=\"white\" stroke=\"transparent\" points=\"-4,4 -4,-429 776.5,-429 776.5,4 -4,4\"/>\n<!-- 0 -->\n<g id=\"node1\" class=\"node\">\n<title>0</title>\n<path fill=\"#74baed\" stroke=\"black\" d=\"M438,-425C438,-425 337,-425 337,-425 331,-425 325,-419 325,-413 325,-413 325,-354 325,-354 325,-348 331,-342 337,-342 337,-342 438,-342 438,-342 444,-342 450,-348 450,-354 450,-354 450,-413 450,-413 450,-419 444,-425 438,-425\"/>\n<text text-anchor=\"start\" x=\"337.5\" y=\"-409.8\" font-family=\"Helvetica,sans-Serif\" font-size=\"14.00\">MEQ_type ≤ 1.5</text>\n<text text-anchor=\"start\" x=\"352\" y=\"-394.8\" font-family=\"Helvetica,sans-Serif\" font-size=\"14.00\">gini = 0.353</text>\n<text text-anchor=\"start\" x=\"339\" y=\"-379.8\" font-family=\"Helvetica,sans-Serif\" font-size=\"14.00\">samples = 1117</text>\n<text text-anchor=\"start\" x=\"333\" y=\"-364.8\" font-family=\"Helvetica,sans-Serif\" font-size=\"14.00\">value = [256, 861]</text>\n<text text-anchor=\"start\" x=\"354.5\" y=\"-349.8\" font-family=\"Helvetica,sans-Serif\" font-size=\"14.00\">class = 0.0</text>\n</g>\n<!-- 1 -->\n<g id=\"node2\" class=\"node\">\n<title>1</title>\n<path fill=\"#5eafea\" stroke=\"black\" d=\"M367,-306C367,-306 266,-306 266,-306 260,-306 254,-300 254,-294 254,-294 254,-235 254,-235 254,-229 260,-223 266,-223 266,-223 367,-223 367,-223 373,-223 379,-229 379,-235 379,-235 379,-294 379,-294 379,-300 373,-306 367,-306\"/>\n<text text-anchor=\"start\" x=\"283.5\" y=\"-290.8\" font-family=\"Helvetica,sans-Serif\" font-size=\"14.00\">Age ≤ 36.5</text>\n<text text-anchor=\"start\" x=\"281\" y=\"-275.8\" font-family=\"Helvetica,sans-Serif\" font-size=\"14.00\">gini = 0.264</text>\n<text text-anchor=\"start\" x=\"271.5\" y=\"-260.8\" font-family=\"Helvetica,sans-Serif\" font-size=\"14.00\">samples = 653</text>\n<text text-anchor=\"start\" x=\"262\" y=\"-245.8\" font-family=\"Helvetica,sans-Serif\" font-size=\"14.00\">value = [102, 551]</text>\n<text text-anchor=\"start\" x=\"283.5\" y=\"-230.8\" font-family=\"Helvetica,sans-Serif\" font-size=\"14.00\">class = 0.0</text>\n</g>\n<!-- 0&#45;&gt;1 -->\n<g id=\"edge1\" class=\"edge\">\n<title>0&#45;&gt;1</title>\n<path fill=\"none\" stroke=\"black\" d=\"M362.87,-341.91C357.53,-333.1 351.82,-323.7 346.3,-314.61\"/>\n<polygon fill=\"black\" stroke=\"black\" points=\"349.27,-312.75 341.09,-306.02 343.29,-316.39 349.27,-312.75\"/>\n<text text-anchor=\"middle\" x=\"335.15\" y=\"-326.6\" font-family=\"Helvetica,sans-Serif\" font-size=\"14.00\">True</text>\n</g>\n<!-- 6 -->\n<g id=\"node7\" class=\"node\">\n<title>6</title>\n<path fill=\"#9bcef2\" stroke=\"black\" d=\"M510,-306C510,-306 409,-306 409,-306 403,-306 397,-300 397,-294 397,-294 397,-235 397,-235 397,-229 403,-223 409,-223 409,-223 510,-223 510,-223 516,-223 522,-229 522,-235 522,-235 522,-294 522,-294 522,-300 516,-306 510,-306\"/>\n<text text-anchor=\"start\" x=\"419.5\" y=\"-290.8\" font-family=\"Helvetica,sans-Serif\" font-size=\"14.00\">Gender ≤ 0.5</text>\n<text text-anchor=\"start\" x=\"424\" y=\"-275.8\" font-family=\"Helvetica,sans-Serif\" font-size=\"14.00\">gini = 0.443</text>\n<text text-anchor=\"start\" x=\"414.5\" y=\"-260.8\" font-family=\"Helvetica,sans-Serif\" font-size=\"14.00\">samples = 464</text>\n<text text-anchor=\"start\" x=\"405\" y=\"-245.8\" font-family=\"Helvetica,sans-Serif\" font-size=\"14.00\">value = [154, 310]</text>\n<text text-anchor=\"start\" x=\"426.5\" y=\"-230.8\" font-family=\"Helvetica,sans-Serif\" font-size=\"14.00\">class = 0.0</text>\n</g>\n<!-- 0&#45;&gt;6 -->\n<g id=\"edge6\" class=\"edge\">\n<title>0&#45;&gt;6</title>\n<path fill=\"none\" stroke=\"black\" d=\"M412.48,-341.91C417.9,-333.1 423.68,-323.7 429.28,-314.61\"/>\n<polygon fill=\"black\" stroke=\"black\" points=\"432.3,-316.37 434.56,-306.02 426.34,-312.7 432.3,-316.37\"/>\n<text text-anchor=\"middle\" x=\"440.35\" y=\"-326.64\" font-family=\"Helvetica,sans-Serif\" font-size=\"14.00\">False</text>\n</g>\n<!-- 2 -->\n<g id=\"node3\" class=\"node\">\n<title>2</title>\n<path fill=\"#58ace9\" stroke=\"black\" d=\"M234,-187C234,-187 141,-187 141,-187 135,-187 129,-181 129,-175 129,-175 129,-116 129,-116 129,-110 135,-104 141,-104 141,-104 234,-104 234,-104 240,-104 246,-110 246,-116 246,-116 246,-175 246,-175 246,-181 240,-187 234,-187\"/>\n<text text-anchor=\"start\" x=\"137.5\" y=\"-171.8\" font-family=\"Helvetica,sans-Serif\" font-size=\"14.00\">MEQ_type ≤ 0.5</text>\n<text text-anchor=\"start\" x=\"152\" y=\"-156.8\" font-family=\"Helvetica,sans-Serif\" font-size=\"14.00\">gini = 0.232</text>\n<text text-anchor=\"start\" x=\"142.5\" y=\"-141.8\" font-family=\"Helvetica,sans-Serif\" font-size=\"14.00\">samples = 538</text>\n<text text-anchor=\"start\" x=\"137\" y=\"-126.8\" font-family=\"Helvetica,sans-Serif\" font-size=\"14.00\">value = [72, 466]</text>\n<text text-anchor=\"start\" x=\"154.5\" y=\"-111.8\" font-family=\"Helvetica,sans-Serif\" font-size=\"14.00\">class = 0.0</text>\n</g>\n<!-- 1&#45;&gt;2 -->\n<g id=\"edge2\" class=\"edge\">\n<title>1&#45;&gt;2</title>\n<path fill=\"none\" stroke=\"black\" d=\"M271.74,-222.91C261.44,-213.56 250.39,-203.54 239.79,-193.93\"/>\n<polygon fill=\"black\" stroke=\"black\" points=\"241.94,-191.15 232.18,-187.02 237.23,-196.33 241.94,-191.15\"/>\n</g>\n<!-- 5 -->\n<g id=\"node6\" class=\"node\">\n<title>5</title>\n<path fill=\"#7fc0ee\" stroke=\"black\" d=\"M362.5,-179.5C362.5,-179.5 276.5,-179.5 276.5,-179.5 270.5,-179.5 264.5,-173.5 264.5,-167.5 264.5,-167.5 264.5,-123.5 264.5,-123.5 264.5,-117.5 270.5,-111.5 276.5,-111.5 276.5,-111.5 362.5,-111.5 362.5,-111.5 368.5,-111.5 374.5,-117.5 374.5,-123.5 374.5,-123.5 374.5,-167.5 374.5,-167.5 374.5,-173.5 368.5,-179.5 362.5,-179.5\"/>\n<text text-anchor=\"start\" x=\"284\" y=\"-164.3\" font-family=\"Helvetica,sans-Serif\" font-size=\"14.00\">gini = 0.386</text>\n<text text-anchor=\"start\" x=\"274.5\" y=\"-149.3\" font-family=\"Helvetica,sans-Serif\" font-size=\"14.00\">samples = 115</text>\n<text text-anchor=\"start\" x=\"272.5\" y=\"-134.3\" font-family=\"Helvetica,sans-Serif\" font-size=\"14.00\">value = [30, 85]</text>\n<text text-anchor=\"start\" x=\"286.5\" y=\"-119.3\" font-family=\"Helvetica,sans-Serif\" font-size=\"14.00\">class = 0.0</text>\n</g>\n<!-- 1&#45;&gt;5 -->\n<g id=\"edge5\" class=\"edge\">\n<title>1&#45;&gt;5</title>\n<path fill=\"none\" stroke=\"black\" d=\"M317.54,-222.91C317.82,-212.2 318.11,-200.62 318.39,-189.78\"/>\n<polygon fill=\"black\" stroke=\"black\" points=\"321.89,-189.75 318.65,-179.67 314.89,-189.57 321.89,-189.75\"/>\n</g>\n<!-- 3 -->\n<g id=\"node4\" class=\"node\">\n<title>3</title>\n<path fill=\"#5dafea\" stroke=\"black\" d=\"M105,-68C105,-68 12,-68 12,-68 6,-68 0,-62 0,-56 0,-56 0,-12 0,-12 0,-6 6,0 12,0 12,0 105,0 105,0 111,0 117,-6 117,-12 117,-12 117,-56 117,-56 117,-62 111,-68 105,-68\"/>\n<text text-anchor=\"start\" x=\"26.5\" y=\"-52.8\" font-family=\"Helvetica,sans-Serif\" font-size=\"14.00\">gini = 0.26</text>\n<text text-anchor=\"start\" x=\"13.5\" y=\"-37.8\" font-family=\"Helvetica,sans-Serif\" font-size=\"14.00\">samples = 312</text>\n<text text-anchor=\"start\" x=\"8\" y=\"-22.8\" font-family=\"Helvetica,sans-Serif\" font-size=\"14.00\">value = [48, 264]</text>\n<text text-anchor=\"start\" x=\"25.5\" y=\"-7.8\" font-family=\"Helvetica,sans-Serif\" font-size=\"14.00\">class = 0.0</text>\n</g>\n<!-- 2&#45;&gt;3 -->\n<g id=\"edge3\" class=\"edge\">\n<title>2&#45;&gt;3</title>\n<path fill=\"none\" stroke=\"black\" d=\"M139.47,-103.73C128.4,-94.33 116.64,-84.35 105.61,-74.99\"/>\n<polygon fill=\"black\" stroke=\"black\" points=\"107.62,-72.1 97.73,-68.3 103.09,-77.44 107.62,-72.1\"/>\n</g>\n<!-- 4 -->\n<g id=\"node5\" class=\"node\">\n<title>4</title>\n<path fill=\"#51a9e8\" stroke=\"black\" d=\"M240,-68C240,-68 147,-68 147,-68 141,-68 135,-62 135,-56 135,-56 135,-12 135,-12 135,-6 141,0 147,0 147,0 240,0 240,0 246,0 252,-6 252,-12 252,-12 252,-56 252,-56 252,-62 246,-68 240,-68\"/>\n<text text-anchor=\"start\" x=\"161.5\" y=\"-52.8\" font-family=\"Helvetica,sans-Serif\" font-size=\"14.00\">gini = 0.19</text>\n<text text-anchor=\"start\" x=\"148.5\" y=\"-37.8\" font-family=\"Helvetica,sans-Serif\" font-size=\"14.00\">samples = 226</text>\n<text text-anchor=\"start\" x=\"143\" y=\"-22.8\" font-family=\"Helvetica,sans-Serif\" font-size=\"14.00\">value = [24, 202]</text>\n<text text-anchor=\"start\" x=\"160.5\" y=\"-7.8\" font-family=\"Helvetica,sans-Serif\" font-size=\"14.00\">class = 0.0</text>\n</g>\n<!-- 2&#45;&gt;4 -->\n<g id=\"edge4\" class=\"edge\">\n<title>2&#45;&gt;4</title>\n<path fill=\"none\" stroke=\"black\" d=\"M189.73,-103.73C190.18,-95.52 190.66,-86.86 191.11,-78.56\"/>\n<polygon fill=\"black\" stroke=\"black\" points=\"194.62,-78.48 191.68,-68.3 187.63,-78.09 194.62,-78.48\"/>\n</g>\n<!-- 7 -->\n<g id=\"node8\" class=\"node\">\n<title>7</title>\n<path fill=\"#c9e4f8\" stroke=\"black\" d=\"M503,-187C503,-187 410,-187 410,-187 404,-187 398,-181 398,-175 398,-175 398,-116 398,-116 398,-110 404,-104 410,-104 410,-104 503,-104 503,-104 509,-104 515,-110 515,-116 515,-116 515,-175 515,-175 515,-181 509,-187 503,-187\"/>\n<text text-anchor=\"start\" x=\"423.5\" y=\"-171.8\" font-family=\"Helvetica,sans-Serif\" font-size=\"14.00\">Age ≤ 24.5</text>\n<text text-anchor=\"start\" x=\"421\" y=\"-156.8\" font-family=\"Helvetica,sans-Serif\" font-size=\"14.00\">gini = 0.488</text>\n<text text-anchor=\"start\" x=\"411.5\" y=\"-141.8\" font-family=\"Helvetica,sans-Serif\" font-size=\"14.00\">samples = 230</text>\n<text text-anchor=\"start\" x=\"406\" y=\"-126.8\" font-family=\"Helvetica,sans-Serif\" font-size=\"14.00\">value = [97, 133]</text>\n<text text-anchor=\"start\" x=\"423.5\" y=\"-111.8\" font-family=\"Helvetica,sans-Serif\" font-size=\"14.00\">class = 0.0</text>\n</g>\n<!-- 6&#45;&gt;7 -->\n<g id=\"edge7\" class=\"edge\">\n<title>6&#45;&gt;7</title>\n<path fill=\"none\" stroke=\"black\" d=\"M458.46,-222.91C458.25,-214.56 458.02,-205.67 457.8,-197.02\"/>\n<polygon fill=\"black\" stroke=\"black\" points=\"461.29,-196.93 457.54,-187.02 454.3,-197.11 461.29,-196.93\"/>\n</g>\n<!-- 10 -->\n<g id=\"node11\" class=\"node\">\n<title>10</title>\n<path fill=\"#79bded\" stroke=\"black\" d=\"M638,-187C638,-187 545,-187 545,-187 539,-187 533,-181 533,-175 533,-175 533,-116 533,-116 533,-110 539,-104 545,-104 545,-104 638,-104 638,-104 644,-104 650,-110 650,-116 650,-116 650,-175 650,-175 650,-181 644,-187 638,-187\"/>\n<text text-anchor=\"start\" x=\"550.5\" y=\"-171.8\" font-family=\"Helvetica,sans-Serif\" font-size=\"14.00\">PSQI ≤ 0.571</text>\n<text text-anchor=\"start\" x=\"556\" y=\"-156.8\" font-family=\"Helvetica,sans-Serif\" font-size=\"14.00\">gini = 0.369</text>\n<text text-anchor=\"start\" x=\"546.5\" y=\"-141.8\" font-family=\"Helvetica,sans-Serif\" font-size=\"14.00\">samples = 234</text>\n<text text-anchor=\"start\" x=\"541\" y=\"-126.8\" font-family=\"Helvetica,sans-Serif\" font-size=\"14.00\">value = [57, 177]</text>\n<text text-anchor=\"start\" x=\"558.5\" y=\"-111.8\" font-family=\"Helvetica,sans-Serif\" font-size=\"14.00\">class = 0.0</text>\n</g>\n<!-- 6&#45;&gt;10 -->\n<g id=\"edge10\" class=\"edge\">\n<title>6&#45;&gt;10</title>\n<path fill=\"none\" stroke=\"black\" d=\"M505.3,-222.91C515.84,-213.56 527.15,-203.54 537.99,-193.93\"/>\n<polygon fill=\"black\" stroke=\"black\" points=\"540.62,-196.27 545.78,-187.02 535.98,-191.03 540.62,-196.27\"/>\n</g>\n<!-- 8 -->\n<g id=\"node9\" class=\"node\">\n<title>8</title>\n<path fill=\"#b6dbf5\" stroke=\"black\" d=\"M373.5,-68C373.5,-68 287.5,-68 287.5,-68 281.5,-68 275.5,-62 275.5,-56 275.5,-56 275.5,-12 275.5,-12 275.5,-6 281.5,0 287.5,0 287.5,0 373.5,0 373.5,0 379.5,0 385.5,-6 385.5,-12 385.5,-12 385.5,-56 385.5,-56 385.5,-62 379.5,-68 373.5,-68\"/>\n<text text-anchor=\"start\" x=\"295\" y=\"-52.8\" font-family=\"Helvetica,sans-Serif\" font-size=\"14.00\">gini = 0.475</text>\n<text text-anchor=\"start\" x=\"285.5\" y=\"-37.8\" font-family=\"Helvetica,sans-Serif\" font-size=\"14.00\">samples = 116</text>\n<text text-anchor=\"start\" x=\"283.5\" y=\"-22.8\" font-family=\"Helvetica,sans-Serif\" font-size=\"14.00\">value = [45, 71]</text>\n<text text-anchor=\"start\" x=\"297.5\" y=\"-7.8\" font-family=\"Helvetica,sans-Serif\" font-size=\"14.00\">class = 0.0</text>\n</g>\n<!-- 7&#45;&gt;8 -->\n<g id=\"edge8\" class=\"edge\">\n<title>7&#45;&gt;8</title>\n<path fill=\"none\" stroke=\"black\" d=\"M409.58,-103.73C398.77,-94.33 387.29,-84.35 376.51,-74.99\"/>\n<polygon fill=\"black\" stroke=\"black\" points=\"378.66,-72.22 368.82,-68.3 374.07,-77.5 378.66,-72.22\"/>\n</g>\n<!-- 9 -->\n<g id=\"node10\" class=\"node\">\n<title>9</title>\n<path fill=\"#dfeffb\" stroke=\"black\" d=\"M501.5,-68C501.5,-68 415.5,-68 415.5,-68 409.5,-68 403.5,-62 403.5,-56 403.5,-56 403.5,-12 403.5,-12 403.5,-6 409.5,0 415.5,0 415.5,0 501.5,0 501.5,0 507.5,0 513.5,-6 513.5,-12 513.5,-12 513.5,-56 513.5,-56 513.5,-62 507.5,-68 501.5,-68\"/>\n<text text-anchor=\"start\" x=\"423\" y=\"-52.8\" font-family=\"Helvetica,sans-Serif\" font-size=\"14.00\">gini = 0.496</text>\n<text text-anchor=\"start\" x=\"413.5\" y=\"-37.8\" font-family=\"Helvetica,sans-Serif\" font-size=\"14.00\">samples = 114</text>\n<text text-anchor=\"start\" x=\"411.5\" y=\"-22.8\" font-family=\"Helvetica,sans-Serif\" font-size=\"14.00\">value = [52, 62]</text>\n<text text-anchor=\"start\" x=\"425.5\" y=\"-7.8\" font-family=\"Helvetica,sans-Serif\" font-size=\"14.00\">class = 0.0</text>\n</g>\n<!-- 7&#45;&gt;9 -->\n<g id=\"edge9\" class=\"edge\">\n<title>7&#45;&gt;9</title>\n<path fill=\"none\" stroke=\"black\" d=\"M457.24,-103.73C457.39,-95.52 457.55,-86.86 457.7,-78.56\"/>\n<polygon fill=\"black\" stroke=\"black\" points=\"461.21,-78.36 457.89,-68.3 454.21,-78.23 461.21,-78.36\"/>\n</g>\n<!-- 11 -->\n<g id=\"node12\" class=\"node\">\n<title>11</title>\n<path fill=\"#7cbeee\" stroke=\"black\" d=\"M632.5,-68C632.5,-68 546.5,-68 546.5,-68 540.5,-68 534.5,-62 534.5,-56 534.5,-56 534.5,-12 534.5,-12 534.5,-6 540.5,0 546.5,0 546.5,0 632.5,0 632.5,0 638.5,0 644.5,-6 644.5,-12 644.5,-12 644.5,-56 644.5,-56 644.5,-62 638.5,-68 632.5,-68\"/>\n<text text-anchor=\"start\" x=\"554\" y=\"-52.8\" font-family=\"Helvetica,sans-Serif\" font-size=\"14.00\">gini = 0.379</text>\n<text text-anchor=\"start\" x=\"544.5\" y=\"-37.8\" font-family=\"Helvetica,sans-Serif\" font-size=\"14.00\">samples = 118</text>\n<text text-anchor=\"start\" x=\"542.5\" y=\"-22.8\" font-family=\"Helvetica,sans-Serif\" font-size=\"14.00\">value = [30, 88]</text>\n<text text-anchor=\"start\" x=\"556.5\" y=\"-7.8\" font-family=\"Helvetica,sans-Serif\" font-size=\"14.00\">class = 0.0</text>\n</g>\n<!-- 10&#45;&gt;11 -->\n<g id=\"edge11\" class=\"edge\">\n<title>10&#45;&gt;11</title>\n<path fill=\"none\" stroke=\"black\" d=\"M590.76,-103.73C590.61,-95.52 590.45,-86.86 590.3,-78.56\"/>\n<polygon fill=\"black\" stroke=\"black\" points=\"593.79,-78.23 590.11,-68.3 586.79,-78.36 593.79,-78.23\"/>\n</g>\n<!-- 12 -->\n<g id=\"node13\" class=\"node\">\n<title>12</title>\n<path fill=\"#75bbed\" stroke=\"black\" d=\"M760.5,-68C760.5,-68 674.5,-68 674.5,-68 668.5,-68 662.5,-62 662.5,-56 662.5,-56 662.5,-12 662.5,-12 662.5,-6 668.5,0 674.5,0 674.5,0 760.5,0 760.5,0 766.5,0 772.5,-6 772.5,-12 772.5,-12 772.5,-56 772.5,-56 772.5,-62 766.5,-68 760.5,-68\"/>\n<text text-anchor=\"start\" x=\"682\" y=\"-52.8\" font-family=\"Helvetica,sans-Serif\" font-size=\"14.00\">gini = 0.357</text>\n<text text-anchor=\"start\" x=\"672.5\" y=\"-37.8\" font-family=\"Helvetica,sans-Serif\" font-size=\"14.00\">samples = 116</text>\n<text text-anchor=\"start\" x=\"670.5\" y=\"-22.8\" font-family=\"Helvetica,sans-Serif\" font-size=\"14.00\">value = [27, 89]</text>\n<text text-anchor=\"start\" x=\"684.5\" y=\"-7.8\" font-family=\"Helvetica,sans-Serif\" font-size=\"14.00\">class = 0.0</text>\n</g>\n<!-- 10&#45;&gt;12 -->\n<g id=\"edge12\" class=\"edge\">\n<title>10&#45;&gt;12</title>\n<path fill=\"none\" stroke=\"black\" d=\"M638.42,-103.73C649.23,-94.33 660.71,-84.35 671.49,-74.99\"/>\n<polygon fill=\"black\" stroke=\"black\" points=\"673.93,-77.5 679.18,-68.3 669.34,-72.22 673.93,-77.5\"/>\n</g>\n</g>\n</svg>\n"
     },
     "execution_count": 7,
     "metadata": {},
     "output_type": "execute_result"
    }
   ],
   "source": [
    "import graphviz\n",
    "\n",
    "dot_data =  tree.export_graphviz(dt, out_file=None,\n",
    "                                   feature_names=data_2.drop('results', axis=1).columns,\n",
    "                                   class_names=data_2['results'].unique().astype(str),\n",
    "                                   filled=True, rounded=True,\n",
    "                                   special_characters=True)\n",
    "graph = graphviz.Source(dot_data)\n",
    "graph"
   ],
   "metadata": {
    "collapsed": false,
    "pycharm": {
     "name": "#%%\n"
    }
   }
  },
  {
   "cell_type": "code",
   "execution_count": 8,
   "outputs": [
    {
     "name": "stdout",
     "output_type": "stream",
     "text": [
      "Importance of feature Age:, 0.127\n",
      "Importance of feature Gender:, 0.260\n",
      "Importance of feature PSQI:, 0.002\n",
      "Importance of feature MEQ_type:, 0.612\n"
     ]
    },
    {
     "data": {
      "text/plain": "   index  Variable  Feature Importance Score\n0      3  MEQ_type                  0.611668\n1      1    Gender                  0.259686\n2      0       Age                  0.126742\n3      2      PSQI                  0.001904",
      "text/html": "<div>\n<style scoped>\n    .dataframe tbody tr th:only-of-type {\n        vertical-align: middle;\n    }\n\n    .dataframe tbody tr th {\n        vertical-align: top;\n    }\n\n    .dataframe thead th {\n        text-align: right;\n    }\n</style>\n<table border=\"1\" class=\"dataframe\">\n  <thead>\n    <tr style=\"text-align: right;\">\n      <th></th>\n      <th>index</th>\n      <th>Variable</th>\n      <th>Feature Importance Score</th>\n    </tr>\n  </thead>\n  <tbody>\n    <tr>\n      <th>0</th>\n      <td>3</td>\n      <td>MEQ_type</td>\n      <td>0.611668</td>\n    </tr>\n    <tr>\n      <th>1</th>\n      <td>1</td>\n      <td>Gender</td>\n      <td>0.259686</td>\n    </tr>\n    <tr>\n      <th>2</th>\n      <td>0</td>\n      <td>Age</td>\n      <td>0.126742</td>\n    </tr>\n    <tr>\n      <th>3</th>\n      <td>2</td>\n      <td>PSQI</td>\n      <td>0.001904</td>\n    </tr>\n  </tbody>\n</table>\n</div>"
     },
     "execution_count": 8,
     "metadata": {},
     "output_type": "execute_result"
    }
   ],
   "source": [
    "final = ''\n",
    "fi = ''\n",
    "for i, column in enumerate(data_2.drop('results', axis=1)):\n",
    "    print('Importance of feature {}:, {:.3f}'.format(column, dt.feature_importances_[i]))\n",
    "\n",
    "    fi = pd.DataFrame({'Variable': [column], 'Feature Importance Score': [dt.feature_importances_[i]]})\n",
    "\n",
    "    try:\n",
    "        final = pd.concat([final, fi], ignore_index=True)\n",
    "    except:\n",
    "        final = fi\n",
    "\n",
    "# Ordering the data\n",
    "final_fi = final.sort_values('Feature Importance Score', ascending=False).reset_index()\n",
    "final_fi"
   ],
   "metadata": {
    "collapsed": false,
    "pycharm": {
     "name": "#%%\n"
    }
   }
  },
  {
   "cell_type": "code",
   "execution_count": 9,
   "outputs": [
    {
     "name": "stdout",
     "output_type": "stream",
     "text": [
      "Training Accuracy is:  0.7708146821844225\n",
      "Testing Accuracy is:  0.7571428571428571\n"
     ]
    }
   ],
   "source": [
    "# Accuracy on Train\n",
    "print(\"Training Accuracy is: \", dt.score(X_train, Y_train))\n",
    "\n",
    "# Accuracy on Train\n",
    "print(\"Testing Accuracy is: \", dt.score(X_test, Y_test))"
   ],
   "metadata": {
    "collapsed": false,
    "pycharm": {
     "name": "#%%\n"
    }
   }
  },
  {
   "cell_type": "code",
   "execution_count": 10,
   "outputs": [
    {
     "name": "stdout",
     "output_type": "stream",
     "text": [
      "Training Accuracy is:  0.7708146821844225\n",
      "Testing Accuracy is:  0.7571428571428571\n"
     ]
    }
   ],
   "source": [
    "# Building a forest\n",
    "random_forest = RandomForestClassifier(n_estimators=100)\n",
    "random_forest.fit(X_train, Y_train)\n",
    "# prediction_test = random_forest.predict(X=X_test)\n",
    "\n",
    "# Accuracy on Test\n",
    "print(\"Training Accuracy is: \", random_forest.score(X_train, Y_train))\n",
    "# Accuracy on Train\n",
    "print(\"Testing Accuracy is: \", random_forest.score(X_test, Y_test))"
   ],
   "metadata": {
    "collapsed": false,
    "pycharm": {
     "name": "#%%\n"
    }
   }
  },
  {
   "cell_type": "code",
   "execution_count": 12,
   "outputs": [
    {
     "name": "stdout",
     "output_type": "stream",
     "text": [
      "Importance of feature Age:, 0.355\n",
      "Importance of feature Gender:, 0.085\n",
      "Importance of feature PSQI:, 0.155\n",
      "Importance of feature MEQ_type:, 0.405\n"
     ]
    },
    {
     "data": {
      "text/plain": "   index  Variable  Feature Importance Score\n0      3  MEQ_type                  0.404971\n1      0       Age                  0.355427\n2      2      PSQI                  0.155021\n3      1    Gender                  0.084581",
      "text/html": "<div>\n<style scoped>\n    .dataframe tbody tr th:only-of-type {\n        vertical-align: middle;\n    }\n\n    .dataframe tbody tr th {\n        vertical-align: top;\n    }\n\n    .dataframe thead th {\n        text-align: right;\n    }\n</style>\n<table border=\"1\" class=\"dataframe\">\n  <thead>\n    <tr style=\"text-align: right;\">\n      <th></th>\n      <th>index</th>\n      <th>Variable</th>\n      <th>Feature Importance Score</th>\n    </tr>\n  </thead>\n  <tbody>\n    <tr>\n      <th>0</th>\n      <td>3</td>\n      <td>MEQ_type</td>\n      <td>0.404971</td>\n    </tr>\n    <tr>\n      <th>1</th>\n      <td>0</td>\n      <td>Age</td>\n      <td>0.355427</td>\n    </tr>\n    <tr>\n      <th>2</th>\n      <td>2</td>\n      <td>PSQI</td>\n      <td>0.155021</td>\n    </tr>\n    <tr>\n      <th>3</th>\n      <td>1</td>\n      <td>Gender</td>\n      <td>0.084581</td>\n    </tr>\n  </tbody>\n</table>\n</div>"
     },
     "execution_count": 12,
     "metadata": {},
     "output_type": "execute_result"
    }
   ],
   "source": [
    "fi2 = ''\n",
    "final2 = ''\n",
    "for i, column in enumerate(data_2.drop('results', axis=1)):\n",
    "    print('Importance of feature {}:, {:.3f}'.format(column, random_forest.feature_importances_[i]))\n",
    "    fi2 = pd.DataFrame({'Variable': [column], 'Feature Importance Score': [random_forest.feature_importances_[i]]})\n",
    "\n",
    "    try:\n",
    "        final2 = pd.concat([final2, fi2], ignore_index=True)\n",
    "    except:\n",
    "        final2 = fi2\n",
    "\n",
    "# Ordering the data\n",
    "final_fi2 = final2.sort_values('Feature Importance Score', ascending=False).reset_index()\n",
    "final_fi2\n"
   ],
   "metadata": {
    "collapsed": false,
    "pycharm": {
     "name": "#%%\n"
    }
   }
  }
 ],
 "metadata": {
  "kernelspec": {
   "display_name": "Python 3",
   "language": "python",
   "name": "python3"
  },
  "language_info": {
   "codemirror_mode": {
    "name": "ipython",
    "version": 2
   },
   "file_extension": ".py",
   "mimetype": "text/x-python",
   "name": "python",
   "nbconvert_exporter": "python",
   "pygments_lexer": "ipython2",
   "version": "2.7.6"
  }
 },
 "nbformat": 4,
 "nbformat_minor": 0
}