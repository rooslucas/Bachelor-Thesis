{
 "cells": [
  {
   "cell_type": "markdown",
   "metadata": {
    "collapsed": true,
    "pycharm": {
     "name": "#%% md\n"
    }
   },
   "source": [
    "# Predicting vigilance using machine learning\n",
    "## Random Forest Model 2\n",
    "Rosalie Lucas (6540384)\n",
    "\n",
    "This is the second model in my thesis Predicting vigilance using machine learning.\n",
    "In this model subjective measures and demographic data will be used.\n",
    "These are consistent within one participant and therefor could be over represented."
   ]
  },
  {
   "cell_type": "code",
   "execution_count": 163,
   "metadata": {
    "pycharm": {
     "name": "#%%\n"
    }
   },
   "outputs": [],
   "source": [
    "# Import Libraries needed\n",
    "import pandas as pd\n",
    "import os\n",
    "import numpy as np\n",
    "from matplotlib import pyplot as plt\n",
    "import seaborn as sns\n",
    "%matplotlib inline\n",
    "\n",
    "import warnings\n",
    "warnings.filterwarnings('ignore')\n",
    "\n",
    "\n",
    "from sklearn.model_selection import train_test_split\n",
    "from sklearn import tree\n",
    "from sklearn.tree import DecisionTreeClassifier, export_graphviz\n",
    "from sklearn.ensemble import RandomForestClassifier\n",
    "from sklearn.preprocessing import LabelEncoder\n",
    "\n",
    "# Installed Graphviz using Pip3"
   ]
  },
  {
   "cell_type": "code",
   "execution_count": 164,
   "metadata": {
    "pycharm": {
     "name": "#%%\n"
    }
   },
   "outputs": [],
   "source": [
    "data_file_path = '/Users/roos/Data/all_trials_noNaN.csv'\n",
    "data_file = pd.read_csv(data_file_path)\n",
    "data_2 = data_file[[ 'Age', 'Gender', 'PSQI', 'MEQ_type', 'results']]\n"
   ]
  },
  {
   "cell_type": "code",
   "execution_count": 165,
   "metadata": {
    "pycharm": {
     "name": "#%%\n"
    }
   },
   "outputs": [
    {
     "name": "stdout",
     "output_type": "stream",
     "text": [
      "gender classes: ['female' 'male']\n",
      "Gender integer classes [0 1]\n",
      "MEQ classes: ['evening' 'intermediate' 'morning']\n",
      "MEQ> integer classes [0 1 2]\n"
     ]
    }
   ],
   "source": [
    "# Encode categorical variables\n",
    "# Gender\n",
    "encoder = LabelEncoder()\n",
    "label_encoder_gender = encoder.fit(data_2['Gender'])\n",
    "print(\"gender classes:\", label_encoder_gender.classes_)\n",
    "integer_classes_gender = label_encoder_gender.transform(label_encoder_gender.classes_)\n",
    "print(\"Gender integer classes\", integer_classes_gender)\n",
    "code = label_encoder_gender.transform(data_2['Gender'])\n",
    "data_2['Gender'] = code\n",
    "\n",
    "# MEQ_type\n",
    "label_encoder_MEQ = encoder.fit(data_2['MEQ_type'])\n",
    "print(\"MEQ classes:\", label_encoder_MEQ.classes_)\n",
    "integer_classes_MEQ = label_encoder_MEQ.transform(label_encoder_MEQ.classes_)\n",
    "print(\"MEQ> integer classes\", integer_classes_MEQ)\n",
    "code_MEQ = label_encoder_MEQ.transform(data_2['MEQ_type'])\n",
    "data_2['MEQ_type'] = code_MEQ\n"
   ]
  },
  {
   "cell_type": "code",
   "execution_count": 166,
   "metadata": {
    "pycharm": {
     "name": "#%%\n"
    }
   },
   "outputs": [],
   "source": [
    "# plot = sns.pairplot(data_2, hue='results', palette=\"Set1\")"
   ]
  },
  {
   "cell_type": "code",
   "execution_count": 167,
   "metadata": {
    "pycharm": {
     "name": "#%%\n"
    }
   },
   "outputs": [
    {
     "name": "stdout",
     "output_type": "stream",
     "text": [
      "The number of values for feature Age : 7 -- [19 21 22 23 26 50 59]\n",
      "The number of values for feature Gender : 2 -- [0 1]\n",
      "The number of values for feature PSQI : 5 -- [0.28571429 0.42857143 0.57142857 0.71428571 1.2       ]\n",
      "The number of values for feature MEQ_type : 3 -- [0 1 2]\n",
      "The number of values for feature results : 2 -- [0. 1.]\n",
      "Age         0\n",
      "Gender      0\n",
      "PSQI        0\n",
      "MEQ_type    0\n",
      "results     0\n",
      "dtype: int64\n"
     ]
    }
   ],
   "source": [
    "for column in data_2:  # Describe the amount of different features in each column (column is a feature)\n",
    "    unique_values = np.unique(data_2[column])\n",
    "    number_values = len(unique_values)\n",
    "    if number_values < 12:\n",
    "        print(\"The number of values for feature {} : {} -- {}\".format(column, number_values, unique_values))\n",
    "    else:\n",
    "        print(\"The number of values for feature {} : {}\".format(column, number_values))\n",
    "\n",
    "print(data_2.isnull().sum())"
   ]
  },
  {
   "cell_type": "code",
   "execution_count": 168,
   "metadata": {
    "pycharm": {
     "name": "#%%\n"
    }
   },
   "outputs": [
    {
     "name": "stdout",
     "output_type": "stream",
     "text": [
      "X shape: (1719, 4)\n",
      "Y shape: (1719,)\n"
     ]
    }
   ],
   "source": [
    "# Splitting the data\n",
    "X = data_2.drop('results', axis=1).values\n",
    "Y = data_2['results'].values\n",
    "print('X shape: {}'.format(np.shape(X)))\n",
    "print('Y shape: {}'.format(np.shape(Y)))\n",
    "\n",
    "X_train, X_test, Y_train, Y_test = train_test_split(X, Y, train_size=0.8, test_size=0.2, random_state=0)"
   ]
  },
  {
   "cell_type": "code",
   "execution_count": 169,
   "metadata": {
    "pycharm": {
     "name": "#%%\n"
    }
   },
   "outputs": [
    {
     "name": "stdout",
     "output_type": "stream",
     "text": [
      "0.8023255813953488\n",
      "0.7709090909090909\n"
     ]
    }
   ],
   "source": [
    "dt = DecisionTreeClassifier(max_depth=3, random_state=0)\n",
    "dt.fit(X_train, Y_train)\n",
    "print(Y_test.sum()/len(Y_test))\n",
    "print(Y_train.sum()/(len(Y_train)))"
   ]
  },
  {
   "cell_type": "code",
   "execution_count": 170,
   "metadata": {
    "pycharm": {
     "name": "#%%\n"
    }
   },
   "outputs": [
    {
     "data": {
      "text/plain": "<graphviz.files.Source at 0x7fa44dbd59a0>",
      "image/svg+xml": "<?xml version=\"1.0\" encoding=\"UTF-8\" standalone=\"no\"?>\n<!DOCTYPE svg PUBLIC \"-//W3C//DTD SVG 1.1//EN\"\n \"http://www.w3.org/Graphics/SVG/1.1/DTD/svg11.dtd\">\n<!-- Generated by graphviz version 2.47.1 (20210417.1919)\n -->\n<!-- Title: Tree Pages: 1 -->\n<svg width=\"1037pt\" height=\"433pt\"\n viewBox=\"0.00 0.00 1036.50 433.00\" xmlns=\"http://www.w3.org/2000/svg\" xmlns:xlink=\"http://www.w3.org/1999/xlink\">\n<g id=\"graph0\" class=\"graph\" transform=\"scale(1 1) rotate(0) translate(4 429)\">\n<title>Tree</title>\n<polygon fill=\"white\" stroke=\"transparent\" points=\"-4,4 -4,-429 1032.5,-429 1032.5,4 -4,4\"/>\n<!-- 0 -->\n<g id=\"node1\" class=\"node\">\n<title>0</title>\n<path fill=\"#74baed\" stroke=\"black\" d=\"M571.5,-425C571.5,-425 463.5,-425 463.5,-425 457.5,-425 451.5,-419 451.5,-413 451.5,-413 451.5,-354 451.5,-354 451.5,-348 457.5,-342 463.5,-342 463.5,-342 571.5,-342 571.5,-342 577.5,-342 583.5,-348 583.5,-354 583.5,-354 583.5,-413 583.5,-413 583.5,-419 577.5,-425 571.5,-425\"/>\n<text text-anchor=\"start\" x=\"467.5\" y=\"-409.8\" font-family=\"Helvetica,sans-Serif\" font-size=\"14.00\">MEQ_type ≤ 1.5</text>\n<text text-anchor=\"start\" x=\"482\" y=\"-394.8\" font-family=\"Helvetica,sans-Serif\" font-size=\"14.00\">gini = 0.353</text>\n<text text-anchor=\"start\" x=\"469\" y=\"-379.8\" font-family=\"Helvetica,sans-Serif\" font-size=\"14.00\">samples = 1375</text>\n<text text-anchor=\"start\" x=\"459.5\" y=\"-364.8\" font-family=\"Helvetica,sans-Serif\" font-size=\"14.00\">value = [315, 1060]</text>\n<text text-anchor=\"start\" x=\"484.5\" y=\"-349.8\" font-family=\"Helvetica,sans-Serif\" font-size=\"14.00\">class = 1.0</text>\n</g>\n<!-- 1 -->\n<g id=\"node2\" class=\"node\">\n<title>1</title>\n<path fill=\"#61b1ea\" stroke=\"black\" d=\"M438,-306C438,-306 337,-306 337,-306 331,-306 325,-300 325,-294 325,-294 325,-235 325,-235 325,-229 331,-223 337,-223 337,-223 438,-223 438,-223 444,-223 450,-229 450,-235 450,-235 450,-294 450,-294 450,-300 444,-306 438,-306\"/>\n<text text-anchor=\"start\" x=\"354.5\" y=\"-290.8\" font-family=\"Helvetica,sans-Serif\" font-size=\"14.00\">Age ≤ 22.5</text>\n<text text-anchor=\"start\" x=\"355.5\" y=\"-275.8\" font-family=\"Helvetica,sans-Serif\" font-size=\"14.00\">gini = 0.28</text>\n<text text-anchor=\"start\" x=\"342.5\" y=\"-260.8\" font-family=\"Helvetica,sans-Serif\" font-size=\"14.00\">samples = 915</text>\n<text text-anchor=\"start\" x=\"333\" y=\"-245.8\" font-family=\"Helvetica,sans-Serif\" font-size=\"14.00\">value = [154, 761]</text>\n<text text-anchor=\"start\" x=\"354.5\" y=\"-230.8\" font-family=\"Helvetica,sans-Serif\" font-size=\"14.00\">class = 1.0</text>\n</g>\n<!-- 0&#45;&gt;1 -->\n<g id=\"edge1\" class=\"edge\">\n<title>0&#45;&gt;1</title>\n<path fill=\"none\" stroke=\"black\" d=\"M472.4,-341.91C462.01,-332.56 450.88,-322.54 440.2,-312.93\"/>\n<polygon fill=\"black\" stroke=\"black\" points=\"442.3,-310.11 432.52,-306.02 437.61,-315.31 442.3,-310.11\"/>\n<text text-anchor=\"middle\" x=\"433.84\" y=\"-327.29\" font-family=\"Helvetica,sans-Serif\" font-size=\"14.00\">True</text>\n</g>\n<!-- 8 -->\n<g id=\"node9\" class=\"node\">\n<title>8</title>\n<path fill=\"#a4d2f3\" stroke=\"black\" d=\"M700,-306C700,-306 599,-306 599,-306 593,-306 587,-300 587,-294 587,-294 587,-235 587,-235 587,-229 593,-223 599,-223 599,-223 700,-223 700,-223 706,-223 712,-229 712,-235 712,-235 712,-294 712,-294 712,-300 706,-306 700,-306\"/>\n<text text-anchor=\"start\" x=\"609.5\" y=\"-290.8\" font-family=\"Helvetica,sans-Serif\" font-size=\"14.00\">Gender ≤ 0.5</text>\n<text text-anchor=\"start\" x=\"614\" y=\"-275.8\" font-family=\"Helvetica,sans-Serif\" font-size=\"14.00\">gini = 0.455</text>\n<text text-anchor=\"start\" x=\"604.5\" y=\"-260.8\" font-family=\"Helvetica,sans-Serif\" font-size=\"14.00\">samples = 460</text>\n<text text-anchor=\"start\" x=\"595\" y=\"-245.8\" font-family=\"Helvetica,sans-Serif\" font-size=\"14.00\">value = [161, 299]</text>\n<text text-anchor=\"start\" x=\"616.5\" y=\"-230.8\" font-family=\"Helvetica,sans-Serif\" font-size=\"14.00\">class = 1.0</text>\n</g>\n<!-- 0&#45;&gt;8 -->\n<g id=\"edge8\" class=\"edge\">\n<title>0&#45;&gt;8</title>\n<path fill=\"none\" stroke=\"black\" d=\"M563.3,-341.91C573.84,-332.56 585.15,-322.54 595.99,-312.93\"/>\n<polygon fill=\"black\" stroke=\"black\" points=\"598.62,-315.27 603.78,-306.02 593.98,-310.03 598.62,-315.27\"/>\n<text text-anchor=\"middle\" x=\"602.28\" y=\"-327.28\" font-family=\"Helvetica,sans-Serif\" font-size=\"14.00\">False</text>\n</g>\n<!-- 2 -->\n<g id=\"node3\" class=\"node\">\n<title>2</title>\n<path fill=\"#58ace9\" stroke=\"black\" d=\"M240,-187C240,-187 147,-187 147,-187 141,-187 135,-181 135,-175 135,-175 135,-116 135,-116 135,-110 141,-104 147,-104 147,-104 240,-104 240,-104 246,-104 252,-110 252,-116 252,-116 252,-175 252,-175 252,-181 246,-187 240,-187\"/>\n<text text-anchor=\"start\" x=\"143.5\" y=\"-171.8\" font-family=\"Helvetica,sans-Serif\" font-size=\"14.00\">MEQ_type ≤ 0.5</text>\n<text text-anchor=\"start\" x=\"158\" y=\"-156.8\" font-family=\"Helvetica,sans-Serif\" font-size=\"14.00\">gini = 0.233</text>\n<text text-anchor=\"start\" x=\"148.5\" y=\"-141.8\" font-family=\"Helvetica,sans-Serif\" font-size=\"14.00\">samples = 446</text>\n<text text-anchor=\"start\" x=\"143\" y=\"-126.8\" font-family=\"Helvetica,sans-Serif\" font-size=\"14.00\">value = [60, 386]</text>\n<text text-anchor=\"start\" x=\"160.5\" y=\"-111.8\" font-family=\"Helvetica,sans-Serif\" font-size=\"14.00\">class = 1.0</text>\n</g>\n<!-- 1&#45;&gt;2 -->\n<g id=\"edge2\" class=\"edge\">\n<title>1&#45;&gt;2</title>\n<path fill=\"none\" stroke=\"black\" d=\"M324.78,-225.68C304.34,-213.35 281.57,-199.62 260.81,-187.1\"/>\n<polygon fill=\"black\" stroke=\"black\" points=\"262.42,-183.98 252.05,-181.81 258.81,-189.97 262.42,-183.98\"/>\n</g>\n<!-- 5 -->\n<g id=\"node6\" class=\"node\">\n<title>5</title>\n<path fill=\"#6bb6ec\" stroke=\"black\" d=\"M434,-187C434,-187 341,-187 341,-187 335,-187 329,-181 329,-175 329,-175 329,-116 329,-116 329,-110 335,-104 341,-104 341,-104 434,-104 434,-104 440,-104 446,-110 446,-116 446,-116 446,-175 446,-175 446,-181 440,-187 434,-187\"/>\n<text text-anchor=\"start\" x=\"354\" y=\"-171.8\" font-family=\"Helvetica,sans-Serif\" font-size=\"14.00\">PSQI ≤ 0.5</text>\n<text text-anchor=\"start\" x=\"352\" y=\"-156.8\" font-family=\"Helvetica,sans-Serif\" font-size=\"14.00\">gini = 0.321</text>\n<text text-anchor=\"start\" x=\"342.5\" y=\"-141.8\" font-family=\"Helvetica,sans-Serif\" font-size=\"14.00\">samples = 469</text>\n<text text-anchor=\"start\" x=\"337\" y=\"-126.8\" font-family=\"Helvetica,sans-Serif\" font-size=\"14.00\">value = [94, 375]</text>\n<text text-anchor=\"start\" x=\"354.5\" y=\"-111.8\" font-family=\"Helvetica,sans-Serif\" font-size=\"14.00\">class = 1.0</text>\n</g>\n<!-- 1&#45;&gt;5 -->\n<g id=\"edge5\" class=\"edge\">\n<title>1&#45;&gt;5</title>\n<path fill=\"none\" stroke=\"black\" d=\"M387.5,-222.91C387.5,-214.65 387.5,-205.86 387.5,-197.3\"/>\n<polygon fill=\"black\" stroke=\"black\" points=\"391,-197.02 387.5,-187.02 384,-197.02 391,-197.02\"/>\n</g>\n<!-- 3 -->\n<g id=\"node4\" class=\"node\">\n<title>3</title>\n<path fill=\"#5dafea\" stroke=\"black\" d=\"M105,-68C105,-68 12,-68 12,-68 6,-68 0,-62 0,-56 0,-56 0,-12 0,-12 0,-6 6,0 12,0 12,0 105,0 105,0 111,0 117,-6 117,-12 117,-12 117,-56 117,-56 117,-62 111,-68 105,-68\"/>\n<text text-anchor=\"start\" x=\"23\" y=\"-52.8\" font-family=\"Helvetica,sans-Serif\" font-size=\"14.00\">gini = 0.259</text>\n<text text-anchor=\"start\" x=\"13.5\" y=\"-37.8\" font-family=\"Helvetica,sans-Serif\" font-size=\"14.00\">samples = 229</text>\n<text text-anchor=\"start\" x=\"8\" y=\"-22.8\" font-family=\"Helvetica,sans-Serif\" font-size=\"14.00\">value = [35, 194]</text>\n<text text-anchor=\"start\" x=\"25.5\" y=\"-7.8\" font-family=\"Helvetica,sans-Serif\" font-size=\"14.00\">class = 1.0</text>\n</g>\n<!-- 2&#45;&gt;3 -->\n<g id=\"edge3\" class=\"edge\">\n<title>2&#45;&gt;3</title>\n<path fill=\"none\" stroke=\"black\" d=\"M143.23,-103.73C131.54,-94.24 119.1,-84.16 107.46,-74.72\"/>\n<polygon fill=\"black\" stroke=\"black\" points=\"109.53,-71.88 99.55,-68.3 105.12,-77.32 109.53,-71.88\"/>\n</g>\n<!-- 4 -->\n<g id=\"node5\" class=\"node\">\n<title>4</title>\n<path fill=\"#53aae8\" stroke=\"black\" d=\"M240,-68C240,-68 147,-68 147,-68 141,-68 135,-62 135,-56 135,-56 135,-12 135,-12 135,-6 141,0 147,0 147,0 240,0 240,0 246,0 252,-6 252,-12 252,-12 252,-56 252,-56 252,-62 246,-68 240,-68\"/>\n<text text-anchor=\"start\" x=\"158\" y=\"-52.8\" font-family=\"Helvetica,sans-Serif\" font-size=\"14.00\">gini = 0.204</text>\n<text text-anchor=\"start\" x=\"148.5\" y=\"-37.8\" font-family=\"Helvetica,sans-Serif\" font-size=\"14.00\">samples = 217</text>\n<text text-anchor=\"start\" x=\"143\" y=\"-22.8\" font-family=\"Helvetica,sans-Serif\" font-size=\"14.00\">value = [25, 192]</text>\n<text text-anchor=\"start\" x=\"160.5\" y=\"-7.8\" font-family=\"Helvetica,sans-Serif\" font-size=\"14.00\">class = 1.0</text>\n</g>\n<!-- 2&#45;&gt;4 -->\n<g id=\"edge4\" class=\"edge\">\n<title>2&#45;&gt;4</title>\n<path fill=\"none\" stroke=\"black\" d=\"M193.5,-103.73C193.5,-95.52 193.5,-86.86 193.5,-78.56\"/>\n<polygon fill=\"black\" stroke=\"black\" points=\"197,-78.3 193.5,-68.3 190,-78.3 197,-78.3\"/>\n</g>\n<!-- 6 -->\n<g id=\"node7\" class=\"node\">\n<title>6</title>\n<path fill=\"#7cbeee\" stroke=\"black\" d=\"M368.5,-68C368.5,-68 282.5,-68 282.5,-68 276.5,-68 270.5,-62 270.5,-56 270.5,-56 270.5,-12 270.5,-12 270.5,-6 276.5,0 282.5,0 282.5,0 368.5,0 368.5,0 374.5,0 380.5,-6 380.5,-12 380.5,-12 380.5,-56 380.5,-56 380.5,-62 374.5,-68 368.5,-68\"/>\n<text text-anchor=\"start\" x=\"290\" y=\"-52.8\" font-family=\"Helvetica,sans-Serif\" font-size=\"14.00\">gini = 0.379</text>\n<text text-anchor=\"start\" x=\"280.5\" y=\"-37.8\" font-family=\"Helvetica,sans-Serif\" font-size=\"14.00\">samples = 122</text>\n<text text-anchor=\"start\" x=\"278.5\" y=\"-22.8\" font-family=\"Helvetica,sans-Serif\" font-size=\"14.00\">value = [31, 91]</text>\n<text text-anchor=\"start\" x=\"292.5\" y=\"-7.8\" font-family=\"Helvetica,sans-Serif\" font-size=\"14.00\">class = 1.0</text>\n</g>\n<!-- 5&#45;&gt;6 -->\n<g id=\"edge6\" class=\"edge\">\n<title>5&#45;&gt;6</title>\n<path fill=\"none\" stroke=\"black\" d=\"M364.41,-103.73C359.51,-95.06 354.32,-85.9 349.38,-77.18\"/>\n<polygon fill=\"black\" stroke=\"black\" points=\"352.33,-75.28 344.35,-68.3 346.24,-78.73 352.33,-75.28\"/>\n</g>\n<!-- 7 -->\n<g id=\"node8\" class=\"node\">\n<title>7</title>\n<path fill=\"#65b3eb\" stroke=\"black\" d=\"M504,-68C504,-68 411,-68 411,-68 405,-68 399,-62 399,-56 399,-56 399,-12 399,-12 399,-6 405,0 411,0 411,0 504,0 504,0 510,0 516,-6 516,-12 516,-12 516,-56 516,-56 516,-62 510,-68 504,-68\"/>\n<text text-anchor=\"start\" x=\"422\" y=\"-52.8\" font-family=\"Helvetica,sans-Serif\" font-size=\"14.00\">gini = 0.297</text>\n<text text-anchor=\"start\" x=\"412.5\" y=\"-37.8\" font-family=\"Helvetica,sans-Serif\" font-size=\"14.00\">samples = 347</text>\n<text text-anchor=\"start\" x=\"407\" y=\"-22.8\" font-family=\"Helvetica,sans-Serif\" font-size=\"14.00\">value = [63, 284]</text>\n<text text-anchor=\"start\" x=\"424.5\" y=\"-7.8\" font-family=\"Helvetica,sans-Serif\" font-size=\"14.00\">class = 1.0</text>\n</g>\n<!-- 5&#45;&gt;7 -->\n<g id=\"edge7\" class=\"edge\">\n<title>5&#45;&gt;7</title>\n<path fill=\"none\" stroke=\"black\" d=\"M413.57,-103.73C419.16,-94.97 425.09,-85.7 430.71,-76.91\"/>\n<polygon fill=\"black\" stroke=\"black\" points=\"433.78,-78.61 436.21,-68.3 427.88,-74.84 433.78,-78.61\"/>\n</g>\n<!-- 9 -->\n<g id=\"node10\" class=\"node\">\n<title>9</title>\n<path fill=\"#d1e8f9\" stroke=\"black\" d=\"M696,-187C696,-187 603,-187 603,-187 597,-187 591,-181 591,-175 591,-175 591,-116 591,-116 591,-110 597,-104 603,-104 603,-104 696,-104 696,-104 702,-104 708,-110 708,-116 708,-116 708,-175 708,-175 708,-181 702,-187 696,-187\"/>\n<text text-anchor=\"start\" x=\"616.5\" y=\"-171.8\" font-family=\"Helvetica,sans-Serif\" font-size=\"14.00\">Age ≤ 24.5</text>\n<text text-anchor=\"start\" x=\"614\" y=\"-156.8\" font-family=\"Helvetica,sans-Serif\" font-size=\"14.00\">gini = 0.491</text>\n<text text-anchor=\"start\" x=\"604.5\" y=\"-141.8\" font-family=\"Helvetica,sans-Serif\" font-size=\"14.00\">samples = 226</text>\n<text text-anchor=\"start\" x=\"599\" y=\"-126.8\" font-family=\"Helvetica,sans-Serif\" font-size=\"14.00\">value = [98, 128]</text>\n<text text-anchor=\"start\" x=\"616.5\" y=\"-111.8\" font-family=\"Helvetica,sans-Serif\" font-size=\"14.00\">class = 1.0</text>\n</g>\n<!-- 8&#45;&gt;9 -->\n<g id=\"edge9\" class=\"edge\">\n<title>8&#45;&gt;9</title>\n<path fill=\"none\" stroke=\"black\" d=\"M649.5,-222.91C649.5,-214.65 649.5,-205.86 649.5,-197.3\"/>\n<polygon fill=\"black\" stroke=\"black\" points=\"653,-197.02 649.5,-187.02 646,-197.02 653,-197.02\"/>\n</g>\n<!-- 12 -->\n<g id=\"node13\" class=\"node\">\n<title>12</title>\n<path fill=\"#82c1ef\" stroke=\"black\" d=\"M892,-187C892,-187 799,-187 799,-187 793,-187 787,-181 787,-175 787,-175 787,-116 787,-116 787,-110 793,-104 799,-104 799,-104 892,-104 892,-104 898,-104 904,-110 904,-116 904,-116 904,-175 904,-175 904,-181 898,-187 892,-187\"/>\n<text text-anchor=\"start\" x=\"812.5\" y=\"-171.8\" font-family=\"Helvetica,sans-Serif\" font-size=\"14.00\">Age ≤ 21.0</text>\n<text text-anchor=\"start\" x=\"810\" y=\"-156.8\" font-family=\"Helvetica,sans-Serif\" font-size=\"14.00\">gini = 0.393</text>\n<text text-anchor=\"start\" x=\"800.5\" y=\"-141.8\" font-family=\"Helvetica,sans-Serif\" font-size=\"14.00\">samples = 234</text>\n<text text-anchor=\"start\" x=\"795\" y=\"-126.8\" font-family=\"Helvetica,sans-Serif\" font-size=\"14.00\">value = [63, 171]</text>\n<text text-anchor=\"start\" x=\"812.5\" y=\"-111.8\" font-family=\"Helvetica,sans-Serif\" font-size=\"14.00\">class = 1.0</text>\n</g>\n<!-- 8&#45;&gt;12 -->\n<g id=\"edge12\" class=\"edge\">\n<title>8&#45;&gt;12</title>\n<path fill=\"none\" stroke=\"black\" d=\"M712.05,-226.16C733.13,-213.58 756.72,-199.49 778.15,-186.7\"/>\n<polygon fill=\"black\" stroke=\"black\" points=\"780.08,-189.63 786.87,-181.5 776.49,-183.62 780.08,-189.63\"/>\n</g>\n<!-- 10 -->\n<g id=\"node11\" class=\"node\">\n<title>10</title>\n<path fill=\"#c0e0f7\" stroke=\"black\" d=\"M632.5,-68C632.5,-68 546.5,-68 546.5,-68 540.5,-68 534.5,-62 534.5,-56 534.5,-56 534.5,-12 534.5,-12 534.5,-6 540.5,0 546.5,0 546.5,0 632.5,0 632.5,0 638.5,0 644.5,-6 644.5,-12 644.5,-12 644.5,-56 644.5,-56 644.5,-62 638.5,-68 632.5,-68\"/>\n<text text-anchor=\"start\" x=\"554\" y=\"-52.8\" font-family=\"Helvetica,sans-Serif\" font-size=\"14.00\">gini = 0.482</text>\n<text text-anchor=\"start\" x=\"545\" y=\"-37.8\" font-family=\"Helvetica,sans-Serif\" font-size=\"14.00\">samples = 111</text>\n<text text-anchor=\"start\" x=\"542.5\" y=\"-22.8\" font-family=\"Helvetica,sans-Serif\" font-size=\"14.00\">value = [45, 66]</text>\n<text text-anchor=\"start\" x=\"556.5\" y=\"-7.8\" font-family=\"Helvetica,sans-Serif\" font-size=\"14.00\">class = 1.0</text>\n</g>\n<!-- 9&#45;&gt;10 -->\n<g id=\"edge10\" class=\"edge\">\n<title>9&#45;&gt;10</title>\n<path fill=\"none\" stroke=\"black\" d=\"M627.16,-103.73C622.41,-95.06 617.39,-85.9 612.61,-77.18\"/>\n<polygon fill=\"black\" stroke=\"black\" points=\"615.62,-75.39 607.75,-68.3 609.48,-78.75 615.62,-75.39\"/>\n</g>\n<!-- 11 -->\n<g id=\"node12\" class=\"node\">\n<title>11</title>\n<path fill=\"#e2f1fb\" stroke=\"black\" d=\"M760.5,-68C760.5,-68 674.5,-68 674.5,-68 668.5,-68 662.5,-62 662.5,-56 662.5,-56 662.5,-12 662.5,-12 662.5,-6 668.5,0 674.5,0 674.5,0 760.5,0 760.5,0 766.5,0 772.5,-6 772.5,-12 772.5,-12 772.5,-56 772.5,-56 772.5,-62 766.5,-68 760.5,-68\"/>\n<text text-anchor=\"start\" x=\"682\" y=\"-52.8\" font-family=\"Helvetica,sans-Serif\" font-size=\"14.00\">gini = 0.497</text>\n<text text-anchor=\"start\" x=\"672.5\" y=\"-37.8\" font-family=\"Helvetica,sans-Serif\" font-size=\"14.00\">samples = 115</text>\n<text text-anchor=\"start\" x=\"670.5\" y=\"-22.8\" font-family=\"Helvetica,sans-Serif\" font-size=\"14.00\">value = [53, 62]</text>\n<text text-anchor=\"start\" x=\"684.5\" y=\"-7.8\" font-family=\"Helvetica,sans-Serif\" font-size=\"14.00\">class = 1.0</text>\n</g>\n<!-- 9&#45;&gt;11 -->\n<g id=\"edge11\" class=\"edge\">\n<title>9&#45;&gt;11</title>\n<path fill=\"none\" stroke=\"black\" d=\"M674.82,-103.73C680.26,-94.97 686.01,-85.7 691.48,-76.91\"/>\n<polygon fill=\"black\" stroke=\"black\" points=\"694.52,-78.64 696.82,-68.3 688.57,-74.95 694.52,-78.64\"/>\n</g>\n<!-- 13 -->\n<g id=\"node14\" class=\"node\">\n<title>13</title>\n<path fill=\"#87c4ef\" stroke=\"black\" d=\"M888.5,-68C888.5,-68 802.5,-68 802.5,-68 796.5,-68 790.5,-62 790.5,-56 790.5,-56 790.5,-12 790.5,-12 790.5,-6 796.5,0 802.5,0 802.5,0 888.5,0 888.5,0 894.5,0 900.5,-6 900.5,-12 900.5,-12 900.5,-56 900.5,-56 900.5,-62 894.5,-68 888.5,-68\"/>\n<text text-anchor=\"start\" x=\"810\" y=\"-52.8\" font-family=\"Helvetica,sans-Serif\" font-size=\"14.00\">gini = 0.405</text>\n<text text-anchor=\"start\" x=\"800.5\" y=\"-37.8\" font-family=\"Helvetica,sans-Serif\" font-size=\"14.00\">samples = 117</text>\n<text text-anchor=\"start\" x=\"798.5\" y=\"-22.8\" font-family=\"Helvetica,sans-Serif\" font-size=\"14.00\">value = [33, 84]</text>\n<text text-anchor=\"start\" x=\"812.5\" y=\"-7.8\" font-family=\"Helvetica,sans-Serif\" font-size=\"14.00\">class = 1.0</text>\n</g>\n<!-- 12&#45;&gt;13 -->\n<g id=\"edge13\" class=\"edge\">\n<title>12&#45;&gt;13</title>\n<path fill=\"none\" stroke=\"black\" d=\"M845.5,-103.73C845.5,-95.52 845.5,-86.86 845.5,-78.56\"/>\n<polygon fill=\"black\" stroke=\"black\" points=\"849,-78.3 845.5,-68.3 842,-78.3 849,-78.3\"/>\n</g>\n<!-- 14 -->\n<g id=\"node15\" class=\"node\">\n<title>14</title>\n<path fill=\"#7dbfee\" stroke=\"black\" d=\"M1016.5,-68C1016.5,-68 930.5,-68 930.5,-68 924.5,-68 918.5,-62 918.5,-56 918.5,-56 918.5,-12 918.5,-12 918.5,-6 924.5,0 930.5,0 930.5,0 1016.5,0 1016.5,0 1022.5,0 1028.5,-6 1028.5,-12 1028.5,-12 1028.5,-56 1028.5,-56 1028.5,-62 1022.5,-68 1016.5,-68\"/>\n<text text-anchor=\"start\" x=\"938\" y=\"-52.8\" font-family=\"Helvetica,sans-Serif\" font-size=\"14.00\">gini = 0.381</text>\n<text text-anchor=\"start\" x=\"928.5\" y=\"-37.8\" font-family=\"Helvetica,sans-Serif\" font-size=\"14.00\">samples = 117</text>\n<text text-anchor=\"start\" x=\"926.5\" y=\"-22.8\" font-family=\"Helvetica,sans-Serif\" font-size=\"14.00\">value = [30, 87]</text>\n<text text-anchor=\"start\" x=\"940.5\" y=\"-7.8\" font-family=\"Helvetica,sans-Serif\" font-size=\"14.00\">class = 1.0</text>\n</g>\n<!-- 12&#45;&gt;14 -->\n<g id=\"edge14\" class=\"edge\">\n<title>12&#45;&gt;14</title>\n<path fill=\"none\" stroke=\"black\" d=\"M893.16,-103.73C904.14,-94.33 915.81,-84.35 926.76,-74.99\"/>\n<polygon fill=\"black\" stroke=\"black\" points=\"929.25,-77.46 934.57,-68.3 924.7,-72.14 929.25,-77.46\"/>\n</g>\n</g>\n</svg>\n"
     },
     "execution_count": 170,
     "metadata": {},
     "output_type": "execute_result"
    }
   ],
   "source": [
    "import graphviz\n",
    "\n",
    "dot_data =  tree.export_graphviz(dt, out_file=None,\n",
    "                                   feature_names=data_2.drop('results', axis=1).columns,\n",
    "                                   class_names=['0.0', '1.0'],\n",
    "                                   filled=True, rounded=True,\n",
    "                                   special_characters=True)\n",
    "graph = graphviz.Source(dot_data)\n",
    "graph.render('model2.gv', view=True)\n",
    "graph"
   ]
  },
  {
   "cell_type": "code",
   "execution_count": 171,
   "metadata": {
    "pycharm": {
     "name": "#%%\n"
    }
   },
   "outputs": [
    {
     "name": "stdout",
     "output_type": "stream",
     "text": [
      "Importance of feature Age:, 0.080\n",
      "Importance of feature Gender:, 0.206\n",
      "Importance of feature PSQI:, 0.032\n",
      "Importance of feature MEQ_type:, 0.682\n"
     ]
    },
    {
     "data": {
      "text/plain": "   index  Variable  Feature Importance Score\n0      3  MEQ_type                  0.681931\n1      1    Gender                  0.206448\n2      0       Age                  0.080060\n3      2      PSQI                  0.031561",
      "text/html": "<div>\n<style scoped>\n    .dataframe tbody tr th:only-of-type {\n        vertical-align: middle;\n    }\n\n    .dataframe tbody tr th {\n        vertical-align: top;\n    }\n\n    .dataframe thead th {\n        text-align: right;\n    }\n</style>\n<table border=\"1\" class=\"dataframe\">\n  <thead>\n    <tr style=\"text-align: right;\">\n      <th></th>\n      <th>index</th>\n      <th>Variable</th>\n      <th>Feature Importance Score</th>\n    </tr>\n  </thead>\n  <tbody>\n    <tr>\n      <th>0</th>\n      <td>3</td>\n      <td>MEQ_type</td>\n      <td>0.681931</td>\n    </tr>\n    <tr>\n      <th>1</th>\n      <td>1</td>\n      <td>Gender</td>\n      <td>0.206448</td>\n    </tr>\n    <tr>\n      <th>2</th>\n      <td>0</td>\n      <td>Age</td>\n      <td>0.080060</td>\n    </tr>\n    <tr>\n      <th>3</th>\n      <td>2</td>\n      <td>PSQI</td>\n      <td>0.031561</td>\n    </tr>\n  </tbody>\n</table>\n</div>"
     },
     "execution_count": 171,
     "metadata": {},
     "output_type": "execute_result"
    }
   ],
   "source": [
    "final = ''\n",
    "fi = ''\n",
    "for i, column in enumerate(data_2.drop('results', axis=1)):\n",
    "    print('Importance of feature {}:, {:.3f}'.format(column, dt.feature_importances_[i]))\n",
    "\n",
    "    fi = pd.DataFrame({'Variable': [column], 'Feature Importance Score': [dt.feature_importances_[i]]})\n",
    "\n",
    "    try:\n",
    "        final = pd.concat([final, fi], ignore_index=True)\n",
    "    except:\n",
    "        final = fi\n",
    "\n",
    "# Ordering the data\n",
    "final_fi = final.sort_values('Feature Importance Score', ascending=False).reset_index()\n",
    "final_fi"
   ]
  },
  {
   "cell_type": "code",
   "execution_count": 172,
   "metadata": {
    "pycharm": {
     "name": "#%%\n"
    }
   },
   "outputs": [
    {
     "name": "stdout",
     "output_type": "stream",
     "text": [
      "Training Accuracy is:  0.7709090909090909\n",
      "Testing Accuracy is:  0.8023255813953488\n"
     ]
    }
   ],
   "source": [
    "# Accuracy on Train\n",
    "print(\"Training Accuracy is: \", dt.score(X_train, Y_train))\n",
    "\n",
    "# Accuracy on Train\n",
    "print(\"Testing Accuracy is: \", dt.score(X_test, Y_test))"
   ]
  },
  {
   "cell_type": "code",
   "execution_count": 173,
   "metadata": {
    "pycharm": {
     "name": "#%%\n"
    }
   },
   "outputs": [
    {
     "name": "stdout",
     "output_type": "stream",
     "text": [
      "Training Accuracy is:  0.7709090909090909\n",
      "Testing Accuracy is:  0.8023255813953488\n"
     ]
    }
   ],
   "source": [
    "# Building a forest\n",
    "random_forest = RandomForestClassifier(n_estimators=100, random_state=30)\n",
    "random_forest.fit(X_train, Y_train)\n",
    "# prediction_test = random_forest.predict(X=X_test)\n",
    "\n",
    "# Accuracy on Test\n",
    "print(\"Training Accuracy is: \", random_forest.score(X_train, Y_train))\n",
    "# Accuracy on Train\n",
    "print(\"Testing Accuracy is: \", random_forest.score(X_test, Y_test))"
   ]
  },
  {
   "cell_type": "code",
   "execution_count": 174,
   "metadata": {
    "pycharm": {
     "name": "#%%\n"
    }
   },
   "outputs": [
    {
     "name": "stdout",
     "output_type": "stream",
     "text": [
      "Importance of feature Age:, 0.257\n",
      "Importance of feature Gender:, 0.095\n",
      "Importance of feature PSQI:, 0.118\n",
      "Importance of feature MEQ_type:, 0.529\n"
     ]
    },
    {
     "data": {
      "text/plain": "   index  Variable  Feature Importance Score\n0      3  MEQ_type                  0.528917\n1      0       Age                  0.257306\n2      2      PSQI                  0.118354\n3      1    Gender                  0.095424",
      "text/html": "<div>\n<style scoped>\n    .dataframe tbody tr th:only-of-type {\n        vertical-align: middle;\n    }\n\n    .dataframe tbody tr th {\n        vertical-align: top;\n    }\n\n    .dataframe thead th {\n        text-align: right;\n    }\n</style>\n<table border=\"1\" class=\"dataframe\">\n  <thead>\n    <tr style=\"text-align: right;\">\n      <th></th>\n      <th>index</th>\n      <th>Variable</th>\n      <th>Feature Importance Score</th>\n    </tr>\n  </thead>\n  <tbody>\n    <tr>\n      <th>0</th>\n      <td>3</td>\n      <td>MEQ_type</td>\n      <td>0.528917</td>\n    </tr>\n    <tr>\n      <th>1</th>\n      <td>0</td>\n      <td>Age</td>\n      <td>0.257306</td>\n    </tr>\n    <tr>\n      <th>2</th>\n      <td>2</td>\n      <td>PSQI</td>\n      <td>0.118354</td>\n    </tr>\n    <tr>\n      <th>3</th>\n      <td>1</td>\n      <td>Gender</td>\n      <td>0.095424</td>\n    </tr>\n  </tbody>\n</table>\n</div>"
     },
     "execution_count": 174,
     "metadata": {},
     "output_type": "execute_result"
    }
   ],
   "source": [
    "fi2 = ''\n",
    "final2 = ''\n",
    "for i, column in enumerate(data_2.drop('results', axis=1)):\n",
    "    print('Importance of feature {}:, {:.3f}'.format(column, random_forest.feature_importances_[i]))\n",
    "    fi2 = pd.DataFrame({'Variable': [column], 'Feature Importance Score': [random_forest.feature_importances_[i]]})\n",
    "\n",
    "    try:\n",
    "        final2 = pd.concat([final2, fi2], ignore_index=True)\n",
    "    except:\n",
    "        final2 = fi2\n",
    "\n",
    "# Ordering the data\n",
    "final_fi2 = final2.sort_values('Feature Importance Score', ascending=False).reset_index()\n",
    "final_fi2\n"
   ]
  }
 ],
 "metadata": {
  "kernelspec": {
   "display_name": "Python 3",
   "language": "python",
   "name": "python3"
  },
  "language_info": {
   "codemirror_mode": {
    "name": "ipython",
    "version": 3
   },
   "file_extension": ".py",
   "mimetype": "text/x-python",
   "name": "python",
   "nbconvert_exporter": "python",
   "pygments_lexer": "ipython3",
   "version": "3.8.8"
  }
 },
 "nbformat": 4,
 "nbformat_minor": 1
}