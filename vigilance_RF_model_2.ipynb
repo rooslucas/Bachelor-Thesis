{
 "cells": [
  {
   "cell_type": "markdown",
   "metadata": {
    "collapsed": true,
    "pycharm": {
     "name": "#%% md\n"
    }
   },
   "source": [
    "# Predicting vigilance using machine learning\n",
    "## Random Forest Model 2\n",
    "Rosalie Lucas (6540384)\n",
    "\n",
    "This is the second model in my thesis Predicting vigilance using machine learning.\n",
    "In this model subjective measures and demographic data will be used.\n",
    "These are consistent within one participant and therefor could be over represented."
   ]
  },
  {
   "cell_type": "code",
   "execution_count": 26,
   "metadata": {
    "pycharm": {
     "name": "#%%\n"
    }
   },
   "outputs": [],
   "source": [
    "# Import Libraries needed\n",
    "import pandas as pd\n",
    "import os\n",
    "import numpy as np\n",
    "from matplotlib import pyplot as plt\n",
    "import seaborn as sns\n",
    "%matplotlib inline\n",
    "\n",
    "import warnings\n",
    "warnings.filterwarnings('ignore')\n",
    "\n",
    "\n",
    "from sklearn.model_selection import train_test_split\n",
    "from sklearn import tree\n",
    "from sklearn.tree import DecisionTreeClassifier, export_graphviz\n",
    "from sklearn.ensemble import RandomForestClassifier\n",
    "from sklearn.preprocessing import LabelEncoder\n",
    "\n",
    "# Installed Graphviz using Pip3"
   ]
  },
  {
   "cell_type": "code",
   "execution_count": 27,
   "metadata": {
    "pycharm": {
     "name": "#%%\n"
    }
   },
   "outputs": [],
   "source": [
    "data_file_path = '/Users/roos/Data/all_trials_noNaN2.csv'\n",
    "data_file = pd.read_csv(data_file_path)\n",
    "data_2 = data_file[[ 'Age', 'Gender', 'PSQI', 'MEQ_type', 'results']]\n"
   ]
  },
  {
   "cell_type": "code",
   "execution_count": 28,
   "metadata": {
    "pycharm": {
     "name": "#%%\n"
    }
   },
   "outputs": [
    {
     "name": "stdout",
     "output_type": "stream",
     "text": [
      "gender classes: ['female' 'male']\n",
      "Gender integer classes [0 1]\n",
      "MEQ classes: ['evening' 'intermediate' 'morning']\n",
      "MEQ> integer classes [0 1 2]\n"
     ]
    }
   ],
   "source": [
    "# Encode categorical variables\n",
    "# Gender\n",
    "encoder = LabelEncoder()\n",
    "label_encoder_gender = encoder.fit(data_2['Gender'])\n",
    "print(\"gender classes:\", label_encoder_gender.classes_)\n",
    "integer_classes_gender = label_encoder_gender.transform(label_encoder_gender.classes_)\n",
    "print(\"Gender integer classes\", integer_classes_gender)\n",
    "code = label_encoder_gender.transform(data_2['Gender'])\n",
    "data_2['Gender'] = code\n",
    "\n",
    "# MEQ_type\n",
    "label_encoder_MEQ = encoder.fit(data_2['MEQ_type'])\n",
    "print(\"MEQ classes:\", label_encoder_MEQ.classes_)\n",
    "integer_classes_MEQ = label_encoder_MEQ.transform(label_encoder_MEQ.classes_)\n",
    "print(\"MEQ> integer classes\", integer_classes_MEQ)\n",
    "code_MEQ = label_encoder_MEQ.transform(data_2['MEQ_type'])\n",
    "data_2['MEQ_type'] = code_MEQ\n"
   ]
  },
  {
   "cell_type": "code",
   "execution_count": 29,
   "metadata": {
    "pycharm": {
     "name": "#%%\n"
    }
   },
   "outputs": [],
   "source": [
    "# plot = sns.pairplot(data_2, hue='results', palette=\"Set1\")"
   ]
  },
  {
   "cell_type": "code",
   "execution_count": 30,
   "metadata": {
    "pycharm": {
     "name": "#%%\n"
    }
   },
   "outputs": [
    {
     "name": "stdout",
     "output_type": "stream",
     "text": [
      "The number of values for feature Age : 7 -- [19 21 22 23 26 50 59]\n",
      "The number of values for feature Gender : 2 -- [0 1]\n",
      "The number of values for feature PSQI : 5 -- [0.28571429 0.42857143 0.57142857 0.71428571 1.2       ]\n",
      "The number of values for feature MEQ_type : 3 -- [0 1 2]\n",
      "The number of values for feature results : 2 -- [0. 1.]\n",
      "Age         0\n",
      "Gender      0\n",
      "PSQI        0\n",
      "MEQ_type    0\n",
      "results     0\n",
      "dtype: int64\n"
     ]
    }
   ],
   "source": [
    "for column in data_2:  # Describe the amount of different features in each column (column is a feature)\n",
    "    unique_values = np.unique(data_2[column])\n",
    "    number_values = len(unique_values)\n",
    "    if number_values < 12:\n",
    "        print(\"The number of values for feature {} : {} -- {}\".format(column, number_values, unique_values))\n",
    "    else:\n",
    "        print(\"The number of values for feature {} : {}\".format(column, number_values))\n",
    "\n",
    "print(data_2.isnull().sum())"
   ]
  },
  {
   "cell_type": "code",
   "execution_count": 31,
   "metadata": {
    "pycharm": {
     "name": "#%%\n"
    }
   },
   "outputs": [
    {
     "name": "stdout",
     "output_type": "stream",
     "text": [
      "X shape: (1716, 4)\n",
      "Y shape: (1716,)\n"
     ]
    }
   ],
   "source": [
    "# Splitting the data\n",
    "X = data_2.drop('results', axis=1).values\n",
    "Y = data_2['results'].values\n",
    "print('X shape: {}'.format(np.shape(X)))\n",
    "print('Y shape: {}'.format(np.shape(Y)))\n",
    "\n",
    "X_train, X_test, Y_train, Y_test = train_test_split(X, Y, train_size=0.8, test_size=0.2, random_state=0)"
   ]
  },
  {
   "cell_type": "code",
   "execution_count": 32,
   "metadata": {
    "pycharm": {
     "name": "#%%\n"
    }
   },
   "outputs": [
    {
     "name": "stdout",
     "output_type": "stream",
     "text": [
      "0.7645348837209303\n",
      "0.7798833819241983\n"
     ]
    }
   ],
   "source": [
    "dt = DecisionTreeClassifier(max_depth=3, random_state=0)\n",
    "dt.fit(X_train, Y_train)\n",
    "print(Y_test.sum()/len(Y_test))\n",
    "print(Y_train.sum()/(len(Y_train)))"
   ]
  },
  {
   "cell_type": "code",
   "execution_count": 33,
   "metadata": {
    "pycharm": {
     "name": "#%%\n"
    }
   },
   "outputs": [
    {
     "data": {
      "text/plain": "<graphviz.files.Source at 0x7fdd795ef9d0>",
      "image/svg+xml": "<?xml version=\"1.0\" encoding=\"UTF-8\" standalone=\"no\"?>\n<!DOCTYPE svg PUBLIC \"-//W3C//DTD SVG 1.1//EN\"\n \"http://www.w3.org/Graphics/SVG/1.1/DTD/svg11.dtd\">\n<!-- Generated by graphviz version 2.47.1 (20210417.1919)\n -->\n<!-- Title: Tree Pages: 1 -->\n<svg width=\"781pt\" height=\"433pt\"\n viewBox=\"0.00 0.00 780.50 433.00\" xmlns=\"http://www.w3.org/2000/svg\" xmlns:xlink=\"http://www.w3.org/1999/xlink\">\n<g id=\"graph0\" class=\"graph\" transform=\"scale(1 1) rotate(0) translate(4 429)\">\n<title>Tree</title>\n<polygon fill=\"white\" stroke=\"transparent\" points=\"-4,4 -4,-429 776.5,-429 776.5,4 -4,4\"/>\n<!-- 0 -->\n<g id=\"node1\" class=\"node\">\n<title>0</title>\n<path fill=\"#71b9ec\" stroke=\"black\" d=\"M563.5,-425C563.5,-425 455.5,-425 455.5,-425 449.5,-425 443.5,-419 443.5,-413 443.5,-413 443.5,-354 443.5,-354 443.5,-348 449.5,-342 455.5,-342 455.5,-342 563.5,-342 563.5,-342 569.5,-342 575.5,-348 575.5,-354 575.5,-354 575.5,-413 575.5,-413 575.5,-419 569.5,-425 563.5,-425\"/>\n<text text-anchor=\"start\" x=\"459.5\" y=\"-409.8\" font-family=\"Helvetica,sans-Serif\" font-size=\"14.00\">MEQ_type ≤ 1.5</text>\n<text text-anchor=\"start\" x=\"474\" y=\"-394.8\" font-family=\"Helvetica,sans-Serif\" font-size=\"14.00\">gini = 0.343</text>\n<text text-anchor=\"start\" x=\"461\" y=\"-379.8\" font-family=\"Helvetica,sans-Serif\" font-size=\"14.00\">samples = 1372</text>\n<text text-anchor=\"start\" x=\"451.5\" y=\"-364.8\" font-family=\"Helvetica,sans-Serif\" font-size=\"14.00\">value = [302, 1070]</text>\n<text text-anchor=\"start\" x=\"476.5\" y=\"-349.8\" font-family=\"Helvetica,sans-Serif\" font-size=\"14.00\">class = 1.0</text>\n</g>\n<!-- 1 -->\n<g id=\"node2\" class=\"node\">\n<title>1</title>\n<path fill=\"#5eafea\" stroke=\"black\" d=\"M434,-306C434,-306 333,-306 333,-306 327,-306 321,-300 321,-294 321,-294 321,-235 321,-235 321,-229 327,-223 333,-223 333,-223 434,-223 434,-223 440,-223 446,-229 446,-235 446,-235 446,-294 446,-294 446,-300 440,-306 434,-306\"/>\n<text text-anchor=\"start\" x=\"350.5\" y=\"-290.8\" font-family=\"Helvetica,sans-Serif\" font-size=\"14.00\">Age ≤ 36.5</text>\n<text text-anchor=\"start\" x=\"348\" y=\"-275.8\" font-family=\"Helvetica,sans-Serif\" font-size=\"14.00\">gini = 0.266</text>\n<text text-anchor=\"start\" x=\"338.5\" y=\"-260.8\" font-family=\"Helvetica,sans-Serif\" font-size=\"14.00\">samples = 917</text>\n<text text-anchor=\"start\" x=\"329\" y=\"-245.8\" font-family=\"Helvetica,sans-Serif\" font-size=\"14.00\">value = [145, 772]</text>\n<text text-anchor=\"start\" x=\"350.5\" y=\"-230.8\" font-family=\"Helvetica,sans-Serif\" font-size=\"14.00\">class = 1.0</text>\n</g>\n<!-- 0&#45;&gt;1 -->\n<g id=\"edge1\" class=\"edge\">\n<title>0&#45;&gt;1</title>\n<path fill=\"none\" stroke=\"black\" d=\"M465.78,-341.91C455.72,-332.56 444.93,-322.54 434.58,-312.93\"/>\n<polygon fill=\"black\" stroke=\"black\" points=\"436.85,-310.26 427.14,-306.02 432.08,-315.39 436.85,-310.26\"/>\n<text text-anchor=\"middle\" x=\"428.06\" y=\"-327.3\" font-family=\"Helvetica,sans-Serif\" font-size=\"14.00\">True</text>\n</g>\n<!-- 8 -->\n<g id=\"node9\" class=\"node\">\n<title>8</title>\n<path fill=\"#a1d1f3\" stroke=\"black\" d=\"M632,-306C632,-306 531,-306 531,-306 525,-306 519,-300 519,-294 519,-294 519,-235 519,-235 519,-229 525,-223 531,-223 531,-223 632,-223 632,-223 638,-223 644,-229 644,-235 644,-235 644,-294 644,-294 644,-300 638,-306 632,-306\"/>\n<text text-anchor=\"start\" x=\"548.5\" y=\"-290.8\" font-family=\"Helvetica,sans-Serif\" font-size=\"14.00\">Age ≤ 24.5</text>\n<text text-anchor=\"start\" x=\"546\" y=\"-275.8\" font-family=\"Helvetica,sans-Serif\" font-size=\"14.00\">gini = 0.452</text>\n<text text-anchor=\"start\" x=\"536.5\" y=\"-260.8\" font-family=\"Helvetica,sans-Serif\" font-size=\"14.00\">samples = 455</text>\n<text text-anchor=\"start\" x=\"527\" y=\"-245.8\" font-family=\"Helvetica,sans-Serif\" font-size=\"14.00\">value = [157, 298]</text>\n<text text-anchor=\"start\" x=\"548.5\" y=\"-230.8\" font-family=\"Helvetica,sans-Serif\" font-size=\"14.00\">class = 1.0</text>\n</g>\n<!-- 0&#45;&gt;8 -->\n<g id=\"edge8\" class=\"edge\">\n<title>0&#45;&gt;8</title>\n<path fill=\"none\" stroke=\"black\" d=\"M534.48,-341.91C539.9,-333.1 545.68,-323.7 551.28,-314.61\"/>\n<polygon fill=\"black\" stroke=\"black\" points=\"554.3,-316.37 556.56,-306.02 548.34,-312.7 554.3,-316.37\"/>\n<text text-anchor=\"middle\" x=\"562.35\" y=\"-326.64\" font-family=\"Helvetica,sans-Serif\" font-size=\"14.00\">False</text>\n</g>\n<!-- 2 -->\n<g id=\"node3\" class=\"node\">\n<title>2</title>\n<path fill=\"#58ace9\" stroke=\"black\" d=\"M240,-187C240,-187 147,-187 147,-187 141,-187 135,-181 135,-175 135,-175 135,-116 135,-116 135,-110 141,-104 147,-104 147,-104 240,-104 240,-104 246,-104 252,-110 252,-116 252,-116 252,-175 252,-175 252,-181 246,-187 240,-187\"/>\n<text text-anchor=\"start\" x=\"143.5\" y=\"-171.8\" font-family=\"Helvetica,sans-Serif\" font-size=\"14.00\">MEQ_type ≤ 0.5</text>\n<text text-anchor=\"start\" x=\"158\" y=\"-156.8\" font-family=\"Helvetica,sans-Serif\" font-size=\"14.00\">gini = 0.233</text>\n<text text-anchor=\"start\" x=\"148.5\" y=\"-141.8\" font-family=\"Helvetica,sans-Serif\" font-size=\"14.00\">samples = 683</text>\n<text text-anchor=\"start\" x=\"143\" y=\"-126.8\" font-family=\"Helvetica,sans-Serif\" font-size=\"14.00\">value = [92, 591]</text>\n<text text-anchor=\"start\" x=\"160.5\" y=\"-111.8\" font-family=\"Helvetica,sans-Serif\" font-size=\"14.00\">class = 1.0</text>\n</g>\n<!-- 1&#45;&gt;2 -->\n<g id=\"edge2\" class=\"edge\">\n<title>1&#45;&gt;2</title>\n<path fill=\"none\" stroke=\"black\" d=\"M320.76,-224.87C301.55,-213.04 280.35,-199.98 260.85,-187.97\"/>\n<polygon fill=\"black\" stroke=\"black\" points=\"262.66,-184.98 252.31,-182.72 258.99,-190.94 262.66,-184.98\"/>\n</g>\n<!-- 5 -->\n<g id=\"node6\" class=\"node\">\n<title>5</title>\n<path fill=\"#73baed\" stroke=\"black\" d=\"M430,-187C430,-187 337,-187 337,-187 331,-187 325,-181 325,-175 325,-175 325,-116 325,-116 325,-110 331,-104 337,-104 337,-104 430,-104 430,-104 436,-104 442,-110 442,-116 442,-116 442,-175 442,-175 442,-181 436,-187 430,-187\"/>\n<text text-anchor=\"start\" x=\"342.5\" y=\"-171.8\" font-family=\"Helvetica,sans-Serif\" font-size=\"14.00\">PSQI ≤ 0.571</text>\n<text text-anchor=\"start\" x=\"351.5\" y=\"-156.8\" font-family=\"Helvetica,sans-Serif\" font-size=\"14.00\">gini = 0.35</text>\n<text text-anchor=\"start\" x=\"338.5\" y=\"-141.8\" font-family=\"Helvetica,sans-Serif\" font-size=\"14.00\">samples = 234</text>\n<text text-anchor=\"start\" x=\"333\" y=\"-126.8\" font-family=\"Helvetica,sans-Serif\" font-size=\"14.00\">value = [53, 181]</text>\n<text text-anchor=\"start\" x=\"350.5\" y=\"-111.8\" font-family=\"Helvetica,sans-Serif\" font-size=\"14.00\">class = 1.0</text>\n</g>\n<!-- 1&#45;&gt;5 -->\n<g id=\"edge5\" class=\"edge\">\n<title>1&#45;&gt;5</title>\n<path fill=\"none\" stroke=\"black\" d=\"M383.5,-222.91C383.5,-214.65 383.5,-205.86 383.5,-197.3\"/>\n<polygon fill=\"black\" stroke=\"black\" points=\"387,-197.02 383.5,-187.02 380,-197.02 387,-197.02\"/>\n</g>\n<!-- 3 -->\n<g id=\"node4\" class=\"node\">\n<title>3</title>\n<path fill=\"#5eafea\" stroke=\"black\" d=\"M105,-68C105,-68 12,-68 12,-68 6,-68 0,-62 0,-56 0,-56 0,-12 0,-12 0,-6 6,0 12,0 12,0 105,0 105,0 111,0 117,-6 117,-12 117,-12 117,-56 117,-56 117,-62 111,-68 105,-68\"/>\n<text text-anchor=\"start\" x=\"23\" y=\"-52.8\" font-family=\"Helvetica,sans-Serif\" font-size=\"14.00\">gini = 0.265</text>\n<text text-anchor=\"start\" x=\"13.5\" y=\"-37.8\" font-family=\"Helvetica,sans-Serif\" font-size=\"14.00\">samples = 457</text>\n<text text-anchor=\"start\" x=\"8\" y=\"-22.8\" font-family=\"Helvetica,sans-Serif\" font-size=\"14.00\">value = [72, 385]</text>\n<text text-anchor=\"start\" x=\"25.5\" y=\"-7.8\" font-family=\"Helvetica,sans-Serif\" font-size=\"14.00\">class = 1.0</text>\n</g>\n<!-- 2&#45;&gt;3 -->\n<g id=\"edge3\" class=\"edge\">\n<title>2&#45;&gt;3</title>\n<path fill=\"none\" stroke=\"black\" d=\"M143.23,-103.73C131.54,-94.24 119.1,-84.16 107.46,-74.72\"/>\n<polygon fill=\"black\" stroke=\"black\" points=\"109.53,-71.88 99.55,-68.3 105.12,-77.32 109.53,-71.88\"/>\n</g>\n<!-- 4 -->\n<g id=\"node5\" class=\"node\">\n<title>4</title>\n<path fill=\"#4ca7e8\" stroke=\"black\" d=\"M240,-68C240,-68 147,-68 147,-68 141,-68 135,-62 135,-56 135,-56 135,-12 135,-12 135,-6 141,0 147,0 147,0 240,0 240,0 246,0 252,-6 252,-12 252,-12 252,-56 252,-56 252,-62 246,-68 240,-68\"/>\n<text text-anchor=\"start\" x=\"158\" y=\"-52.8\" font-family=\"Helvetica,sans-Serif\" font-size=\"14.00\">gini = 0.161</text>\n<text text-anchor=\"start\" x=\"148.5\" y=\"-37.8\" font-family=\"Helvetica,sans-Serif\" font-size=\"14.00\">samples = 226</text>\n<text text-anchor=\"start\" x=\"143\" y=\"-22.8\" font-family=\"Helvetica,sans-Serif\" font-size=\"14.00\">value = [20, 206]</text>\n<text text-anchor=\"start\" x=\"160.5\" y=\"-7.8\" font-family=\"Helvetica,sans-Serif\" font-size=\"14.00\">class = 1.0</text>\n</g>\n<!-- 2&#45;&gt;4 -->\n<g id=\"edge4\" class=\"edge\">\n<title>2&#45;&gt;4</title>\n<path fill=\"none\" stroke=\"black\" d=\"M193.5,-103.73C193.5,-95.52 193.5,-86.86 193.5,-78.56\"/>\n<polygon fill=\"black\" stroke=\"black\" points=\"197,-78.3 193.5,-68.3 190,-78.3 197,-78.3\"/>\n</g>\n<!-- 6 -->\n<g id=\"node7\" class=\"node\">\n<title>6</title>\n<path fill=\"#77bced\" stroke=\"black\" d=\"M368.5,-68C368.5,-68 282.5,-68 282.5,-68 276.5,-68 270.5,-62 270.5,-56 270.5,-56 270.5,-12 270.5,-12 270.5,-6 276.5,0 282.5,0 282.5,0 368.5,0 368.5,0 374.5,0 380.5,-6 380.5,-12 380.5,-12 380.5,-56 380.5,-56 380.5,-62 374.5,-68 368.5,-68\"/>\n<text text-anchor=\"start\" x=\"290\" y=\"-52.8\" font-family=\"Helvetica,sans-Serif\" font-size=\"14.00\">gini = 0.364</text>\n<text text-anchor=\"start\" x=\"280.5\" y=\"-37.8\" font-family=\"Helvetica,sans-Serif\" font-size=\"14.00\">samples = 121</text>\n<text text-anchor=\"start\" x=\"278.5\" y=\"-22.8\" font-family=\"Helvetica,sans-Serif\" font-size=\"14.00\">value = [29, 92]</text>\n<text text-anchor=\"start\" x=\"292.5\" y=\"-7.8\" font-family=\"Helvetica,sans-Serif\" font-size=\"14.00\">class = 1.0</text>\n</g>\n<!-- 5&#45;&gt;6 -->\n<g id=\"edge6\" class=\"edge\">\n<title>5&#45;&gt;6</title>\n<path fill=\"none\" stroke=\"black\" d=\"M361.9,-103.73C357.31,-95.06 352.46,-85.9 347.84,-77.18\"/>\n<polygon fill=\"black\" stroke=\"black\" points=\"350.91,-75.5 343.14,-68.3 344.73,-78.77 350.91,-75.5\"/>\n</g>\n<!-- 7 -->\n<g id=\"node8\" class=\"node\">\n<title>7</title>\n<path fill=\"#6eb7ec\" stroke=\"black\" d=\"M496.5,-68C496.5,-68 410.5,-68 410.5,-68 404.5,-68 398.5,-62 398.5,-56 398.5,-56 398.5,-12 398.5,-12 398.5,-6 404.5,0 410.5,0 410.5,0 496.5,0 496.5,0 502.5,0 508.5,-6 508.5,-12 508.5,-12 508.5,-56 508.5,-56 508.5,-62 502.5,-68 496.5,-68\"/>\n<text text-anchor=\"start\" x=\"418\" y=\"-52.8\" font-family=\"Helvetica,sans-Serif\" font-size=\"14.00\">gini = 0.335</text>\n<text text-anchor=\"start\" x=\"408.5\" y=\"-37.8\" font-family=\"Helvetica,sans-Serif\" font-size=\"14.00\">samples = 113</text>\n<text text-anchor=\"start\" x=\"406.5\" y=\"-22.8\" font-family=\"Helvetica,sans-Serif\" font-size=\"14.00\">value = [24, 89]</text>\n<text text-anchor=\"start\" x=\"420.5\" y=\"-7.8\" font-family=\"Helvetica,sans-Serif\" font-size=\"14.00\">class = 1.0</text>\n</g>\n<!-- 5&#45;&gt;7 -->\n<g id=\"edge7\" class=\"edge\">\n<title>5&#45;&gt;7</title>\n<path fill=\"none\" stroke=\"black\" d=\"M409.57,-103.73C415.16,-94.97 421.09,-85.7 426.71,-76.91\"/>\n<polygon fill=\"black\" stroke=\"black\" points=\"429.78,-78.61 432.21,-68.3 423.88,-74.84 429.78,-78.61\"/>\n</g>\n<!-- 9 -->\n<g id=\"node10\" class=\"node\">\n<title>9</title>\n<path fill=\"#8dc7f0\" stroke=\"black\" d=\"M632,-187C632,-187 531,-187 531,-187 525,-187 519,-181 519,-175 519,-175 519,-116 519,-116 519,-110 525,-104 531,-104 531,-104 632,-104 632,-104 638,-104 644,-110 644,-116 644,-116 644,-175 644,-175 644,-181 638,-187 632,-187\"/>\n<text text-anchor=\"start\" x=\"541.5\" y=\"-171.8\" font-family=\"Helvetica,sans-Serif\" font-size=\"14.00\">Gender ≤ 0.5</text>\n<text text-anchor=\"start\" x=\"546\" y=\"-156.8\" font-family=\"Helvetica,sans-Serif\" font-size=\"14.00\">gini = 0.419</text>\n<text text-anchor=\"start\" x=\"536.5\" y=\"-141.8\" font-family=\"Helvetica,sans-Serif\" font-size=\"14.00\">samples = 345</text>\n<text text-anchor=\"start\" x=\"527\" y=\"-126.8\" font-family=\"Helvetica,sans-Serif\" font-size=\"14.00\">value = [103, 242]</text>\n<text text-anchor=\"start\" x=\"548.5\" y=\"-111.8\" font-family=\"Helvetica,sans-Serif\" font-size=\"14.00\">class = 1.0</text>\n</g>\n<!-- 8&#45;&gt;9 -->\n<g id=\"edge9\" class=\"edge\">\n<title>8&#45;&gt;9</title>\n<path fill=\"none\" stroke=\"black\" d=\"M581.5,-222.91C581.5,-214.65 581.5,-205.86 581.5,-197.3\"/>\n<polygon fill=\"black\" stroke=\"black\" points=\"585,-197.02 581.5,-187.02 578,-197.02 585,-197.02\"/>\n</g>\n<!-- 12 -->\n<g id=\"node13\" class=\"node\">\n<title>12</title>\n<path fill=\"#f8fcfe\" stroke=\"black\" d=\"M760.5,-179.5C760.5,-179.5 674.5,-179.5 674.5,-179.5 668.5,-179.5 662.5,-173.5 662.5,-167.5 662.5,-167.5 662.5,-123.5 662.5,-123.5 662.5,-117.5 668.5,-111.5 674.5,-111.5 674.5,-111.5 760.5,-111.5 760.5,-111.5 766.5,-111.5 772.5,-117.5 772.5,-123.5 772.5,-123.5 772.5,-167.5 772.5,-167.5 772.5,-173.5 766.5,-179.5 760.5,-179.5\"/>\n<text text-anchor=\"start\" x=\"689.5\" y=\"-164.3\" font-family=\"Helvetica,sans-Serif\" font-size=\"14.00\">gini = 0.5</text>\n<text text-anchor=\"start\" x=\"672.5\" y=\"-149.3\" font-family=\"Helvetica,sans-Serif\" font-size=\"14.00\">samples = 110</text>\n<text text-anchor=\"start\" x=\"670.5\" y=\"-134.3\" font-family=\"Helvetica,sans-Serif\" font-size=\"14.00\">value = [54, 56]</text>\n<text text-anchor=\"start\" x=\"684.5\" y=\"-119.3\" font-family=\"Helvetica,sans-Serif\" font-size=\"14.00\">class = 1.0</text>\n</g>\n<!-- 8&#45;&gt;12 -->\n<g id=\"edge12\" class=\"edge\">\n<title>8&#45;&gt;12</title>\n<path fill=\"none\" stroke=\"black\" d=\"M628.68,-222.91C642.41,-211.1 657.39,-198.22 671.06,-186.45\"/>\n<polygon fill=\"black\" stroke=\"black\" points=\"673.65,-188.84 678.95,-179.67 669.08,-183.54 673.65,-188.84\"/>\n</g>\n<!-- 10 -->\n<g id=\"node11\" class=\"node\">\n<title>10</title>\n<path fill=\"#a4d2f3\" stroke=\"black\" d=\"M624.5,-68C624.5,-68 538.5,-68 538.5,-68 532.5,-68 526.5,-62 526.5,-56 526.5,-56 526.5,-12 526.5,-12 526.5,-6 532.5,0 538.5,0 538.5,0 624.5,0 624.5,0 630.5,0 636.5,-6 636.5,-12 636.5,-12 636.5,-56 636.5,-56 636.5,-62 630.5,-68 624.5,-68\"/>\n<text text-anchor=\"start\" x=\"546\" y=\"-52.8\" font-family=\"Helvetica,sans-Serif\" font-size=\"14.00\">gini = 0.456</text>\n<text text-anchor=\"start\" x=\"537\" y=\"-37.8\" font-family=\"Helvetica,sans-Serif\" font-size=\"14.00\">samples = 111</text>\n<text text-anchor=\"start\" x=\"534.5\" y=\"-22.8\" font-family=\"Helvetica,sans-Serif\" font-size=\"14.00\">value = [39, 72]</text>\n<text text-anchor=\"start\" x=\"548.5\" y=\"-7.8\" font-family=\"Helvetica,sans-Serif\" font-size=\"14.00\">class = 1.0</text>\n</g>\n<!-- 9&#45;&gt;10 -->\n<g id=\"edge10\" class=\"edge\">\n<title>9&#45;&gt;10</title>\n<path fill=\"none\" stroke=\"black\" d=\"M581.5,-103.73C581.5,-95.52 581.5,-86.86 581.5,-78.56\"/>\n<polygon fill=\"black\" stroke=\"black\" points=\"585,-78.3 581.5,-68.3 578,-78.3 585,-78.3\"/>\n</g>\n<!-- 11 -->\n<g id=\"node12\" class=\"node\">\n<title>11</title>\n<path fill=\"#84c2ef\" stroke=\"black\" d=\"M760,-68C760,-68 667,-68 667,-68 661,-68 655,-62 655,-56 655,-56 655,-12 655,-12 655,-6 661,0 667,0 667,0 760,0 760,0 766,0 772,-6 772,-12 772,-12 772,-56 772,-56 772,-62 766,-68 760,-68\"/>\n<text text-anchor=\"start\" x=\"678\" y=\"-52.8\" font-family=\"Helvetica,sans-Serif\" font-size=\"14.00\">gini = 0.397</text>\n<text text-anchor=\"start\" x=\"668.5\" y=\"-37.8\" font-family=\"Helvetica,sans-Serif\" font-size=\"14.00\">samples = 234</text>\n<text text-anchor=\"start\" x=\"663\" y=\"-22.8\" font-family=\"Helvetica,sans-Serif\" font-size=\"14.00\">value = [64, 170]</text>\n<text text-anchor=\"start\" x=\"680.5\" y=\"-7.8\" font-family=\"Helvetica,sans-Serif\" font-size=\"14.00\">class = 1.0</text>\n</g>\n<!-- 9&#45;&gt;11 -->\n<g id=\"edge11\" class=\"edge\">\n<title>9&#45;&gt;11</title>\n<path fill=\"none\" stroke=\"black\" d=\"M630.65,-103.73C642.09,-94.24 654.24,-84.16 665.62,-74.72\"/>\n<polygon fill=\"black\" stroke=\"black\" points=\"667.9,-77.38 673.36,-68.3 663.43,-71.99 667.9,-77.38\"/>\n</g>\n</g>\n</svg>\n"
     },
     "execution_count": 33,
     "metadata": {},
     "output_type": "execute_result"
    }
   ],
   "source": [
    "import graphviz\n",
    "\n",
    "dot_data =  tree.export_graphviz(dt, out_file=None,\n",
    "                                   feature_names=data_2.drop('results', axis=1).columns,\n",
    "                                   class_names=['0.0', '1.0'],\n",
    "                                   filled=True, rounded=True,\n",
    "                                   special_characters=True)\n",
    "graph = graphviz.Source(dot_data)\n",
    "graph.render('model2.gv', view=True)\n",
    "graph"
   ]
  },
  {
   "cell_type": "code",
   "execution_count": 34,
   "metadata": {
    "pycharm": {
     "name": "#%%\n"
    }
   },
   "outputs": [
    {
     "name": "stdout",
     "output_type": "stream",
     "text": [
      "Importance of feature Age:, 0.278\n",
      "Importance of feature Gender:, 0.028\n",
      "Importance of feature PSQI:, 0.003\n",
      "Importance of feature MEQ_type:, 0.692\n"
     ]
    },
    {
     "data": {
      "text/plain": "   index  Variable  Feature Importance Score\n0      3  MEQ_type                  0.691834\n1      0       Age                  0.277698\n2      1    Gender                  0.027817\n3      2      PSQI                  0.002651",
      "text/html": "<div>\n<style scoped>\n    .dataframe tbody tr th:only-of-type {\n        vertical-align: middle;\n    }\n\n    .dataframe tbody tr th {\n        vertical-align: top;\n    }\n\n    .dataframe thead th {\n        text-align: right;\n    }\n</style>\n<table border=\"1\" class=\"dataframe\">\n  <thead>\n    <tr style=\"text-align: right;\">\n      <th></th>\n      <th>index</th>\n      <th>Variable</th>\n      <th>Feature Importance Score</th>\n    </tr>\n  </thead>\n  <tbody>\n    <tr>\n      <th>0</th>\n      <td>3</td>\n      <td>MEQ_type</td>\n      <td>0.691834</td>\n    </tr>\n    <tr>\n      <th>1</th>\n      <td>0</td>\n      <td>Age</td>\n      <td>0.277698</td>\n    </tr>\n    <tr>\n      <th>2</th>\n      <td>1</td>\n      <td>Gender</td>\n      <td>0.027817</td>\n    </tr>\n    <tr>\n      <th>3</th>\n      <td>2</td>\n      <td>PSQI</td>\n      <td>0.002651</td>\n    </tr>\n  </tbody>\n</table>\n</div>"
     },
     "execution_count": 34,
     "metadata": {},
     "output_type": "execute_result"
    }
   ],
   "source": [
    "final = ''\n",
    "fi = ''\n",
    "for i, column in enumerate(data_2.drop('results', axis=1)):\n",
    "    print('Importance of feature {}:, {:.3f}'.format(column, dt.feature_importances_[i]))\n",
    "\n",
    "    fi = pd.DataFrame({'Variable': [column], 'Feature Importance Score': [dt.feature_importances_[i]]})\n",
    "\n",
    "    try:\n",
    "        final = pd.concat([final, fi], ignore_index=True)\n",
    "    except:\n",
    "        final = fi\n",
    "\n",
    "# Ordering the data\n",
    "final_fi = final.sort_values('Feature Importance Score', ascending=False).reset_index()\n",
    "final_fi"
   ]
  },
  {
   "cell_type": "code",
   "execution_count": 35,
   "metadata": {
    "pycharm": {
     "name": "#%%\n"
    }
   },
   "outputs": [
    {
     "name": "stdout",
     "output_type": "stream",
     "text": [
      "Training Accuracy is:  0.7798833819241983\n",
      "Testing Accuracy is:  0.7645348837209303\n"
     ]
    }
   ],
   "source": [
    "# Accuracy on Train\n",
    "print(\"Training Accuracy is: \", dt.score(X_train, Y_train))\n",
    "\n",
    "# Accuracy on Train\n",
    "print(\"Testing Accuracy is: \", dt.score(X_test, Y_test))"
   ]
  },
  {
   "cell_type": "code",
   "execution_count": 44,
   "metadata": {
    "pycharm": {
     "name": "#%%\n"
    }
   },
   "outputs": [
    {
     "name": "stdout",
     "output_type": "stream",
     "text": [
      "Training Accuracy is:  0.7798833819241983\n",
      "Testing Accuracy is:  0.7645348837209303\n"
     ]
    }
   ],
   "source": [
    "# Building a forest\n",
    "random_forest = RandomForestClassifier(n_estimators=100, random_state=9)\n",
    "random_forest.fit(X_train, Y_train)\n",
    "# prediction_test = random_forest.predict(X=X_test)\n",
    "\n",
    "# Accuracy on Test\n",
    "print(\"Training Accuracy is: \", random_forest.score(X_train, Y_train))\n",
    "# Accuracy on Train\n",
    "print(\"Testing Accuracy is: \", random_forest.score(X_test, Y_test))"
   ]
  },
  {
   "cell_type": "code",
   "execution_count": 45,
   "metadata": {
    "pycharm": {
     "name": "#%%\n"
    }
   },
   "outputs": [
    {
     "name": "stdout",
     "output_type": "stream",
     "text": [
      "Importance of feature Age:, 0.358\n",
      "Importance of feature Gender:, 0.064\n",
      "Importance of feature PSQI:, 0.106\n",
      "Importance of feature MEQ_type:, 0.472\n"
     ]
    },
    {
     "data": {
      "text/plain": "   index  Variable  Feature Importance Score\n0      3  MEQ_type                  0.471905\n1      0       Age                  0.358036\n2      2      PSQI                  0.106051\n3      1    Gender                  0.064007",
      "text/html": "<div>\n<style scoped>\n    .dataframe tbody tr th:only-of-type {\n        vertical-align: middle;\n    }\n\n    .dataframe tbody tr th {\n        vertical-align: top;\n    }\n\n    .dataframe thead th {\n        text-align: right;\n    }\n</style>\n<table border=\"1\" class=\"dataframe\">\n  <thead>\n    <tr style=\"text-align: right;\">\n      <th></th>\n      <th>index</th>\n      <th>Variable</th>\n      <th>Feature Importance Score</th>\n    </tr>\n  </thead>\n  <tbody>\n    <tr>\n      <th>0</th>\n      <td>3</td>\n      <td>MEQ_type</td>\n      <td>0.471905</td>\n    </tr>\n    <tr>\n      <th>1</th>\n      <td>0</td>\n      <td>Age</td>\n      <td>0.358036</td>\n    </tr>\n    <tr>\n      <th>2</th>\n      <td>2</td>\n      <td>PSQI</td>\n      <td>0.106051</td>\n    </tr>\n    <tr>\n      <th>3</th>\n      <td>1</td>\n      <td>Gender</td>\n      <td>0.064007</td>\n    </tr>\n  </tbody>\n</table>\n</div>"
     },
     "execution_count": 45,
     "metadata": {},
     "output_type": "execute_result"
    }
   ],
   "source": [
    "fi2 = ''\n",
    "final2 = ''\n",
    "\n",
    "for i, column in enumerate(data_2.drop('results', axis=1)):\n",
    "    print('Importance of feature {}:, {:.3f}'.format(column, random_forest.feature_importances_[i]))\n",
    "    fi2 = pd.DataFrame({'Variable': [column], 'Feature Importance Score': [random_forest.feature_importances_[i]]})\n",
    "\n",
    "    try:\n",
    "        final2 = pd.concat([final2, fi2], ignore_index=True)\n",
    "    except:\n",
    "        final2 = fi2\n",
    "\n",
    "# Ordering the data\n",
    "final_fi2 = final2.sort_values('Feature Importance Score', ascending=False).reset_index()\n",
    "final_fi2\n"
   ]
  }
 ],
 "metadata": {
  "kernelspec": {
   "display_name": "Python 3",
   "language": "python",
   "name": "python3"
  },
  "language_info": {
   "codemirror_mode": {
    "name": "ipython",
    "version": 3
   },
   "file_extension": ".py",
   "mimetype": "text/x-python",
   "name": "python",
   "nbconvert_exporter": "python",
   "pygments_lexer": "ipython3",
   "version": "3.8.8"
  }
 },
 "nbformat": 4,
 "nbformat_minor": 1
}