{
 "cells": [
  {
   "cell_type": "markdown",
   "metadata": {
    "collapsed": true,
    "pycharm": {
     "name": "#%% md\n"
    }
   },
   "source": [
    "# Predicting vigilance using machine learning\n",
    "## Random Forest Model 2\n",
    "Rosalie Lucas (6540384)\n",
    "\n",
    "This is the second model in my thesis Predicting vigilance using machine learning.\n",
    "In this model subjective measures and demographic data will be used.\n",
    "These are consistent within one participant and therefor could be over represented."
   ]
  },
  {
   "cell_type": "code",
   "execution_count": null,
   "outputs": [],
   "source": [
    "# Import Libraries needed\n",
    "import pandas as pd\n",
    "import os\n",
    "import numpy as np\n",
    "from matplotlib import pyplot as plt\n",
    "import seaborn as sns\n",
    "%matplotlib inline\n",
    "\n",
    "import warnings\n",
    "warnings.filterwarnings('ignore')\n",
    "\n",
    "\n",
    "from sklearn.model_selection import train_test_split\n",
    "from sklearn import tree\n",
    "from sklearn.tree import DecisionTreeClassifier, export_graphviz\n",
    "from sklearn.ensemble import RandomForestClassifier\n",
    "\n",
    "# Installed Graphviz using Pip3"
   ],
   "metadata": {
    "collapsed": false,
    "pycharm": {
     "name": "#%%\n"
    }
   }
  },
  {
   "cell_type": "code",
   "execution_count": null,
   "outputs": [],
   "source": [
    "data_file_path = '/Users/roos/Data/all_trials.csv'\n",
    "data_file = pd.read_csv(data_file_path)\n",
    "data_2 = data_file[['Age', 'Gender', 'PSQI', 'MEQ', 'results']]\n",
    "\n",
    "for column in data_2:  # Describe the amount of different features in each column (column is a feature)\n",
    "    unique_values = np.unique(data_2[column])\n",
    "    number_values = len(unique_values)\n",
    "    if number_values < 12:\n",
    "        print(\"The number of values for feature {} : {} -- {}\".format(column, number_values, unique_values))\n",
    "    else:\n",
    "        print(\"The number of values for feature {} : {}\".format(column, number_values))\n",
    "\n",
    "print(data_2.isnull().sum())"
   ],
   "metadata": {
    "collapsed": false,
    "pycharm": {
     "name": "#%%\n"
    }
   }
  },
  {
   "cell_type": "code",
   "execution_count": null,
   "outputs": [],
   "source": [
    "# Splitting the data\n",
    "X = data_2.drop('results', axis=1).values\n",
    "Y = data_2['results'].values\n",
    "print('X shape: {}'.format(np.shape(X)))\n",
    "print('Y shape: {}'.format(np.shape(Y)))\n",
    "\n",
    "X_train, X_test, Y_train, Y_test = train_test_split(X, Y, train_size=0.8, test_size=0.2, random_state=0)"
   ],
   "metadata": {
    "collapsed": false,
    "pycharm": {
     "name": "#%%\n"
    }
   }
  }
 ],
 "metadata": {
  "kernelspec": {
   "display_name": "Python 3",
   "language": "python",
   "name": "python3"
  },
  "language_info": {
   "codemirror_mode": {
    "name": "ipython",
    "version": 2
   },
   "file_extension": ".py",
   "mimetype": "text/x-python",
   "name": "python",
   "nbconvert_exporter": "python",
   "pygments_lexer": "ipython2",
   "version": "2.7.6"
  }
 },
 "nbformat": 4,
 "nbformat_minor": 0
}